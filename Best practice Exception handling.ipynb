{
 "cells": [
  {
   "cell_type": "code",
   "execution_count": 1,
   "id": "64aba4c2-94bd-42a2-9bc0-aa148fd1524a",
   "metadata": {},
   "outputs": [
    {
     "name": "stdout",
     "output_type": "stream",
     "text": [
      "division by zero\n"
     ]
    }
   ],
   "source": [
    "# use always a specific exception\n",
    "try :\n",
    "    10/0\n",
    "except Exception as e :\n",
    "    print(e)"
   ]
  },
  {
   "cell_type": "code",
   "execution_count": 2,
   "id": "8f2c9006-ccde-4bb1-a139-e7cb50addb88",
   "metadata": {},
   "outputs": [
    {
     "name": "stdout",
     "output_type": "stream",
     "text": [
      "division by zero\n"
     ]
    }
   ],
   "source": [
    "try :\n",
    "    10/0\n",
    "except ZeroDivisionError as e :\n",
    "    print(e)"
   ]
  },
  {
   "cell_type": "code",
   "execution_count": 3,
   "id": "f1a01ad7-843a-4a0c-965f-1cc4ec82b477",
   "metadata": {},
   "outputs": [
    {
     "name": "stdout",
     "output_type": "stream",
     "text": [
      "i am trying to handle a zero division error division by zero\n"
     ]
    }
   ],
   "source": [
    "# print always a proper msg\n",
    "try :\n",
    "    10/0\n",
    "except ZeroDivisionError as e :\n",
    "    print(\"i am trying to handle a zero division error\" ,e)\n"
   ]
  },
  {
   "cell_type": "code",
   "execution_count": 4,
   "id": "3efd77ee-b834-48b2-a644-4559e2854b85",
   "metadata": {},
   "outputs": [],
   "source": [
    "#always try to log your error\n",
    "import logging\n",
    "logging.basicConfig(filename= \"error.log\" , level = logging.ERROR)\n",
    "try :\n",
    "    10/0\n",
    "except ZeroDivisionError as e :\n",
    "    logging.error(\"i am trying to handle a zero division error {}\".format(e))\n",
    "  "
   ]
  },
  {
   "cell_type": "code",
   "execution_count": 8,
   "id": "a89e9dfd-b625-4516-a068-9e4ac8fd3e12",
   "metadata": {},
   "outputs": [],
   "source": [
    "# always avoid to write a multiple exception handling\n",
    "try :\n",
    "    10/0\n",
    "\n",
    "except FileNotFoundError as e :\n",
    "    logging.error(\"i am trying to handle a file not found error{}\".format(e))\n",
    "except AttributeError as e :\n",
    "    logging.error(\"i am trying to handle a attribute error {}\".format(e))  \n",
    "except ZeroDivisionError as e :\n",
    "    logging.error(\"i am trying to handle a zero division error {}\".format(e))\n",
    "  "
   ]
  },
  {
   "cell_type": "code",
   "execution_count": 9,
   "id": "1493f508-8e7b-4417-bac6-0bcc5aadbed9",
   "metadata": {},
   "outputs": [],
   "source": [
    "#Document all the error\n",
    "#Cleanup all the resources\n",
    "try :\n",
    "    with open(\"test.txt\" , 'w') as f :\n",
    "        f.write(\"this is my data to file\")\n",
    "\n",
    "except FileNotFoundError as e :\n",
    "    logging.error(\"i am trying to handle a file not found error{}\".format(e))\n",
    "finally :\n",
    "    f.close()"
   ]
  },
  {
   "cell_type": "code",
   "execution_count": null,
   "id": "55f185a2-47a0-48c3-ae37-36b9483b0597",
   "metadata": {},
   "outputs": [],
   "source": []
  }
 ],
 "metadata": {
  "kernelspec": {
   "display_name": "Python 3 (ipykernel)",
   "language": "python",
   "name": "python3"
  },
  "language_info": {
   "codemirror_mode": {
    "name": "ipython",
    "version": 3
   },
   "file_extension": ".py",
   "mimetype": "text/x-python",
   "name": "python",
   "nbconvert_exporter": "python",
   "pygments_lexer": "ipython3",
   "version": "3.10.8"
  }
 },
 "nbformat": 4,
 "nbformat_minor": 5
}
