{
 "cells": [
  {
   "cell_type": "code",
   "execution_count": 1,
   "id": "1e188f7c-fc02-439e-9632-00384e029d25",
   "metadata": {},
   "outputs": [],
   "source": [
    "class pwskills :\n",
    "    \n",
    "    def __init__(self , name , email) :\n",
    "        \n",
    "        self.name = name\n",
    "        self.email = email\n",
    "        \n",
    "    def students_details(self):\n",
    "        print(self.name,self.email)"
   ]
  },
  {
   "cell_type": "code",
   "execution_count": 2,
   "id": "b9ac6aba-524c-476f-9552-247103c06df9",
   "metadata": {},
   "outputs": [],
   "source": [
    "pw = pwskills(\"mohan\" , \"mohan@gmail.com\")"
   ]
  },
  {
   "cell_type": "code",
   "execution_count": 3,
   "id": "1c396464-5b49-4917-af6b-60c2db456929",
   "metadata": {},
   "outputs": [
    {
     "data": {
      "text/plain": [
       "'mohan'"
      ]
     },
     "execution_count": 3,
     "metadata": {},
     "output_type": "execute_result"
    }
   ],
   "source": [
    "pw.name"
   ]
  },
  {
   "cell_type": "code",
   "execution_count": 4,
   "id": "bb76fd67-6b3b-4f39-bea7-57d32463a546",
   "metadata": {},
   "outputs": [
    {
     "data": {
      "text/plain": [
       "'mohan@gmail.com'"
      ]
     },
     "execution_count": 4,
     "metadata": {},
     "output_type": "execute_result"
    }
   ],
   "source": [
    "pw.email"
   ]
  },
  {
   "cell_type": "code",
   "execution_count": 1,
   "id": "f9976ebd-576d-4b85-bcf3-4274198bc545",
   "metadata": {},
   "outputs": [],
   "source": [
    "class pwskills1 :\n",
    "    \n",
    "    def __init__(self , name , email) :\n",
    "        \n",
    "        self.name = name\n",
    "        self.email = email\n",
    "        \n",
    "        \n",
    "    @classmethod    \n",
    "    def details(cls , name, email):\n",
    "        return cls(name , email)\n",
    "        \n",
    "    def students_details(self):\n",
    "        print(self.name,self.email)"
   ]
  },
  {
   "cell_type": "code",
   "execution_count": 8,
   "id": "5064f701-cad8-41aa-9a3d-5b0f0db422ed",
   "metadata": {},
   "outputs": [],
   "source": [
    "pw1 = pwskills1.details(\"sarfraj\", \"smd305734@gmail.com\")"
   ]
  },
  {
   "cell_type": "code",
   "execution_count": 9,
   "id": "bb2c0770-103d-4f42-b931-fcc9a6e71d46",
   "metadata": {},
   "outputs": [
    {
     "data": {
      "text/plain": [
       "'sarfraj'"
      ]
     },
     "execution_count": 9,
     "metadata": {},
     "output_type": "execute_result"
    }
   ],
   "source": [
    "pw1.name"
   ]
  },
  {
   "cell_type": "code",
   "execution_count": 10,
   "id": "df9f2224-3854-46d7-b5e0-8baea4bb067a",
   "metadata": {},
   "outputs": [
    {
     "data": {
      "text/plain": [
       "'smd305734@gmail.com'"
      ]
     },
     "execution_count": 10,
     "metadata": {},
     "output_type": "execute_result"
    }
   ],
   "source": [
    "pw1.email"
   ]
  },
  {
   "cell_type": "code",
   "execution_count": 12,
   "id": "f0109d17-dc7d-4ad4-aa73-65a9a406a30b",
   "metadata": {},
   "outputs": [
    {
     "name": "stdout",
     "output_type": "stream",
     "text": [
      "sarfraj smd305734@gmail.com\n"
     ]
    }
   ],
   "source": [
    "pw1.students_details()"
   ]
  },
  {
   "cell_type": "code",
   "execution_count": 18,
   "id": "49e91304-6979-4a4f-925d-e6bb5e172c59",
   "metadata": {},
   "outputs": [],
   "source": [
    "class pwskills2 :\n",
    "    \n",
    "    mobile_num = 7320807031\n",
    "    \n",
    "    def __init__(self , name , email) :\n",
    "        \n",
    "        self.name = name\n",
    "        self.email = email\n",
    "    \n",
    "    @classmethod\n",
    "    def change_number(cls , mobile):\n",
    "        pwskills2.mobile_num = mobile\n",
    "        \n",
    "    @classmethod    \n",
    "    def details(cls , name, email):\n",
    "        return cls(name , email)\n",
    "        \n",
    "    def students_details(self):\n",
    "        print(self.name,self.email, pwskills2.mobile_num)"
   ]
  },
  {
   "cell_type": "code",
   "execution_count": 24,
   "id": "f96dffb9-54e4-4f45-a1d7-a3a6202a6709",
   "metadata": {},
   "outputs": [],
   "source": [
    "pw = pwskills2.details(\"rohan\" , \"rohan@gmail.com\")"
   ]
  },
  {
   "cell_type": "code",
   "execution_count": null,
   "id": "5abd4d4b-0752-4214-a2c0-a6bf35b1dcc7",
   "metadata": {},
   "outputs": [],
   "source": []
  },
  {
   "cell_type": "code",
   "execution_count": 23,
   "id": "11b518f5-177f-44ba-a4eb-70f6a7797bb7",
   "metadata": {},
   "outputs": [],
   "source": [
    "pw_obj= pwskills2(\"sarfraj\",\"smd305734@gmail.com\")"
   ]
  },
  {
   "cell_type": "code",
   "execution_count": 14,
   "id": "e3c115de-8fa5-4b84-a5f3-4c0d83b883b1",
   "metadata": {},
   "outputs": [
    {
     "data": {
      "text/plain": [
       "7320807031"
      ]
     },
     "execution_count": 14,
     "metadata": {},
     "output_type": "execute_result"
    }
   ],
   "source": [
    "pwskills2.mobile_num"
   ]
  },
  {
   "cell_type": "code",
   "execution_count": 16,
   "id": "c8e4beb8-3ec0-4a22-b331-b2e3a7ffeea5",
   "metadata": {},
   "outputs": [],
   "source": [
    "pwskills2.change_number(821084956)"
   ]
  },
  {
   "cell_type": "code",
   "execution_count": 17,
   "id": "1ed87d22-9fff-4416-9e38-5359fc33d7a1",
   "metadata": {},
   "outputs": [
    {
     "data": {
      "text/plain": [
       "821084956"
      ]
     },
     "execution_count": 17,
     "metadata": {},
     "output_type": "execute_result"
    }
   ],
   "source": [
    "pwskills2.mobile_num"
   ]
  },
  {
   "cell_type": "code",
   "execution_count": 25,
   "id": "ec86ea45-0ab8-46ff-a196-9c79806e8a96",
   "metadata": {},
   "outputs": [],
   "source": [
    "class pwskills3 :\n",
    "    \n",
    "    mobile_num = 7320807031\n",
    "    \n",
    "    def __init__(self , name , email) :\n",
    "        \n",
    "        self.name = name\n",
    "        self.email = email\n",
    "    \n",
    "    @classmethod\n",
    "    def change_number(cls , mobile):\n",
    "        pwskills2.mobile_num = mobile\n",
    "        \n",
    "    @classmethod    \n",
    "    def details(cls , name, email):\n",
    "        return cls(name , email)\n",
    "        \n",
    "    def students_details(self):\n",
    "        print(self.name,self.email, pwskills2.mobile_num)"
   ]
  },
  {
   "cell_type": "code",
   "execution_count": 26,
   "id": "4b247102-6145-4c5b-a5f5-38daa7cc71b5",
   "metadata": {},
   "outputs": [],
   "source": [
    "def course_details(cls,course_name) :\n",
    "    print(\"course name is \", course_name)"
   ]
  },
  {
   "cell_type": "code",
   "execution_count": 27,
   "id": "1e9b5486-b14b-4793-ae24-fb9fbed46eae",
   "metadata": {},
   "outputs": [],
   "source": [
    "pwskills3.course_details = classmethod(course_details)"
   ]
  },
  {
   "cell_type": "code",
   "execution_count": 28,
   "id": "3acfa60d-8f97-433f-8c44-93b5557a7d56",
   "metadata": {},
   "outputs": [
    {
     "name": "stdout",
     "output_type": "stream",
     "text": [
      "course name is  data science masters\n"
     ]
    }
   ],
   "source": [
    "pwskills3.course_details(\"data science masters\")"
   ]
  },
  {
   "cell_type": "code",
   "execution_count": 29,
   "id": "67069839-5ced-4b7a-b3f0-45c0abfea69a",
   "metadata": {},
   "outputs": [],
   "source": [
    "def mentor(cls, list_of_mentor) :\n",
    "    print(list_of_mentor)\n"
   ]
  },
  {
   "cell_type": "code",
   "execution_count": 30,
   "id": "e7c21dc4-db80-43e2-9353-a6998ea6f3fa",
   "metadata": {},
   "outputs": [],
   "source": [
    "pwskills3.mentor = classmethod(mentor)"
   ]
  },
  {
   "cell_type": "code",
   "execution_count": 34,
   "id": "be95dc08-2db2-4663-a81a-cd6cd9ab4f50",
   "metadata": {},
   "outputs": [
    {
     "name": "stdout",
     "output_type": "stream",
     "text": [
      "['sudhanshu kumar', 'krish naik']\n"
     ]
    }
   ],
   "source": [
    "pwskills3.mentor([\"sudhanshu kumar\",\"krish naik\"])"
   ]
  },
  {
   "cell_type": "code",
   "execution_count": 2,
   "id": "a431b6fb-f1d6-4026-b2ac-b99a14e907e5",
   "metadata": {},
   "outputs": [],
   "source": [
    "class pwskills4 :\n",
    "    \n",
    "    mobile_num = 7320807031\n",
    "    \n",
    "    def __init__(self , name , email) :\n",
    "        \n",
    "        self.name = name\n",
    "        self.email = email\n",
    "    \n",
    "    @classmethod\n",
    "    def change_number(cls , mobile):\n",
    "        pwskills2.mobile_num = mobile\n",
    "        \n",
    "    @classmethod    \n",
    "    def details(cls , name, email):\n",
    "        return cls(name , email)\n",
    "        \n",
    "    def students_details(self):\n",
    "        print(self.name,self.email, pwskills2.mobile_num)"
   ]
  },
  {
   "cell_type": "code",
   "execution_count": 3,
   "id": "97d28c03-ddcd-45f9-b63f-632da5a32ca0",
   "metadata": {},
   "outputs": [],
   "source": [
    "del pwskills4.change_number"
   ]
  },
  {
   "cell_type": "code",
   "execution_count": 4,
   "id": "c040d26e-4772-4d3d-9a08-6933670586d6",
   "metadata": {},
   "outputs": [
    {
     "ename": "AttributeError",
     "evalue": "type object 'pwskills4' has no attribute 'change_number'",
     "output_type": "error",
     "traceback": [
      "\u001b[0;31m---------------------------------------------------------------------------\u001b[0m",
      "\u001b[0;31mAttributeError\u001b[0m                            Traceback (most recent call last)",
      "Cell \u001b[0;32mIn[4], line 1\u001b[0m\n\u001b[0;32m----> 1\u001b[0m \u001b[43mpwskills4\u001b[49m\u001b[38;5;241;43m.\u001b[39;49m\u001b[43mchange_number\u001b[49m(\u001b[38;5;241m123456789\u001b[39m)\n",
      "\u001b[0;31mAttributeError\u001b[0m: type object 'pwskills4' has no attribute 'change_number'"
     ]
    }
   ],
   "source": [
    "pwskills4.change_number(123456789)"
   ]
  },
  {
   "cell_type": "code",
   "execution_count": 5,
   "id": "d23eebd1-c0f6-48eb-bf2d-148f85c240d8",
   "metadata": {},
   "outputs": [],
   "source": [
    "delattr(pwskills4 , \"details\")"
   ]
  },
  {
   "cell_type": "code",
   "execution_count": 6,
   "id": "4979ed21-5f75-4afe-aea1-b9b06e8f5aa2",
   "metadata": {},
   "outputs": [],
   "source": [
    "delattr(pwskills4 , \"students_details\")"
   ]
  },
  {
   "cell_type": "code",
   "execution_count": 7,
   "id": "6677af84-2124-42ec-b9e1-eae6643dea67",
   "metadata": {},
   "outputs": [],
   "source": [
    "delattr(pwskills4, \"mobile_num\")"
   ]
  },
  {
   "cell_type": "code",
   "execution_count": null,
   "id": "cdefede4-1776-4414-a17d-2920d1617567",
   "metadata": {},
   "outputs": [],
   "source": [
    "pwskills4."
   ]
  }
 ],
 "metadata": {
  "kernelspec": {
   "display_name": "Python 3 (ipykernel)",
   "language": "python",
   "name": "python3"
  },
  "language_info": {
   "codemirror_mode": {
    "name": "ipython",
    "version": 3
   },
   "file_extension": ".py",
   "mimetype": "text/x-python",
   "name": "python",
   "nbconvert_exporter": "python",
   "pygments_lexer": "ipython3",
   "version": "3.10.8"
  }
 },
 "nbformat": 4,
 "nbformat_minor": 5
}
