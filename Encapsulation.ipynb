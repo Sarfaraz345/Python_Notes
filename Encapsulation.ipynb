{
 "cells": [
  {
   "cell_type": "code",
   "execution_count": 1,
   "id": "6b3cc1bc-a6a1-476c-984d-9f44c8b6621d",
   "metadata": {},
   "outputs": [],
   "source": [
    "class test :\n",
    "    \n",
    "    def __init__(self , a ,b ):\n",
    "        self.a = a\n",
    "        self.b = b"
   ]
  },
  {
   "cell_type": "code",
   "execution_count": 2,
   "id": "a6c339af-880e-4ba8-8a53-f451f7770e04",
   "metadata": {},
   "outputs": [],
   "source": [
    "t = test(23,34)"
   ]
  },
  {
   "cell_type": "code",
   "execution_count": 3,
   "id": "22948a32-c537-4d5e-9e11-76f6587fc7eb",
   "metadata": {},
   "outputs": [],
   "source": [
    "t.a = 2344654"
   ]
  },
  {
   "cell_type": "code",
   "execution_count": 6,
   "id": "8861b81d-a727-4a81-8db2-a064d1be0a84",
   "metadata": {},
   "outputs": [
    {
     "data": {
      "text/plain": [
       "2344654"
      ]
     },
     "execution_count": 6,
     "metadata": {},
     "output_type": "execute_result"
    }
   ],
   "source": [
    "t.a"
   ]
  },
  {
   "cell_type": "code",
   "execution_count": 21,
   "id": "bda86e1a-8c58-47c1-8055-8245fff44af8",
   "metadata": {},
   "outputs": [],
   "source": [
    "class car :\n",
    "    def __init__(self , year , make, model , speed) :\n",
    "        \n",
    "        self.__year = year\n",
    "        self.__make = make\n",
    "        self.__model = model\n",
    "        self.__speed = 0\n",
    "    \n",
    "    def set_speed(self,speed) :\n",
    "        self.__speed = 0 if speed < 0 else speed\n",
    "        \n",
    "    def get_speed(self) :\n",
    "        return self.__speed"
   ]
  },
  {
   "cell_type": "code",
   "execution_count": 23,
   "id": "6abb3b4b-e7f7-4e5d-9a3a-da633d873812",
   "metadata": {},
   "outputs": [],
   "source": [
    "c = car(2021 , \"toyota\" , \"innova\" , 12)"
   ]
  },
  {
   "cell_type": "code",
   "execution_count": 24,
   "id": "2c932c69-ac99-4775-919e-c98c6bc6c9e8",
   "metadata": {},
   "outputs": [
    {
     "data": {
      "text/plain": [
       "2021"
      ]
     },
     "execution_count": 24,
     "metadata": {},
     "output_type": "execute_result"
    }
   ],
   "source": [
    "c._car__year"
   ]
  },
  {
   "cell_type": "code",
   "execution_count": 25,
   "id": "924f69bd-3d7b-4f19-87b7-a34c0b199645",
   "metadata": {},
   "outputs": [
    {
     "data": {
      "text/plain": [
       "'innova'"
      ]
     },
     "execution_count": 25,
     "metadata": {},
     "output_type": "execute_result"
    }
   ],
   "source": [
    "c._car__model"
   ]
  },
  {
   "cell_type": "code",
   "execution_count": 26,
   "id": "88cdf4a3-d957-4bee-b90f-6e5944939ed7",
   "metadata": {},
   "outputs": [],
   "source": [
    "c.set_speed(-356)"
   ]
  },
  {
   "cell_type": "code",
   "execution_count": 27,
   "id": "1ef7a504-ad86-4afa-9b0a-1259f8690ecb",
   "metadata": {},
   "outputs": [
    {
     "data": {
      "text/plain": [
       "0"
      ]
     },
     "execution_count": 27,
     "metadata": {},
     "output_type": "execute_result"
    }
   ],
   "source": [
    "c.get_speed()"
   ]
  },
  {
   "cell_type": "code",
   "execution_count": 28,
   "id": "4e73dfd1-c1a7-4b4a-9c30-011e3946781d",
   "metadata": {},
   "outputs": [],
   "source": [
    "c.set_speed(234)"
   ]
  },
  {
   "cell_type": "code",
   "execution_count": 29,
   "id": "4de00b44-101b-45e8-998b-4a0513db6817",
   "metadata": {},
   "outputs": [
    {
     "data": {
      "text/plain": [
       "234"
      ]
     },
     "execution_count": 29,
     "metadata": {},
     "output_type": "execute_result"
    }
   ],
   "source": [
    "c.get_speed()"
   ]
  },
  {
   "cell_type": "code",
   "execution_count": 31,
   "id": "9e7cc1d8-d6f4-44db-aa1b-64e5e4e7ea85",
   "metadata": {},
   "outputs": [],
   "source": [
    "class bank_account : \n",
    "    def __init__(self, balance) :\n",
    "        self.__balance = balance \n",
    "        \n",
    "    def deposit(self , amount) :\n",
    "        self.__balance = self.__balance + amount\n",
    "        \n",
    "    def withdraw(self , amount) :\n",
    "        if self.__balance >= amount :\n",
    "            self.__balance = self.__balance - amount \n",
    "            return True\n",
    "        else : \n",
    "            return False\n",
    "        \n",
    "    def get_balance(self) :\n",
    "        return self.__balance\n",
    "        "
   ]
  },
  {
   "cell_type": "code",
   "execution_count": 32,
   "id": "d94c6446-8070-4a69-a567-4d573e75810e",
   "metadata": {},
   "outputs": [],
   "source": [
    "sarfraj = bank_account(1000)"
   ]
  },
  {
   "cell_type": "code",
   "execution_count": 33,
   "id": "367c7dac-ed8c-492c-8949-68760897865e",
   "metadata": {},
   "outputs": [
    {
     "data": {
      "text/plain": [
       "1000"
      ]
     },
     "execution_count": 33,
     "metadata": {},
     "output_type": "execute_result"
    }
   ],
   "source": [
    "sarfraj.get_balance()"
   ]
  },
  {
   "cell_type": "code",
   "execution_count": 35,
   "id": "e6237f8d-4c51-4a8c-8380-f913288f4a94",
   "metadata": {},
   "outputs": [],
   "source": [
    "sarfraj.deposit(5000)"
   ]
  },
  {
   "cell_type": "code",
   "execution_count": 36,
   "id": "e1b064da-8aa0-4538-9df5-fc1f42d75b83",
   "metadata": {},
   "outputs": [
    {
     "data": {
      "text/plain": [
       "6000"
      ]
     },
     "execution_count": 36,
     "metadata": {},
     "output_type": "execute_result"
    }
   ],
   "source": [
    "sarfraj.get_balance()"
   ]
  },
  {
   "cell_type": "code",
   "execution_count": 37,
   "id": "5e0727d4-c740-4867-b2cb-9cf55a3a25e2",
   "metadata": {},
   "outputs": [],
   "source": [
    "sarfraj.deposit(1000)"
   ]
  },
  {
   "cell_type": "code",
   "execution_count": 38,
   "id": "fafa3963-cf1c-4a92-926e-31c975ba796b",
   "metadata": {},
   "outputs": [
    {
     "data": {
      "text/plain": [
       "7000"
      ]
     },
     "execution_count": 38,
     "metadata": {},
     "output_type": "execute_result"
    }
   ],
   "source": [
    "sarfraj.get_balance()"
   ]
  },
  {
   "cell_type": "code",
   "execution_count": 39,
   "id": "c0840865-3718-45c0-8f1d-c68e903d1e43",
   "metadata": {},
   "outputs": [
    {
     "data": {
      "text/plain": [
       "False"
      ]
     },
     "execution_count": 39,
     "metadata": {},
     "output_type": "execute_result"
    }
   ],
   "source": [
    "sarfraj.withdraw(9000)"
   ]
  },
  {
   "cell_type": "code",
   "execution_count": 40,
   "id": "a3f1bf43-d56b-4c18-a674-253a0d4fcfae",
   "metadata": {},
   "outputs": [
    {
     "data": {
      "text/plain": [
       "True"
      ]
     },
     "execution_count": 40,
     "metadata": {},
     "output_type": "execute_result"
    }
   ],
   "source": [
    "sarfraj.withdraw(5000)"
   ]
  },
  {
   "cell_type": "code",
   "execution_count": 41,
   "id": "06dff068-b63f-4bba-bc1e-484f7afb6b76",
   "metadata": {},
   "outputs": [
    {
     "data": {
      "text/plain": [
       "2000"
      ]
     },
     "execution_count": 41,
     "metadata": {},
     "output_type": "execute_result"
    }
   ],
   "source": [
    "sarfraj.get_balance()"
   ]
  },
  {
   "cell_type": "code",
   "execution_count": null,
   "id": "9532153a-5319-427d-955c-e8d2d33783aa",
   "metadata": {},
   "outputs": [],
   "source": []
  }
 ],
 "metadata": {
  "kernelspec": {
   "display_name": "Python 3 (ipykernel)",
   "language": "python",
   "name": "python3"
  },
  "language_info": {
   "codemirror_mode": {
    "name": "ipython",
    "version": 3
   },
   "file_extension": ".py",
   "mimetype": "text/x-python",
   "name": "python",
   "nbconvert_exporter": "python",
   "pygments_lexer": "ipython3",
   "version": "3.10.8"
  }
 },
 "nbformat": 4,
 "nbformat_minor": 5
}
