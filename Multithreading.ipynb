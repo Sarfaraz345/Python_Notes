{
 "cells": [
  {
   "cell_type": "code",
   "execution_count": 6,
   "id": "ef184761-b554-48e2-820e-99fb66e015c4",
   "metadata": {},
   "outputs": [],
   "source": [
    "import threading "
   ]
  },
  {
   "cell_type": "code",
   "execution_count": 8,
   "id": "4bfc1910-efe3-4082-9585-46358b2c3f41",
   "metadata": {},
   "outputs": [],
   "source": [
    "def test(id) :\n",
    "    print(\"prog start %d \"% id)"
   ]
  },
  {
   "cell_type": "code",
   "execution_count": 9,
   "id": "d5573f72-c3ca-478d-8b22-5d8b81275781",
   "metadata": {},
   "outputs": [
    {
     "name": "stdout",
     "output_type": "stream",
     "text": [
      "prog start 45 \n"
     ]
    }
   ],
   "source": [
    "test(45)"
   ]
  },
  {
   "cell_type": "code",
   "execution_count": 11,
   "id": "282d8475-59ba-43bf-a6c3-8c21d818aa8f",
   "metadata": {},
   "outputs": [],
   "source": [
    "thread = [threading.Thread(target=test , args=(i,)) for i in range(10)]"
   ]
  },
  {
   "cell_type": "code",
   "execution_count": 12,
   "id": "d382a69d-d25c-4e81-8537-94b87fb37b5a",
   "metadata": {},
   "outputs": [
    {
     "name": "stdout",
     "output_type": "stream",
     "text": [
      "prog start 0 \n",
      "prog start 1 \n",
      "prog start 2 \n",
      "prog start 3 \n",
      "prog start 4 \n",
      "prog start 5 \n",
      "prog start 6 \n",
      "prog start 7 \n",
      "prog start 8 \n",
      "prog start 9 \n"
     ]
    }
   ],
   "source": [
    "for t in thread :\n",
    "    t.start()"
   ]
  },
  {
   "cell_type": "code",
   "execution_count": 13,
   "id": "65f8bc98-4ca5-4e8d-aa91-a8f1f8e7aa80",
   "metadata": {},
   "outputs": [
    {
     "data": {
      "text/plain": [
       "[<Thread(Thread-5 (test), stopped 140567631619648)>,\n",
       " <Thread(Thread-6 (test), stopped 140567631619648)>,\n",
       " <Thread(Thread-7 (test), stopped 140567631619648)>,\n",
       " <Thread(Thread-8 (test), stopped 140567631619648)>,\n",
       " <Thread(Thread-9 (test), stopped 140567631619648)>,\n",
       " <Thread(Thread-10 (test), stopped 140567623226944)>,\n",
       " <Thread(Thread-11 (test), stopped 140567623226944)>,\n",
       " <Thread(Thread-12 (test), stopped 140567623226944)>,\n",
       " <Thread(Thread-13 (test), stopped 140567623226944)>,\n",
       " <Thread(Thread-14 (test), stopped 140567623226944)>]"
      ]
     },
     "execution_count": 13,
     "metadata": {},
     "output_type": "execute_result"
    }
   ],
   "source": [
    "thread"
   ]
  },
  {
   "cell_type": "code",
   "execution_count": 14,
   "id": "345d8da5-0439-4d7f-b054-0947dd4eda13",
   "metadata": {},
   "outputs": [
    {
     "data": {
      "text/plain": [
       "140567975073152"
      ]
     },
     "execution_count": 14,
     "metadata": {},
     "output_type": "execute_result"
    }
   ],
   "source": [
    "id(thread)"
   ]
  },
  {
   "cell_type": "code",
   "execution_count": 15,
   "id": "d10b5010-7ad9-4425-a0c8-7f6fbed9b3e6",
   "metadata": {},
   "outputs": [],
   "source": [
    "import threading \n",
    "import urllib.request\n",
    "\n",
    "def file_download(url , filename) :\n",
    "    urllib.request.urlretrieve(url , filename)"
   ]
  },
  {
   "cell_type": "code",
   "execution_count": 16,
   "id": "87c5612e-fac5-4213-a15a-0478a316be9b",
   "metadata": {},
   "outputs": [],
   "source": [
    "file_download(\"https://github.com/Sarfaraz345/Pwskills-AssQ/blob/main/13%20Feb_AssQ.ipynb\", \"test.txt\")"
   ]
  },
  {
   "cell_type": "code",
   "execution_count": 17,
   "id": "9fdbfb20-a658-419a-aebf-6e820233cf9d",
   "metadata": {},
   "outputs": [],
   "source": [
    "url_list = [\"https://github.com/Sarfaraz345/Pwskills-AssQ/blob/main/13%20Feb_AssQ.ipynb\",\"https://github.com/Sarfaraz345/Pwskills-AssQ/blob/main/12%20Feb%20AssQ.ipynb\",\"https://github.com/Sarfaraz345/08-Feb-Assignment/blob/main/08%20Feb_AssQ..ipynb\"]"
   ]
  },
  {
   "cell_type": "code",
   "execution_count": 18,
   "id": "f7cad455-6c5a-48ad-9e0f-78fb880a624a",
   "metadata": {},
   "outputs": [
    {
     "data": {
      "text/plain": [
       "['https://github.com/Sarfaraz345/Pwskills-AssQ/blob/main/13%20Feb_AssQ.ipynb',\n",
       " 'https://github.com/Sarfaraz345/Pwskills-AssQ/blob/main/12%20Feb%20AssQ.ipynb',\n",
       " 'https://github.com/Sarfaraz345/08-Feb-Assignment/blob/main/08%20Feb_AssQ..ipynb']"
      ]
     },
     "execution_count": 18,
     "metadata": {},
     "output_type": "execute_result"
    }
   ],
   "source": [
    "url_list"
   ]
  },
  {
   "cell_type": "code",
   "execution_count": 19,
   "id": "d44b9cbe-575a-49bf-b7b7-b57fd6120ff8",
   "metadata": {},
   "outputs": [],
   "source": [
    "file_name_list = ['data1.txt', 'data2.txt' , 'data3.txt']"
   ]
  },
  {
   "cell_type": "code",
   "execution_count": 25,
   "id": "b68e5b2c-93ac-439e-8c11-6a4a974e788b",
   "metadata": {},
   "outputs": [],
   "source": [
    "ther = [threading.Thread(target = file_download , args = (url_list , file_name_list[i])) for i in range(len(url_list))]"
   ]
  },
  {
   "cell_type": "code",
   "execution_count": 26,
   "id": "65ef2753-eaeb-4684-831f-6470c42a699a",
   "metadata": {},
   "outputs": [
    {
     "data": {
      "text/plain": [
       "[<Thread(Thread-15 (file_download), initial)>,\n",
       " <Thread(Thread-16 (file_download), initial)>,\n",
       " <Thread(Thread-17 (file_download), initial)>]"
      ]
     },
     "execution_count": 26,
     "metadata": {},
     "output_type": "execute_result"
    }
   ],
   "source": [
    "ther"
   ]
  },
  {
   "cell_type": "code",
   "execution_count": 27,
   "id": "9a2bbd4b-0ef0-4b0d-beea-62ae48ecde79",
   "metadata": {},
   "outputs": [
    {
     "name": "stderr",
     "output_type": "stream",
     "text": [
      "Exception in thread Thread-15 (file_download):\n",
      "Traceback (most recent call last):\n",
      "  File \"/opt/conda/lib/python3.10/threading.py\", line 1016, in _bootstrap_inner\n",
      "Exception in thread Thread-16 (file_download):\n",
      "Traceback (most recent call last):\n",
      "  File \"/opt/conda/lib/python3.10/threading.py\", line 1016, in _bootstrap_inner\n",
      "    self.run()\n",
      "  File \"/opt/conda/lib/python3.10/threading.py\", line 953, in run\n",
      "Exception in thread Thread-17 (file_download):\n",
      "Traceback (most recent call last):\n",
      "  File \"/opt/conda/lib/python3.10/threading.py\", line 1016, in _bootstrap_inner\n",
      "    self.run()\n",
      "  File \"/opt/conda/lib/python3.10/threading.py\", line 953, in run\n",
      "    self._target(*self._args, **self._kwargs)\n",
      "  File \"/tmp/ipykernel_1141/2137817282.py\", line 5, in file_download\n",
      "    self._target(*self._args, **self._kwargs)\n",
      "  File \"/tmp/ipykernel_1141/2137817282.py\", line 5, in file_download\n",
      "  File \"/opt/conda/lib/python3.10/urllib/request.py\", line 239, in urlretrieve\n",
      "  File \"/opt/conda/lib/python3.10/urllib/request.py\", line 239, in urlretrieve\n",
      "    self.run()\n",
      "  File \"/opt/conda/lib/python3.10/threading.py\", line 953, in run\n",
      "    url_type, path = _splittype(url)\n",
      "  File \"/opt/conda/lib/python3.10/urllib/parse.py\", line 1039, in _splittype\n",
      "    self._target(*self._args, **self._kwargs)\n",
      "  File \"/tmp/ipykernel_1141/2137817282.py\", line 5, in file_download\n",
      "    match = _typeprog.match(url)\n",
      "TypeError: expected string or bytes-like object\n",
      "    url_type, path = _splittype(url)\n",
      "  File \"/opt/conda/lib/python3.10/urllib/parse.py\", line 1039, in _splittype\n",
      "  File \"/opt/conda/lib/python3.10/urllib/request.py\", line 239, in urlretrieve\n",
      "    url_type, path = _splittype(url)\n",
      "  File \"/opt/conda/lib/python3.10/urllib/parse.py\", line 1039, in _splittype\n",
      "    match = _typeprog.match(url)\n",
      "TypeError: expected string or bytes-like object\n",
      "    match = _typeprog.match(url)\n",
      "TypeError: expected string or bytes-like object\n"
     ]
    }
   ],
   "source": [
    "for t in ther :\n",
    "    t.start()"
   ]
  },
  {
   "cell_type": "code",
   "execution_count": null,
   "id": "77ffa480-6155-4ce8-bbeb-78890d6456fc",
   "metadata": {},
   "outputs": [],
   "source": []
  }
 ],
 "metadata": {
  "kernelspec": {
   "display_name": "Python 3 (ipykernel)",
   "language": "python",
   "name": "python3"
  },
  "language_info": {
   "codemirror_mode": {
    "name": "ipython",
    "version": 3
   },
   "file_extension": ".py",
   "mimetype": "text/x-python",
   "name": "python",
   "nbconvert_exporter": "python",
   "pygments_lexer": "ipython3",
   "version": "3.10.8"
  }
 },
 "nbformat": 4,
 "nbformat_minor": 5
}
