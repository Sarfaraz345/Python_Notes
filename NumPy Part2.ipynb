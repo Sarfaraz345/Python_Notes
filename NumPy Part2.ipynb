{
 "cells": [
  {
   "cell_type": "markdown",
   "id": "ee0c3c65-7741-4692-9a96-51eab7e4590e",
   "metadata": {},
   "source": [
    "# Numpy - Array Manipulation"
   ]
  },
  {
   "cell_type": "code",
   "execution_count": 1,
   "id": "c8b7db7f-111f-40d9-afa7-35f7074382a8",
   "metadata": {},
   "outputs": [],
   "source": [
    "import numpy as np"
   ]
  },
  {
   "cell_type": "code",
   "execution_count": 2,
   "id": "eb6bdba4-56b5-4a5c-8b3f-c113aef62ef7",
   "metadata": {},
   "outputs": [],
   "source": [
    "arr= np.random.randint(1,10 , (3,4)) "
   ]
  },
  {
   "cell_type": "code",
   "execution_count": 3,
   "id": "98127e30-a00d-4c2d-87e0-d87f13efcc63",
   "metadata": {},
   "outputs": [
    {
     "data": {
      "text/plain": [
       "array([[6, 3, 9, 2],\n",
       "       [1, 6, 9, 8],\n",
       "       [3, 1, 5, 7]])"
      ]
     },
     "execution_count": 3,
     "metadata": {},
     "output_type": "execute_result"
    }
   ],
   "source": [
    "arr"
   ]
  },
  {
   "cell_type": "code",
   "execution_count": 4,
   "id": "fa4604c8-5f88-40cb-a71b-5d9acf4069e7",
   "metadata": {},
   "outputs": [
    {
     "data": {
      "text/plain": [
       "array([[6, 3],\n",
       "       [9, 2],\n",
       "       [1, 6],\n",
       "       [9, 8],\n",
       "       [3, 1],\n",
       "       [5, 7]])"
      ]
     },
     "execution_count": 4,
     "metadata": {},
     "output_type": "execute_result"
    }
   ],
   "source": [
    "arr.reshape(6,2)"
   ]
  },
  {
   "cell_type": "code",
   "execution_count": 5,
   "id": "277d5427-5a69-4502-a896-d241825d9bde",
   "metadata": {},
   "outputs": [
    {
     "data": {
      "text/plain": [
       "array([[6, 3, 9, 2, 1, 6],\n",
       "       [9, 8, 3, 1, 5, 7]])"
      ]
     },
     "execution_count": 5,
     "metadata": {},
     "output_type": "execute_result"
    }
   ],
   "source": [
    "arr.reshape(2,6)"
   ]
  },
  {
   "cell_type": "code",
   "execution_count": 6,
   "id": "7245e019-c5a5-41ce-8906-1e04cd529981",
   "metadata": {},
   "outputs": [
    {
     "data": {
      "text/plain": [
       "array([[6, 3, 9, 2],\n",
       "       [1, 6, 9, 8],\n",
       "       [3, 1, 5, 7]])"
      ]
     },
     "execution_count": 6,
     "metadata": {},
     "output_type": "execute_result"
    }
   ],
   "source": [
    "arr"
   ]
  },
  {
   "cell_type": "code",
   "execution_count": 7,
   "id": "038109c2-17be-4a0e-a1e9-8e0f00156f52",
   "metadata": {},
   "outputs": [
    {
     "data": {
      "text/plain": [
       "array([[6, 1, 3],\n",
       "       [3, 6, 1],\n",
       "       [9, 9, 5],\n",
       "       [2, 8, 7]])"
      ]
     },
     "execution_count": 7,
     "metadata": {},
     "output_type": "execute_result"
    }
   ],
   "source": [
    "arr.T"
   ]
  },
  {
   "cell_type": "code",
   "execution_count": 8,
   "id": "6a2bb5c8-c6f2-4a56-b0db-a425513b754b",
   "metadata": {},
   "outputs": [
    {
     "data": {
      "text/plain": [
       "array([6, 3, 9, 2, 1, 6, 9, 8, 3, 1, 5, 7])"
      ]
     },
     "execution_count": 8,
     "metadata": {},
     "output_type": "execute_result"
    }
   ],
   "source": [
    "arr.flatten()"
   ]
  },
  {
   "cell_type": "code",
   "execution_count": 9,
   "id": "dc4d675d-4821-462d-b17d-d6228105935a",
   "metadata": {},
   "outputs": [],
   "source": [
    "arr1 = np.array([1,2,3,4,4])"
   ]
  },
  {
   "cell_type": "code",
   "execution_count": 10,
   "id": "7741875b-dc98-45bb-a72f-eb1e0a65fdde",
   "metadata": {},
   "outputs": [
    {
     "data": {
      "text/plain": [
       "1"
      ]
     },
     "execution_count": 10,
     "metadata": {},
     "output_type": "execute_result"
    }
   ],
   "source": [
    "arr1.ndim"
   ]
  },
  {
   "cell_type": "code",
   "execution_count": 11,
   "id": "1c853321-4ec6-4775-a501-743da7ba15fa",
   "metadata": {},
   "outputs": [
    {
     "data": {
      "text/plain": [
       "array([[1],\n",
       "       [2],\n",
       "       [3],\n",
       "       [4],\n",
       "       [4]])"
      ]
     },
     "execution_count": 11,
     "metadata": {},
     "output_type": "execute_result"
    }
   ],
   "source": [
    "np.expand_dims(arr1 , axis = 1)"
   ]
  },
  {
   "cell_type": "code",
   "execution_count": 12,
   "id": "46545da3-b315-4e1d-bf04-14d613428818",
   "metadata": {},
   "outputs": [
    {
     "data": {
      "text/plain": [
       "array([[1, 2, 3, 4, 4]])"
      ]
     },
     "execution_count": 12,
     "metadata": {},
     "output_type": "execute_result"
    }
   ],
   "source": [
    "np.expand_dims(arr1 , axis = 0)"
   ]
  },
  {
   "cell_type": "code",
   "execution_count": 13,
   "id": "40f19cd3-0f81-43c4-a2a3-c02902b609d0",
   "metadata": {},
   "outputs": [
    {
     "data": {
      "text/plain": [
       "array([[6, 3, 9, 2],\n",
       "       [1, 6, 9, 8],\n",
       "       [3, 1, 5, 7]])"
      ]
     },
     "execution_count": 13,
     "metadata": {},
     "output_type": "execute_result"
    }
   ],
   "source": [
    "arr"
   ]
  },
  {
   "cell_type": "code",
   "execution_count": 14,
   "id": "17e8d2c0-ddd2-4462-80ad-a868bfd63eeb",
   "metadata": {},
   "outputs": [
    {
     "data": {
      "text/plain": [
       "array([[6, 3, 9, 2],\n",
       "       [1, 6, 9, 8],\n",
       "       [3, 1, 5, 7]])"
      ]
     },
     "execution_count": 14,
     "metadata": {},
     "output_type": "execute_result"
    }
   ],
   "source": [
    "np.squeeze(arr)"
   ]
  },
  {
   "cell_type": "code",
   "execution_count": 15,
   "id": "70e9e24d-13e4-468d-84c6-85623216dac8",
   "metadata": {},
   "outputs": [],
   "source": [
    "data = np.array([[1],[2],[3]])"
   ]
  },
  {
   "cell_type": "code",
   "execution_count": 16,
   "id": "f36c7c02-86e0-4060-94b0-9f620ef3f993",
   "metadata": {},
   "outputs": [
    {
     "data": {
      "text/plain": [
       "array([1, 2, 3])"
      ]
     },
     "execution_count": 16,
     "metadata": {},
     "output_type": "execute_result"
    }
   ],
   "source": [
    "np.squeeze(data)"
   ]
  },
  {
   "cell_type": "code",
   "execution_count": 17,
   "id": "c05d7644-3ddb-4d6d-9c40-300f3e5df07f",
   "metadata": {},
   "outputs": [
    {
     "data": {
      "text/plain": [
       "array([1, 2, 3, 4, 4])"
      ]
     },
     "execution_count": 17,
     "metadata": {},
     "output_type": "execute_result"
    }
   ],
   "source": [
    "arr1"
   ]
  },
  {
   "cell_type": "code",
   "execution_count": 18,
   "id": "6fe799b7-22cb-4139-b341-7691bc74d15e",
   "metadata": {},
   "outputs": [
    {
     "data": {
      "text/plain": [
       "array([1, 1, 1, 2, 2, 2, 3, 3, 3, 4, 4, 4, 4, 4, 4])"
      ]
     },
     "execution_count": 18,
     "metadata": {},
     "output_type": "execute_result"
    }
   ],
   "source": [
    "np.repeat(arr1, 3)"
   ]
  },
  {
   "cell_type": "code",
   "execution_count": 19,
   "id": "d952327f-8fea-4f42-8580-43a3b01d41b2",
   "metadata": {},
   "outputs": [
    {
     "data": {
      "text/plain": [
       "array([4, 4, 1, 2, 3])"
      ]
     },
     "execution_count": 19,
     "metadata": {},
     "output_type": "execute_result"
    }
   ],
   "source": [
    "np.roll(arr1 , 2)"
   ]
  },
  {
   "cell_type": "code",
   "execution_count": 20,
   "id": "f55b4d16-420f-4575-a984-33eaaa5c0f1f",
   "metadata": {},
   "outputs": [
    {
     "data": {
      "text/plain": [
       "array([[1, 0, 0, 0, 0],\n",
       "       [0, 2, 0, 0, 0],\n",
       "       [0, 0, 3, 0, 0],\n",
       "       [0, 0, 0, 4, 0],\n",
       "       [0, 0, 0, 0, 4]])"
      ]
     },
     "execution_count": 20,
     "metadata": {},
     "output_type": "execute_result"
    }
   ],
   "source": [
    "np.diag(arr1)"
   ]
  },
  {
   "cell_type": "markdown",
   "id": "19058434-5faa-4bbf-8cb6-369786242021",
   "metadata": {},
   "source": [
    "# Numpy - Binary Operators"
   ]
  },
  {
   "cell_type": "code",
   "execution_count": 21,
   "id": "4a230edc-8a7f-401b-b59c-f20e7d951eef",
   "metadata": {},
   "outputs": [],
   "source": [
    "arr1 = np.random.randint(1,10, (3,4))"
   ]
  },
  {
   "cell_type": "code",
   "execution_count": 22,
   "id": "cb81422d-58ea-4279-b9f5-ba7574a44a4b",
   "metadata": {},
   "outputs": [],
   "source": [
    "arr2 = np.random.randint(1,10, (3,4))"
   ]
  },
  {
   "cell_type": "code",
   "execution_count": 23,
   "id": "66f487f9-3fe3-4c9c-9032-759501582a3f",
   "metadata": {},
   "outputs": [
    {
     "data": {
      "text/plain": [
       "array([[1, 3, 8, 6],\n",
       "       [6, 6, 9, 8],\n",
       "       [4, 9, 2, 6]])"
      ]
     },
     "execution_count": 23,
     "metadata": {},
     "output_type": "execute_result"
    }
   ],
   "source": [
    "arr1"
   ]
  },
  {
   "cell_type": "code",
   "execution_count": 24,
   "id": "5a513975-d910-4f60-aa1c-39459b162aee",
   "metadata": {},
   "outputs": [
    {
     "data": {
      "text/plain": [
       "array([[5, 6, 2, 3],\n",
       "       [2, 2, 5, 6],\n",
       "       [1, 8, 9, 4]])"
      ]
     },
     "execution_count": 24,
     "metadata": {},
     "output_type": "execute_result"
    }
   ],
   "source": [
    "arr2"
   ]
  },
  {
   "cell_type": "code",
   "execution_count": 25,
   "id": "93dfebe1-a984-4ed1-8be9-d3404dcf295b",
   "metadata": {},
   "outputs": [
    {
     "data": {
      "text/plain": [
       "array([[ 6,  9, 10,  9],\n",
       "       [ 8,  8, 14, 14],\n",
       "       [ 5, 17, 11, 10]])"
      ]
     },
     "execution_count": 25,
     "metadata": {},
     "output_type": "execute_result"
    }
   ],
   "source": [
    "arr1+arr2"
   ]
  },
  {
   "cell_type": "code",
   "execution_count": 26,
   "id": "9d9771be-2a9e-4d9b-9964-856e82adc3e5",
   "metadata": {},
   "outputs": [
    {
     "data": {
      "text/plain": [
       "array([[ 5, 18, 16, 18],\n",
       "       [12, 12, 45, 48],\n",
       "       [ 4, 72, 18, 24]])"
      ]
     },
     "execution_count": 26,
     "metadata": {},
     "output_type": "execute_result"
    }
   ],
   "source": [
    "arr1*arr2"
   ]
  },
  {
   "cell_type": "code",
   "execution_count": 27,
   "id": "b4cb4589-2949-4964-ae1a-a73bda80684b",
   "metadata": {},
   "outputs": [
    {
     "data": {
      "text/plain": [
       "array([[0.2       , 0.5       , 4.        , 2.        ],\n",
       "       [3.        , 3.        , 1.8       , 1.33333333],\n",
       "       [4.        , 1.125     , 0.22222222, 1.5       ]])"
      ]
     },
     "execution_count": 27,
     "metadata": {},
     "output_type": "execute_result"
    }
   ],
   "source": [
    "arr1/arr2"
   ]
  },
  {
   "cell_type": "code",
   "execution_count": 28,
   "id": "da5c2e3f-5bbd-4401-a4b6-0a54d6a4afb1",
   "metadata": {},
   "outputs": [
    {
     "data": {
      "text/plain": [
       "array([[-4, -3,  6,  3],\n",
       "       [ 4,  4,  4,  2],\n",
       "       [ 3,  1, -7,  2]])"
      ]
     },
     "execution_count": 28,
     "metadata": {},
     "output_type": "execute_result"
    }
   ],
   "source": [
    "arr1-arr2"
   ]
  },
  {
   "cell_type": "code",
   "execution_count": 30,
   "id": "ef8ca964-c452-4b7a-979c-0cbf4c855139",
   "metadata": {},
   "outputs": [
    {
     "data": {
      "text/plain": [
       "array([[1, 3, 0, 0],\n",
       "       [0, 0, 4, 2],\n",
       "       [0, 1, 2, 2]])"
      ]
     },
     "execution_count": 30,
     "metadata": {},
     "output_type": "execute_result"
    }
   ],
   "source": [
    "#remainder operation\n",
    "arr1%arr2"
   ]
  },
  {
   "cell_type": "code",
   "execution_count": 31,
   "id": "fa6bdf20-5c60-4f84-b556-92a462e2315d",
   "metadata": {},
   "outputs": [
    {
     "data": {
      "text/plain": [
       "array([[       1,      729,       64,      216],\n",
       "       [      36,       36,    59049,   262144],\n",
       "       [       4, 43046721,      512,     1296]])"
      ]
     },
     "execution_count": 31,
     "metadata": {},
     "output_type": "execute_result"
    }
   ],
   "source": [
    "arr1 ** arr2"
   ]
  },
  {
   "cell_type": "code",
   "execution_count": 32,
   "id": "6f6d2c49-8b36-42ca-a8f6-1dd7c80d56b9",
   "metadata": {},
   "outputs": [
    {
     "data": {
      "text/plain": [
       "array([[1, 2, 0, 2],\n",
       "       [2, 2, 1, 0],\n",
       "       [0, 8, 0, 4]])"
      ]
     },
     "execution_count": 32,
     "metadata": {},
     "output_type": "execute_result"
    }
   ],
   "source": [
    "arr1 & arr2"
   ]
  },
  {
   "cell_type": "code",
   "execution_count": 33,
   "id": "11a6591a-228b-4439-8e32-f25559849695",
   "metadata": {},
   "outputs": [
    {
     "data": {
      "text/plain": [
       "array([[1, 3, 8, 6],\n",
       "       [6, 6, 9, 8],\n",
       "       [4, 9, 2, 6]])"
      ]
     },
     "execution_count": 33,
     "metadata": {},
     "output_type": "execute_result"
    }
   ],
   "source": [
    "arr1"
   ]
  },
  {
   "cell_type": "code",
   "execution_count": 34,
   "id": "ee79e7d0-de99-462e-8a98-00f86acfb87c",
   "metadata": {},
   "outputs": [
    {
     "data": {
      "text/plain": [
       "array([[5, 6, 2, 3],\n",
       "       [2, 2, 5, 6],\n",
       "       [1, 8, 9, 4]])"
      ]
     },
     "execution_count": 34,
     "metadata": {},
     "output_type": "execute_result"
    }
   ],
   "source": [
    "arr2"
   ]
  },
  {
   "cell_type": "code",
   "execution_count": 35,
   "id": "c99e86f0-ed69-430c-89d2-47c928be09f3",
   "metadata": {},
   "outputs": [
    {
     "data": {
      "text/plain": [
       "array([[-1, -3, -8, -6],\n",
       "       [-6, -6, -9, -8],\n",
       "       [-4, -9, -2, -6]])"
      ]
     },
     "execution_count": 35,
     "metadata": {},
     "output_type": "execute_result"
    }
   ],
   "source": [
    "-arr1"
   ]
  },
  {
   "cell_type": "code",
   "execution_count": 36,
   "id": "10ffc6f1-7eeb-4940-a116-d1546bd3a69c",
   "metadata": {},
   "outputs": [
    {
     "data": {
      "text/plain": [
       "array([[ 5,  7, 10,  7],\n",
       "       [ 6,  6, 13, 14],\n",
       "       [ 5,  9, 11,  6]])"
      ]
     },
     "execution_count": 36,
     "metadata": {},
     "output_type": "execute_result"
    }
   ],
   "source": [
    "arr1|arr2"
   ]
  },
  {
   "cell_type": "code",
   "execution_count": 37,
   "id": "9956789e-038e-4535-86ee-b6ba035cd2c3",
   "metadata": {},
   "outputs": [
    {
     "data": {
      "text/plain": [
       "array([[False, False,  True,  True],\n",
       "       [ True,  True,  True,  True],\n",
       "       [ True,  True, False,  True]])"
      ]
     },
     "execution_count": 37,
     "metadata": {},
     "output_type": "execute_result"
    }
   ],
   "source": [
    "arr1>arr2"
   ]
  },
  {
   "cell_type": "markdown",
   "id": "d703f0d4-dde9-4f20-be97-f113d341fe83",
   "metadata": {},
   "source": [
    "# Numpy - String Function "
   ]
  },
  {
   "cell_type": "code",
   "execution_count": 39,
   "id": "34971a4c-e717-4fde-b20c-d84de84660ff",
   "metadata": {},
   "outputs": [],
   "source": [
    "arr = np.array(['sarfraj','sheikh'])"
   ]
  },
  {
   "cell_type": "code",
   "execution_count": 40,
   "id": "95f08fd1-6fac-42f4-8425-05c567e8e2a7",
   "metadata": {},
   "outputs": [
    {
     "data": {
      "text/plain": [
       "array(['sarfraj', 'sheikh'], dtype='<U7')"
      ]
     },
     "execution_count": 40,
     "metadata": {},
     "output_type": "execute_result"
    }
   ],
   "source": [
    "arr"
   ]
  },
  {
   "cell_type": "code",
   "execution_count": 41,
   "id": "0308e02f-86bb-4f71-ba3d-d2d0f07155ae",
   "metadata": {},
   "outputs": [
    {
     "data": {
      "text/plain": [
       "array(['SARFRAJ', 'SHEIKH'], dtype='<U7')"
      ]
     },
     "execution_count": 41,
     "metadata": {},
     "output_type": "execute_result"
    }
   ],
   "source": [
    "np.char.upper(arr)"
   ]
  },
  {
   "cell_type": "code",
   "execution_count": 42,
   "id": "e8e42a8d-d33b-48bc-af4c-14698951e812",
   "metadata": {},
   "outputs": [
    {
     "data": {
      "text/plain": [
       "array(['Sarfraj', 'Sheikh'], dtype='<U7')"
      ]
     },
     "execution_count": 42,
     "metadata": {},
     "output_type": "execute_result"
    }
   ],
   "source": [
    "np.char.title(arr)"
   ]
  },
  {
   "cell_type": "code",
   "execution_count": 43,
   "id": "0ed98e09-c1e6-4d88-a55f-e703beac6231",
   "metadata": {},
   "outputs": [
    {
     "data": {
      "text/plain": [
       "array(['Sarfraj', 'Sheikh'], dtype='<U7')"
      ]
     },
     "execution_count": 43,
     "metadata": {},
     "output_type": "execute_result"
    }
   ],
   "source": [
    "np.char.capitalize(arr)"
   ]
  },
  {
   "cell_type": "markdown",
   "id": "3be0dd09-9b5a-4fc8-a3e3-59074e898836",
   "metadata": {},
   "source": [
    "# Numpy - Mathematical Function"
   ]
  },
  {
   "cell_type": "code",
   "execution_count": 44,
   "id": "ab205f5c-c51b-4c82-acae-588c6e0ada99",
   "metadata": {},
   "outputs": [
    {
     "data": {
      "text/plain": [
       "array([[1, 3, 8, 6],\n",
       "       [6, 6, 9, 8],\n",
       "       [4, 9, 2, 6]])"
      ]
     },
     "execution_count": 44,
     "metadata": {},
     "output_type": "execute_result"
    }
   ],
   "source": [
    "arr1"
   ]
  },
  {
   "cell_type": "code",
   "execution_count": 45,
   "id": "35130467-0aca-439f-99cf-416230635ba5",
   "metadata": {},
   "outputs": [
    {
     "data": {
      "text/plain": [
       "array([[ 0.84147098,  0.14112001,  0.98935825, -0.2794155 ],\n",
       "       [-0.2794155 , -0.2794155 ,  0.41211849,  0.98935825],\n",
       "       [-0.7568025 ,  0.41211849,  0.90929743, -0.2794155 ]])"
      ]
     },
     "execution_count": 45,
     "metadata": {},
     "output_type": "execute_result"
    }
   ],
   "source": [
    "np.sin(arr1)"
   ]
  },
  {
   "cell_type": "code",
   "execution_count": 46,
   "id": "ffd23654-ecff-4e4f-9998-ce1a3093f047",
   "metadata": {},
   "outputs": [
    {
     "data": {
      "text/plain": [
       "array([[ 0.54030231, -0.9899925 , -0.14550003,  0.96017029],\n",
       "       [ 0.96017029,  0.96017029, -0.91113026, -0.14550003],\n",
       "       [-0.65364362, -0.91113026, -0.41614684,  0.96017029]])"
      ]
     },
     "execution_count": 46,
     "metadata": {},
     "output_type": "execute_result"
    }
   ],
   "source": [
    "np.cos(arr1)"
   ]
  },
  {
   "cell_type": "code",
   "execution_count": 47,
   "id": "ba0b3a65-a703-47b2-9379-04e29be00dce",
   "metadata": {},
   "outputs": [
    {
     "data": {
      "text/plain": [
       "array([[ 1.55740772, -0.14254654, -6.79971146, -0.29100619],\n",
       "       [-0.29100619, -0.29100619, -0.45231566, -6.79971146],\n",
       "       [ 1.15782128, -0.45231566, -2.18503986, -0.29100619]])"
      ]
     },
     "execution_count": 47,
     "metadata": {},
     "output_type": "execute_result"
    }
   ],
   "source": [
    "np.tan(arr1)"
   ]
  },
  {
   "cell_type": "code",
   "execution_count": 48,
   "id": "59a0dc7f-13d2-4ab3-b4ff-019226fd55fb",
   "metadata": {},
   "outputs": [
    {
     "data": {
      "text/plain": [
       "array([[0.76159416, 0.99505475, 0.99999977, 0.99998771],\n",
       "       [0.99998771, 0.99998771, 0.99999997, 0.99999977],\n",
       "       [0.9993293 , 0.99999997, 0.96402758, 0.99998771]])"
      ]
     },
     "execution_count": 48,
     "metadata": {},
     "output_type": "execute_result"
    }
   ],
   "source": [
    "np.tanh(arr1)"
   ]
  },
  {
   "cell_type": "code",
   "execution_count": 49,
   "id": "c88320ea-9d77-4281-b3c5-bdf9dd7c29fe",
   "metadata": {},
   "outputs": [
    {
     "data": {
      "text/plain": [
       "array([[0.        , 0.47712125, 0.90308999, 0.77815125],\n",
       "       [0.77815125, 0.77815125, 0.95424251, 0.90308999],\n",
       "       [0.60205999, 0.95424251, 0.30103   , 0.77815125]])"
      ]
     },
     "execution_count": 49,
     "metadata": {},
     "output_type": "execute_result"
    }
   ],
   "source": [
    "np.log10(arr1)"
   ]
  },
  {
   "cell_type": "code",
   "execution_count": 50,
   "id": "f5f19ac7-c9be-4971-b7b3-c4de5c247d7c",
   "metadata": {},
   "outputs": [
    {
     "data": {
      "text/plain": [
       "array([[2.71828183e+00, 2.00855369e+01, 2.98095799e+03, 4.03428793e+02],\n",
       "       [4.03428793e+02, 4.03428793e+02, 8.10308393e+03, 2.98095799e+03],\n",
       "       [5.45981500e+01, 8.10308393e+03, 7.38905610e+00, 4.03428793e+02]])"
      ]
     },
     "execution_count": 50,
     "metadata": {},
     "output_type": "execute_result"
    }
   ],
   "source": [
    "np.exp(arr1)"
   ]
  },
  {
   "cell_type": "code",
   "execution_count": 51,
   "id": "ebf40374-0158-40d2-a091-b66378dcf024",
   "metadata": {},
   "outputs": [
    {
     "data": {
      "text/plain": [
       "array([[1.        , 1.73205081, 2.82842712, 2.44948974],\n",
       "       [2.44948974, 2.44948974, 3.        , 2.82842712],\n",
       "       [2.        , 3.        , 1.41421356, 2.44948974]])"
      ]
     },
     "execution_count": 51,
     "metadata": {},
     "output_type": "execute_result"
    }
   ],
   "source": [
    "np.sqrt(arr1)"
   ]
  },
  {
   "cell_type": "code",
   "execution_count": 53,
   "id": "37b81551-b43c-454a-96f4-c410598e6f56",
   "metadata": {},
   "outputs": [
    {
     "data": {
      "text/plain": [
       "array([[ 1,  9, 64, 36],\n",
       "       [36, 36, 81, 64],\n",
       "       [16, 81,  4, 36]])"
      ]
     },
     "execution_count": 53,
     "metadata": {},
     "output_type": "execute_result"
    }
   ],
   "source": [
    "np.power(arr1,2)"
   ]
  },
  {
   "cell_type": "code",
   "execution_count": 54,
   "id": "7edb3fcc-858c-4336-aa4f-0d1f4f2c6eb0",
   "metadata": {},
   "outputs": [
    {
     "data": {
      "text/plain": [
       "5.666666666666667"
      ]
     },
     "execution_count": 54,
     "metadata": {},
     "output_type": "execute_result"
    }
   ],
   "source": [
    "np.mean(arr1)"
   ]
  },
  {
   "cell_type": "code",
   "execution_count": 56,
   "id": "7691f456-4cc6-4951-920a-59c0dcdc4b5a",
   "metadata": {},
   "outputs": [
    {
     "data": {
      "text/plain": [
       "6.0"
      ]
     },
     "execution_count": 56,
     "metadata": {},
     "output_type": "execute_result"
    }
   ],
   "source": [
    "np.median(arr1)"
   ]
  },
  {
   "cell_type": "code",
   "execution_count": 57,
   "id": "eebf6c42-010a-4157-bccb-0d6194d22dd6",
   "metadata": {},
   "outputs": [
    {
     "data": {
      "text/plain": [
       "2.5603819159562025"
      ]
     },
     "execution_count": 57,
     "metadata": {},
     "output_type": "execute_result"
    }
   ],
   "source": [
    "np.std(arr1)"
   ]
  },
  {
   "cell_type": "code",
   "execution_count": 59,
   "id": "48ecddb6-d51e-4c3b-b313-f7ba873b5552",
   "metadata": {},
   "outputs": [
    {
     "data": {
      "text/plain": [
       "6.5555555555555545"
      ]
     },
     "execution_count": 59,
     "metadata": {},
     "output_type": "execute_result"
    }
   ],
   "source": [
    "np.var(arr1)"
   ]
  },
  {
   "cell_type": "code",
   "execution_count": 60,
   "id": "a115733d-7f1f-4b6e-b6f1-25d73d23f4ce",
   "metadata": {},
   "outputs": [
    {
     "data": {
      "text/plain": [
       "1"
      ]
     },
     "execution_count": 60,
     "metadata": {},
     "output_type": "execute_result"
    }
   ],
   "source": [
    "np.min(arr1)"
   ]
  },
  {
   "cell_type": "code",
   "execution_count": 61,
   "id": "d1c35705-c5ea-4b05-9406-6788166880b4",
   "metadata": {},
   "outputs": [
    {
     "data": {
      "text/plain": [
       "9"
      ]
     },
     "execution_count": 61,
     "metadata": {},
     "output_type": "execute_result"
    }
   ],
   "source": [
    "np.max(arr1)"
   ]
  },
  {
   "cell_type": "code",
   "execution_count": null,
   "id": "5d00a020-0bb3-46e9-8c8e-8680a311ae33",
   "metadata": {},
   "outputs": [],
   "source": []
  }
 ],
 "metadata": {
  "kernelspec": {
   "display_name": "Python 3 (ipykernel)",
   "language": "python",
   "name": "python3"
  },
  "language_info": {
   "codemirror_mode": {
    "name": "ipython",
    "version": 3
   },
   "file_extension": ".py",
   "mimetype": "text/x-python",
   "name": "python",
   "nbconvert_exporter": "python",
   "pygments_lexer": "ipython3",
   "version": "3.10.8"
  }
 },
 "nbformat": 4,
 "nbformat_minor": 5
}
