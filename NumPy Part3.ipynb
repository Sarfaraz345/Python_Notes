{
 "cells": [
  {
   "cell_type": "markdown",
   "id": "659b45d3-67d6-49e9-8a17-ca2b5225458e",
   "metadata": {
    "tags": []
   },
   "source": [
    "# Sort , Search , & Counting Function. "
   ]
  },
  {
   "cell_type": "code",
   "execution_count": 1,
   "id": "a70ff5a6-ba73-4d41-a793-29bf01d31193",
   "metadata": {},
   "outputs": [],
   "source": [
    "import numpy as np"
   ]
  },
  {
   "cell_type": "code",
   "execution_count": 2,
   "id": "94dc3646-1049-4fa4-be81-79013ea8f0ee",
   "metadata": {},
   "outputs": [],
   "source": [
    "arr = np.array([4,3,4,5,6,7,65,87,566,7,8,9])"
   ]
  },
  {
   "cell_type": "code",
   "execution_count": 3,
   "id": "062e9eb2-1483-42cd-8dd0-b9f280760fb6",
   "metadata": {},
   "outputs": [
    {
     "data": {
      "text/plain": [
       "array([  4,   3,   4,   5,   6,   7,  65,  87, 566,   7,   8,   9])"
      ]
     },
     "execution_count": 3,
     "metadata": {},
     "output_type": "execute_result"
    }
   ],
   "source": [
    "arr"
   ]
  },
  {
   "cell_type": "code",
   "execution_count": 4,
   "id": "8b3bbb8b-9300-4d68-8395-0cbf02a4c2ba",
   "metadata": {},
   "outputs": [
    {
     "data": {
      "text/plain": [
       "array([  4,   3,   4,   5,   6,   7,  65,  87, 566,   7,   8,   9])"
      ]
     },
     "execution_count": 4,
     "metadata": {},
     "output_type": "execute_result"
    }
   ],
   "source": [
    "arr"
   ]
  },
  {
   "cell_type": "code",
   "execution_count": 5,
   "id": "15cac812-e842-4ba9-be02-53d53c19b62c",
   "metadata": {},
   "outputs": [
    {
     "data": {
      "text/plain": [
       "array([  3,   4,   4,   5,   6,   7,   7,   8,   9,  65,  87, 566])"
      ]
     },
     "execution_count": 5,
     "metadata": {},
     "output_type": "execute_result"
    }
   ],
   "source": [
    "np.sort(arr)"
   ]
  },
  {
   "cell_type": "code",
   "execution_count": 8,
   "id": "ab1ccde6-80ea-4f2f-b18c-eac1ef313904",
   "metadata": {},
   "outputs": [
    {
     "data": {
      "text/plain": [
       "6"
      ]
     },
     "execution_count": 8,
     "metadata": {},
     "output_type": "execute_result"
    }
   ],
   "source": [
    "np.searchsorted(arr , 10)"
   ]
  },
  {
   "cell_type": "code",
   "execution_count": 9,
   "id": "92df8b04-9054-44a1-83d9-557f65284653",
   "metadata": {},
   "outputs": [],
   "source": [
    "arr1 = np.array([0,345,454,0,0,0,0,0])"
   ]
  },
  {
   "cell_type": "code",
   "execution_count": 10,
   "id": "cfb5d304-8bf2-4c1f-9b57-33c07f570083",
   "metadata": {},
   "outputs": [
    {
     "data": {
      "text/plain": [
       "2"
      ]
     },
     "execution_count": 10,
     "metadata": {},
     "output_type": "execute_result"
    }
   ],
   "source": [
    "np.count_nonzero(arr1)"
   ]
  },
  {
   "cell_type": "code",
   "execution_count": 11,
   "id": "3e576d02-bcef-455f-92fc-a7acddbc1924",
   "metadata": {},
   "outputs": [
    {
     "data": {
      "text/plain": [
       "array([  4,   3,   4,   5,   6,   7,  65,  87, 566,   7,   8,   9])"
      ]
     },
     "execution_count": 11,
     "metadata": {},
     "output_type": "execute_result"
    }
   ],
   "source": [
    "arr"
   ]
  },
  {
   "cell_type": "code",
   "execution_count": 13,
   "id": "afffebe1-b51e-4f5e-b7c0-7eacb92ebbc9",
   "metadata": {},
   "outputs": [
    {
     "data": {
      "text/plain": [
       "(array([6, 7, 8]),)"
      ]
     },
     "execution_count": 13,
     "metadata": {},
     "output_type": "execute_result"
    }
   ],
   "source": [
    "np.where(arr>15)"
   ]
  },
  {
   "cell_type": "code",
   "execution_count": 15,
   "id": "cdbebd1a-065a-482b-9694-1156c03c3f24",
   "metadata": {},
   "outputs": [
    {
     "data": {
      "text/plain": [
       "array([  7,  65,  87, 566,   7,   8,   9])"
      ]
     },
     "execution_count": 15,
     "metadata": {},
     "output_type": "execute_result"
    }
   ],
   "source": [
    "np.extract(arr >6 , arr)"
   ]
  },
  {
   "cell_type": "markdown",
   "id": "456111d3-7301-485a-bef2-245f55e0874d",
   "metadata": {},
   "source": [
    "# Numpy - Byte Swapping"
   ]
  },
  {
   "cell_type": "code",
   "execution_count": 17,
   "id": "9fc838c0-230a-40ac-a56a-2df88eb2e77d",
   "metadata": {},
   "outputs": [
    {
     "data": {
      "text/plain": [
       "array([  4,   3,   4,   5,   6,   7,  65,  87, 566,   7,   8,   9])"
      ]
     },
     "execution_count": 17,
     "metadata": {},
     "output_type": "execute_result"
    }
   ],
   "source": [
    "arr"
   ]
  },
  {
   "cell_type": "code",
   "execution_count": 18,
   "id": "eea1c5d5-2abe-43d7-98d9-e41a8ed0a3bd",
   "metadata": {},
   "outputs": [
    {
     "data": {
      "text/plain": [
       "array([ 288230376151711744,  216172782113783808,  288230376151711744,\n",
       "        360287970189639680,  432345564227567616,  504403158265495552,\n",
       "       4683743612465315840, 6269010681299730432, 3891673028001529856,\n",
       "        504403158265495552,  576460752303423488,  648518346341351424])"
      ]
     },
     "execution_count": 18,
     "metadata": {},
     "output_type": "execute_result"
    }
   ],
   "source": [
    "arr.byteswap()"
   ]
  },
  {
   "cell_type": "markdown",
   "id": "a3e865e9-1c83-4196-991e-27ac95aa658f",
   "metadata": {},
   "source": [
    "# Numpy - Copies & Views"
   ]
  },
  {
   "cell_type": "code",
   "execution_count": 19,
   "id": "18b9c3fb-2834-49f8-a52f-e619e9d474a3",
   "metadata": {},
   "outputs": [
    {
     "data": {
      "text/plain": [
       "array([  4,   3,   4,   5,   6,   7,  65,  87, 566,   7,   8,   9])"
      ]
     },
     "execution_count": 19,
     "metadata": {},
     "output_type": "execute_result"
    }
   ],
   "source": [
    "arr"
   ]
  },
  {
   "cell_type": "code",
   "execution_count": 20,
   "id": "bd1ca69b-95df-4508-a85a-979ed3535793",
   "metadata": {},
   "outputs": [],
   "source": [
    "a = np.copy(arr)"
   ]
  },
  {
   "cell_type": "code",
   "execution_count": 21,
   "id": "886da33f-90c9-4896-9c93-02efa2985151",
   "metadata": {},
   "outputs": [],
   "source": [
    "b = arr.view()"
   ]
  },
  {
   "cell_type": "code",
   "execution_count": 22,
   "id": "f6a1bf30-bcc5-46fb-9ea1-f75213731f50",
   "metadata": {},
   "outputs": [
    {
     "data": {
      "text/plain": [
       "array([  4,   3,   4,   5,   6,   7,  65,  87, 566,   7,   8,   9])"
      ]
     },
     "execution_count": 22,
     "metadata": {},
     "output_type": "execute_result"
    }
   ],
   "source": [
    "b"
   ]
  },
  {
   "cell_type": "code",
   "execution_count": 23,
   "id": "dd17eb17-2383-4929-a8c8-4c5a642303dd",
   "metadata": {},
   "outputs": [
    {
     "data": {
      "text/plain": [
       "array([  4,   3,   4,   5,   6,   7,  65,  87, 566,   7,   8,   9])"
      ]
     },
     "execution_count": 23,
     "metadata": {},
     "output_type": "execute_result"
    }
   ],
   "source": [
    "arr"
   ]
  },
  {
   "cell_type": "code",
   "execution_count": 24,
   "id": "438ea570-1852-4765-9aea-6f90b27d253b",
   "metadata": {},
   "outputs": [],
   "source": [
    "b[0] = 67"
   ]
  },
  {
   "cell_type": "code",
   "execution_count": 25,
   "id": "f66af631-365f-44db-8abd-9eb1c174e721",
   "metadata": {},
   "outputs": [
    {
     "data": {
      "text/plain": [
       "array([ 67,   3,   4,   5,   6,   7,  65,  87, 566,   7,   8,   9])"
      ]
     },
     "execution_count": 25,
     "metadata": {},
     "output_type": "execute_result"
    }
   ],
   "source": [
    "b"
   ]
  },
  {
   "cell_type": "code",
   "execution_count": 26,
   "id": "b2f238a0-63a2-42c4-afa9-e982136a5b41",
   "metadata": {},
   "outputs": [
    {
     "data": {
      "text/plain": [
       "array([ 67,   3,   4,   5,   6,   7,  65,  87, 566,   7,   8,   9])"
      ]
     },
     "execution_count": 26,
     "metadata": {},
     "output_type": "execute_result"
    }
   ],
   "source": [
    "arr"
   ]
  },
  {
   "cell_type": "markdown",
   "id": "c9d47001-cdf2-4a8b-b133-fb5d07082a41",
   "metadata": {},
   "source": [
    "# Numpy - Matrix Library"
   ]
  },
  {
   "cell_type": "code",
   "execution_count": 27,
   "id": "70cd5c50-585d-4311-832a-e044cce7cfc6",
   "metadata": {},
   "outputs": [],
   "source": [
    "import numpy.matlib as nm"
   ]
  },
  {
   "cell_type": "code",
   "execution_count": 28,
   "id": "4c4fbb81-8a18-4164-b224-8bad8d3212c9",
   "metadata": {},
   "outputs": [
    {
     "data": {
      "text/plain": [
       "matrix([[0., 0., 0., 0., 0.]])"
      ]
     },
     "execution_count": 28,
     "metadata": {},
     "output_type": "execute_result"
    }
   ],
   "source": [
    "nm.zeros(5)"
   ]
  },
  {
   "cell_type": "code",
   "execution_count": 29,
   "id": "770097aa-aad8-4d0a-9b8d-5263bffdc5e8",
   "metadata": {},
   "outputs": [
    {
     "data": {
      "text/plain": [
       "matrix([[1., 1., 1., 1.],\n",
       "        [1., 1., 1., 1.],\n",
       "        [1., 1., 1., 1.]])"
      ]
     },
     "execution_count": 29,
     "metadata": {},
     "output_type": "execute_result"
    }
   ],
   "source": [
    "nm.ones((3,4))"
   ]
  },
  {
   "cell_type": "code",
   "execution_count": 30,
   "id": "d7b51895-0d31-4195-ae45-822e38f783e5",
   "metadata": {},
   "outputs": [
    {
     "data": {
      "text/plain": [
       "matrix([[1., 0., 0., 0., 0.],\n",
       "        [0., 1., 0., 0., 0.],\n",
       "        [0., 0., 1., 0., 0.],\n",
       "        [0., 0., 0., 1., 0.],\n",
       "        [0., 0., 0., 0., 1.]])"
      ]
     },
     "execution_count": 30,
     "metadata": {},
     "output_type": "execute_result"
    }
   ],
   "source": [
    "nm.eye(5)"
   ]
  },
  {
   "cell_type": "markdown",
   "id": "211352e6-56af-4897-9401-be88fd1c922d",
   "metadata": {},
   "source": [
    "# Numpy - Linear Algebra"
   ]
  },
  {
   "cell_type": "code",
   "execution_count": 31,
   "id": "bc5a5034-7622-4477-9c38-8052bdd6f3eb",
   "metadata": {},
   "outputs": [],
   "source": [
    "arr1 = np.random.randint([[2,3] , [4,5]])"
   ]
  },
  {
   "cell_type": "code",
   "execution_count": 32,
   "id": "e497783c-e00a-4b8c-b424-06cd3136ef98",
   "metadata": {},
   "outputs": [],
   "source": [
    "arr2 =  np.random.randint([[5,3] , [2,5]])"
   ]
  },
  {
   "cell_type": "code",
   "execution_count": 33,
   "id": "9478f9a1-4df9-4d78-8b34-be6b3ae74201",
   "metadata": {},
   "outputs": [
    {
     "data": {
      "text/plain": [
       "array([[6, 4],\n",
       "       [8, 8]])"
      ]
     },
     "execution_count": 33,
     "metadata": {},
     "output_type": "execute_result"
    }
   ],
   "source": [
    "np.dot(arr1,arr2)"
   ]
  },
  {
   "cell_type": "code",
   "execution_count": 34,
   "id": "76bb9bdd-32a2-414b-9201-4e6e8947289b",
   "metadata": {},
   "outputs": [
    {
     "data": {
      "text/plain": [
       "array([[6, 4],\n",
       "       [8, 8]])"
      ]
     },
     "execution_count": 34,
     "metadata": {},
     "output_type": "execute_result"
    }
   ],
   "source": [
    "arr1@arr2"
   ]
  },
  {
   "cell_type": "code",
   "execution_count": null,
   "id": "3c4d6839-f8fb-48fb-9dc6-37644a4e40d1",
   "metadata": {},
   "outputs": [],
   "source": []
  }
 ],
 "metadata": {
  "kernelspec": {
   "display_name": "Python 3 (ipykernel)",
   "language": "python",
   "name": "python3"
  },
  "language_info": {
   "codemirror_mode": {
    "name": "ipython",
    "version": 3
   },
   "file_extension": ".py",
   "mimetype": "text/x-python",
   "name": "python",
   "nbconvert_exporter": "python",
   "pygments_lexer": "ipython3",
   "version": "3.10.8"
  }
 },
 "nbformat": 4,
 "nbformat_minor": 5
}
