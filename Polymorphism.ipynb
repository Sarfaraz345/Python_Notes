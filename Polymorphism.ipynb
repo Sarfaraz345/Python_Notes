{
 "cells": [
  {
   "cell_type": "code",
   "execution_count": 2,
   "id": "6df0313b-e297-4c4e-89ea-8e33adeb4df3",
   "metadata": {},
   "outputs": [],
   "source": [
    "def test(a , b) :\n",
    "    return a+b"
   ]
  },
  {
   "cell_type": "code",
   "execution_count": 3,
   "id": "fd632856-e285-4ea8-8e0d-71d3d9fb41df",
   "metadata": {},
   "outputs": [
    {
     "data": {
      "text/plain": [
       "7"
      ]
     },
     "execution_count": 3,
     "metadata": {},
     "output_type": "execute_result"
    }
   ],
   "source": [
    "test(3,4)"
   ]
  },
  {
   "cell_type": "code",
   "execution_count": 5,
   "id": "5801db1e-b235-4036-b73c-364b817707e1",
   "metadata": {},
   "outputs": [
    {
     "data": {
      "text/plain": [
       "'sarfraj sheikh'"
      ]
     },
     "execution_count": 5,
     "metadata": {},
     "output_type": "execute_result"
    }
   ],
   "source": [
    "test(\"sarfraj \",\"sheikh\")"
   ]
  },
  {
   "cell_type": "code",
   "execution_count": 6,
   "id": "d85b7cc4-ba55-44df-82ab-741fb420354f",
   "metadata": {},
   "outputs": [
    {
     "data": {
      "text/plain": [
       "[2, 3, 4, 5, 5, 6, 77]"
      ]
     },
     "execution_count": 6,
     "metadata": {},
     "output_type": "execute_result"
    }
   ],
   "source": [
    "test([2,3,4,5] , [5,6,77])"
   ]
  },
  {
   "cell_type": "code",
   "execution_count": 7,
   "id": "98134f5e-afa4-4c7d-8504-0831aedeff2d",
   "metadata": {},
   "outputs": [],
   "source": [
    "class data_science:\n",
    "    \n",
    "    def syllabus(self):\n",
    "        print(\"this is my syllabus for data science masters\")"
   ]
  },
  {
   "cell_type": "code",
   "execution_count": 8,
   "id": "22f71b4c-eee1-4e86-85e7-0838260e385c",
   "metadata": {},
   "outputs": [],
   "source": [
    "class web_dev:\n",
    "    \n",
    "    def syllabus(self):\n",
    "        print(\"this is my syllabus for web dev\")"
   ]
  },
  {
   "cell_type": "code",
   "execution_count": 9,
   "id": "45250c17-9f21-421a-af30-da352254adf5",
   "metadata": {},
   "outputs": [],
   "source": [
    "def class_parcer(class_obj):\n",
    "    for i in class_obj :\n",
    "        i.syllabus()"
   ]
  },
  {
   "cell_type": "code",
   "execution_count": 10,
   "id": "fa0c59c2-486f-4d29-9ca1-4f49ba627b18",
   "metadata": {},
   "outputs": [],
   "source": [
    "data_science = data_science()"
   ]
  },
  {
   "cell_type": "code",
   "execution_count": 11,
   "id": "366fe364-81a0-4d5d-b1e5-292b0771497b",
   "metadata": {},
   "outputs": [],
   "source": [
    "web_dev = web_dev()"
   ]
  },
  {
   "cell_type": "code",
   "execution_count": 12,
   "id": "edb20c8c-4daf-4fb9-ab38-3ccbad9f6add",
   "metadata": {},
   "outputs": [],
   "source": [
    "class_obj = [data_science , web_dev]"
   ]
  },
  {
   "cell_type": "code",
   "execution_count": 13,
   "id": "c12fd5fe-b93d-4685-9fb3-45f901155688",
   "metadata": {},
   "outputs": [
    {
     "name": "stdout",
     "output_type": "stream",
     "text": [
      "this is my syllabus for data science masters\n",
      "this is my syllabus for web dev\n"
     ]
    }
   ],
   "source": [
    "class_parcer(class_obj)"
   ]
  },
  {
   "cell_type": "code",
   "execution_count": null,
   "id": "7ec5a508-25ad-4044-bf0b-981cfe2edd35",
   "metadata": {},
   "outputs": [],
   "source": []
  }
 ],
 "metadata": {
  "kernelspec": {
   "display_name": "Python 3 (ipykernel)",
   "language": "python",
   "name": "python3"
  },
  "language_info": {
   "codemirror_mode": {
    "name": "ipython",
    "version": 3
   },
   "file_extension": ".py",
   "mimetype": "text/x-python",
   "name": "python",
   "nbconvert_exporter": "python",
   "pygments_lexer": "ipython3",
   "version": "3.10.8"
  }
 },
 "nbformat": 4,
 "nbformat_minor": 5
}
