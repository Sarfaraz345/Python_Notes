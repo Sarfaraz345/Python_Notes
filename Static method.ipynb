{
 "cells": [
  {
   "cell_type": "code",
   "execution_count": 1,
   "id": "49f852c0-0f6b-44b7-98fa-5b8cbcf74270",
   "metadata": {},
   "outputs": [],
   "source": [
    "class pwskills :\n",
    "    \n",
    "    def student_details(self, name , mail_id , number) :\n",
    "        print (name , mail_id , number)\n",
    "        "
   ]
  },
  {
   "cell_type": "code",
   "execution_count": 2,
   "id": "8bdff729-55bb-4c12-8b09-63c75d0c7afd",
   "metadata": {},
   "outputs": [],
   "source": [
    "pw = pwskills()"
   ]
  },
  {
   "cell_type": "code",
   "execution_count": 3,
   "id": "1f4cf1ab-c464-485c-a170-3aaf14833df0",
   "metadata": {},
   "outputs": [
    {
     "name": "stdout",
     "output_type": "stream",
     "text": [
      "sarfraj smd305734@gmail.com 7320807031\n"
     ]
    }
   ],
   "source": [
    "pw.student_details(\"sarfraj\" , \"smd305734@gmail.com\" , 7320807031)"
   ]
  },
  {
   "cell_type": "code",
   "execution_count": null,
   "id": "ed60cdaa-d07a-49f6-b836-3bb25b764a6f",
   "metadata": {},
   "outputs": [],
   "source": [
    "class pwskills1 :\n",
    "    \n",
    "    def student_details(self, name , mail_id , number) :\n",
    "        print (name , mail_id , number)\n",
    "        \n",
    "    @staticmethod\n",
    "    def mentor_class(list_mentor):\n",
    "        print(list_mentor)\n",
    "    def mentor(self, mentor_list):\n",
    "        print(mentor_list)"
   ]
  },
  {
   "cell_type": "code",
   "execution_count": null,
   "id": "4915faf2-d347-4746-9f62-1f312592c908",
   "metadata": {},
   "outputs": [],
   "source": [
    "pwskills1.mentor_class([\"sudh\" , \"krish\"])"
   ]
  },
  {
   "cell_type": "code",
   "execution_count": null,
   "id": "9548c03a-9727-4c94-ab92-87a02015a011",
   "metadata": {},
   "outputs": [],
   "source": [
    "stu1 = pwskills1()"
   ]
  },
  {
   "cell_type": "code",
   "execution_count": null,
   "id": "62c7370a-fa24-4e93-8578-f9b977c6cede",
   "metadata": {},
   "outputs": [],
   "source": [
    "stu2 = pwskills1()"
   ]
  },
  {
   "cell_type": "code",
   "execution_count": 10,
   "id": "e0d8382a-4811-46af-b577-c3dcb81a8246",
   "metadata": {},
   "outputs": [],
   "source": [
    "stu3 = pwskills1()"
   ]
  },
  {
   "cell_type": "code",
   "execution_count": 22,
   "id": "4778825a-5571-4c93-afcb-070bae735430",
   "metadata": {},
   "outputs": [],
   "source": [
    "class pwskills2 :\n",
    "    \n",
    "    def student_details(self, name , mail_id , number) :\n",
    "        print (name , mail_id , number)\n",
    "    @staticmethod\n",
    "    def mentor_mail_id(mail_id_mentor):\n",
    "        print(mail_id_mentor)\n",
    "    \n",
    "    \n",
    "    @staticmethod\n",
    "    def mentor_class(list_mentor):\n",
    "        pwskills2.mentor_mail_id([\"sudh@gmail.com\", \"krish@gmail.com\"])\n",
    "        print(list_mentor)\n",
    "    @classmethod\n",
    "    def class_name(cls):\n",
    "        cls.mentor_class([\"sudh\",\"krish\"])\n",
    "        \n",
    "        \n",
    "    def mentor(self, mentor_list):\n",
    "        print(mentor_list)\n",
    "        self.mentor_class([\"krish\",\"sudh\"])"
   ]
  },
  {
   "cell_type": "code",
   "execution_count": 19,
   "id": "e353cc5c-dd89-4b00-afd6-3045df97bb6c",
   "metadata": {},
   "outputs": [
    {
     "name": "stdout",
     "output_type": "stream",
     "text": [
      "['sudh', 'krish']\n"
     ]
    }
   ],
   "source": [
    "pwskills2.class_name()"
   ]
  },
  {
   "cell_type": "code",
   "execution_count": 21,
   "id": "c4b1d4ce-8be9-4e3b-91e7-d00a63158040",
   "metadata": {},
   "outputs": [
    {
     "name": "stdout",
     "output_type": "stream",
     "text": [
      "['sudh@gmail.com', 'krish@gmail.com']\n",
      "['krish', 'sudh']\n"
     ]
    }
   ],
   "source": [
    "pwskills2.mentor_class([\"krish\", \"sudh\"])"
   ]
  },
  {
   "cell_type": "code",
   "execution_count": 23,
   "id": "20f9a716-dcea-457b-9ffc-3250ff120e10",
   "metadata": {},
   "outputs": [],
   "source": [
    "pw = pwskills2()"
   ]
  },
  {
   "cell_type": "code",
   "execution_count": 25,
   "id": "2f5b0754-2cb8-4082-a47b-ba784a7a69c6",
   "metadata": {},
   "outputs": [
    {
     "name": "stdout",
     "output_type": "stream",
     "text": [
      "['krish', 'sudh']\n",
      "['sudh@gmail.com', 'krish@gmail.com']\n",
      "['krish', 'sudh']\n"
     ]
    }
   ],
   "source": [
    "pw.mentor([\"krish\",\"sudh\"])"
   ]
  },
  {
   "cell_type": "code",
   "execution_count": null,
   "id": "21ad2998-bff0-49ba-b966-2813d31f6f62",
   "metadata": {},
   "outputs": [],
   "source": []
  }
 ],
 "metadata": {
  "kernelspec": {
   "display_name": "Python 3 (ipykernel)",
   "language": "python",
   "name": "python3"
  },
  "language_info": {
   "codemirror_mode": {
    "name": "ipython",
    "version": 3
   },
   "file_extension": ".py",
   "mimetype": "text/x-python",
   "name": "python",
   "nbconvert_exporter": "python",
   "pygments_lexer": "ipython3",
   "version": "3.10.8"
  }
 },
 "nbformat": 4,
 "nbformat_minor": 5
}
