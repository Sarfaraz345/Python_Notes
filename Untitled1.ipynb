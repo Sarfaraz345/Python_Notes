{
 "cells": [
  {
   "cell_type": "code",
   "execution_count": 5,
   "id": "2e18b368-5d4a-4a33-8bcd-39e66346519c",
   "metadata": {},
   "outputs": [],
   "source": [
    "l =[1, 345, 45,\"sarfaraj\" , True , 5+7j , 345.456]"
   ]
  },
  {
   "cell_type": "code",
   "execution_count": 3,
   "id": "9c9ec8d3-3c8e-4b87-b893-198560d8abe1",
   "metadata": {},
   "outputs": [
    {
     "data": {
      "text/plain": [
       "list"
      ]
     },
     "execution_count": 3,
     "metadata": {},
     "output_type": "execute_result"
    }
   ],
   "source": [
    "type(s)"
   ]
  },
  {
   "cell_type": "code",
   "execution_count": 6,
   "id": "5a9d2a9b-f0a4-4812-87c5-3e7e7d24579c",
   "metadata": {},
   "outputs": [
    {
     "data": {
      "text/plain": [
       "[1, 345, 45, 'sarfaraj', True, (5+7j), 345.456]"
      ]
     },
     "execution_count": 6,
     "metadata": {},
     "output_type": "execute_result"
    }
   ],
   "source": [
    "l"
   ]
  },
  {
   "cell_type": "code",
   "execution_count": 7,
   "id": "113c6669-b7b9-40e7-813d-3aedf5b5b46b",
   "metadata": {},
   "outputs": [
    {
     "ename": "IndexError",
     "evalue": "list index out of range",
     "output_type": "error",
     "traceback": [
      "\u001b[0;31m---------------------------------------------------------------------------\u001b[0m",
      "\u001b[0;31mIndexError\u001b[0m                                Traceback (most recent call last)",
      "Cell \u001b[0;32mIn[7], line 1\u001b[0m\n\u001b[0;32m----> 1\u001b[0m \u001b[43ml\u001b[49m\u001b[43m[\u001b[49m\u001b[38;5;241;43m90\u001b[39;49m\u001b[43m]\u001b[49m\n",
      "\u001b[0;31mIndexError\u001b[0m: list index out of range"
     ]
    }
   ],
   "source": [
    "l[90]"
   ]
  },
  {
   "cell_type": "code",
   "execution_count": 8,
   "id": "a25436f1-bf9e-4a52-97ae-6aa26b094f1f",
   "metadata": {},
   "outputs": [
    {
     "data": {
      "text/plain": [
       "[1, 345, 45, 'sarfaraj', True, (5+7j), 345.456]"
      ]
     },
     "execution_count": 8,
     "metadata": {},
     "output_type": "execute_result"
    }
   ],
   "source": [
    "l"
   ]
  },
  {
   "cell_type": "code",
   "execution_count": 9,
   "id": "bca07159-9e03-409d-a54a-140c198919ae",
   "metadata": {},
   "outputs": [
    {
     "data": {
      "text/plain": [
       "[1, 345, 45]"
      ]
     },
     "execution_count": 9,
     "metadata": {},
     "output_type": "execute_result"
    }
   ],
   "source": [
    "l[0:3]"
   ]
  },
  {
   "cell_type": "code",
   "execution_count": 10,
   "id": "17144b10-22d2-4a9a-99db-755d7bfc1952",
   "metadata": {},
   "outputs": [
    {
     "data": {
      "text/plain": [
       "345.456"
      ]
     },
     "execution_count": 10,
     "metadata": {},
     "output_type": "execute_result"
    }
   ],
   "source": [
    "l[-1]"
   ]
  },
  {
   "cell_type": "code",
   "execution_count": 11,
   "id": "568e7885-44c4-4f2b-a75d-ef20fea2615a",
   "metadata": {},
   "outputs": [
    {
     "data": {
      "text/plain": [
       "[345.456, (5+7j), True, 'sarfaraj', 45, 345, 1]"
      ]
     },
     "execution_count": 11,
     "metadata": {},
     "output_type": "execute_result"
    }
   ],
   "source": [
    "l[::-1]"
   ]
  },
  {
   "cell_type": "code",
   "execution_count": 12,
   "id": "aafe02be-7d59-4b2d-b14c-6afb5954a430",
   "metadata": {},
   "outputs": [
    {
     "data": {
      "text/plain": [
       "[1, 45, True, 345.456]"
      ]
     },
     "execution_count": 12,
     "metadata": {},
     "output_type": "execute_result"
    }
   ],
   "source": [
    "l[::2]"
   ]
  },
  {
   "cell_type": "code",
   "execution_count": 13,
   "id": "e7e065a5-509d-4748-8891-75dcd812a4f8",
   "metadata": {},
   "outputs": [
    {
     "data": {
      "text/plain": [
       "[1, 345, 45, 'sarfaraj', True, (5+7j), 345.456]"
      ]
     },
     "execution_count": 13,
     "metadata": {},
     "output_type": "execute_result"
    }
   ],
   "source": [
    "l"
   ]
  },
  {
   "cell_type": "code",
   "execution_count": 14,
   "id": "4a58d8ff-4156-4f55-bff6-ffdb46d837b6",
   "metadata": {},
   "outputs": [],
   "source": [
    "s = \"pwskills\""
   ]
  },
  {
   "cell_type": "code",
   "execution_count": 15,
   "id": "3503934c-59c7-4fb7-a1c9-f11e6ede65a3",
   "metadata": {},
   "outputs": [
    {
     "ename": "TypeError",
     "evalue": "can only concatenate list (not \"str\") to list",
     "output_type": "error",
     "traceback": [
      "\u001b[0;31m---------------------------------------------------------------------------\u001b[0m",
      "\u001b[0;31mTypeError\u001b[0m                                 Traceback (most recent call last)",
      "Cell \u001b[0;32mIn[15], line 1\u001b[0m\n\u001b[0;32m----> 1\u001b[0m \u001b[43ml\u001b[49m\u001b[43m \u001b[49m\u001b[38;5;241;43m+\u001b[39;49m\u001b[43m \u001b[49m\u001b[43ms\u001b[49m\n",
      "\u001b[0;31mTypeError\u001b[0m: can only concatenate list (not \"str\") to list"
     ]
    }
   ],
   "source": [
    "l + s"
   ]
  },
  {
   "cell_type": "code",
   "execution_count": 16,
   "id": "3a15dc94-5e5b-41ba-b85f-f60220845353",
   "metadata": {},
   "outputs": [
    {
     "data": {
      "text/plain": [
       "['p', 'w', 's', 'k', 'i', 'l', 'l', 's']"
      ]
     },
     "execution_count": 16,
     "metadata": {},
     "output_type": "execute_result"
    }
   ],
   "source": [
    "list(s)"
   ]
  },
  {
   "cell_type": "code",
   "execution_count": 17,
   "id": "52b9aca4-91c6-4b5a-9101-13cfa19cb7be",
   "metadata": {},
   "outputs": [
    {
     "data": {
      "text/plain": [
       "['p',\n",
       " 'w',\n",
       " 's',\n",
       " 'k',\n",
       " 'i',\n",
       " 'l',\n",
       " 'l',\n",
       " 's',\n",
       " 1,\n",
       " 345,\n",
       " 45,\n",
       " 'sarfaraj',\n",
       " True,\n",
       " (5+7j),\n",
       " 345.456]"
      ]
     },
     "execution_count": 17,
     "metadata": {},
     "output_type": "execute_result"
    }
   ],
   "source": [
    "list(s)+l"
   ]
  },
  {
   "cell_type": "code",
   "execution_count": 18,
   "id": "e9a32363-d0b1-45d6-bf94-91c23c17a2bf",
   "metadata": {},
   "outputs": [
    {
     "data": {
      "text/plain": [
       "[1, 345, 45, 'sarfaraj', True, (5+7j), 345.456]"
      ]
     },
     "execution_count": 18,
     "metadata": {},
     "output_type": "execute_result"
    }
   ],
   "source": [
    "l"
   ]
  },
  {
   "cell_type": "code",
   "execution_count": 19,
   "id": "9dbcde5a-de80-45ab-9f63-9bf9a4545dfd",
   "metadata": {},
   "outputs": [
    {
     "data": {
      "text/plain": [
       "'sarfaraj'"
      ]
     },
     "execution_count": 19,
     "metadata": {},
     "output_type": "execute_result"
    }
   ],
   "source": [
    "l[3]"
   ]
  },
  {
   "cell_type": "code",
   "execution_count": 20,
   "id": "c7189940-08a1-49ec-88ee-ccdd813f91f1",
   "metadata": {},
   "outputs": [
    {
     "data": {
      "text/plain": [
       "'sa'"
      ]
     },
     "execution_count": 20,
     "metadata": {},
     "output_type": "execute_result"
    }
   ],
   "source": [
    "l[3][0:2]"
   ]
  },
  {
   "cell_type": "code",
   "execution_count": 21,
   "id": "08a7b063-3441-496d-ad1e-23a9ae2535bc",
   "metadata": {},
   "outputs": [
    {
     "data": {
      "text/plain": [
       "True"
      ]
     },
     "execution_count": 21,
     "metadata": {},
     "output_type": "execute_result"
    }
   ],
   "source": [
    "l[4]"
   ]
  },
  {
   "cell_type": "code",
   "execution_count": 23,
   "id": "6a408936-7488-418c-aa91-8de011d048a9",
   "metadata": {},
   "outputs": [
    {
     "data": {
      "text/plain": [
       "'True'"
      ]
     },
     "execution_count": 23,
     "metadata": {},
     "output_type": "execute_result"
    }
   ],
   "source": [
    "str(l[4])"
   ]
  },
  {
   "cell_type": "code",
   "execution_count": 24,
   "id": "f747bdfe-9e99-4b07-89e6-c3b0d30d203a",
   "metadata": {},
   "outputs": [
    {
     "data": {
      "text/plain": [
       "'Tr'"
      ]
     },
     "execution_count": 24,
     "metadata": {},
     "output_type": "execute_result"
    }
   ],
   "source": [
    "str(l[4])[0:2]"
   ]
  },
  {
   "cell_type": "code",
   "execution_count": 25,
   "id": "4492ee44-4a83-455e-bbd9-8367ccff647e",
   "metadata": {},
   "outputs": [
    {
     "data": {
      "text/plain": [
       "[1, 345, 45, 'sarfaraj', True, (5+7j), 345.456]"
      ]
     },
     "execution_count": 25,
     "metadata": {},
     "output_type": "execute_result"
    }
   ],
   "source": [
    "l"
   ]
  },
  {
   "cell_type": "code",
   "execution_count": 31,
   "id": "16c2c524-710b-4bdf-afeb-84d9cf30d6a7",
   "metadata": {},
   "outputs": [],
   "source": [
    "l1 =[3,4,5]"
   ]
  },
  {
   "cell_type": "code",
   "execution_count": 40,
   "id": "1e04ed48-b1c6-48c5-8f29-c22dd374ffd5",
   "metadata": {},
   "outputs": [
    {
     "data": {
      "text/plain": [
       "[1, 345, 45, 'sarfaraj', True, (5+7j), 345.456, 3, 4, 5]"
      ]
     },
     "execution_count": 40,
     "metadata": {},
     "output_type": "execute_result"
    }
   ],
   "source": [
    "l+l1"
   ]
  },
  {
   "cell_type": "code",
   "execution_count": 35,
   "id": "9a092ef0-03ab-45ba-9fb3-7a514e713b01",
   "metadata": {},
   "outputs": [
    {
     "data": {
      "text/plain": [
       "[3, 4, 5, 3, 4, 5, 3, 4, 5]"
      ]
     },
     "execution_count": 35,
     "metadata": {},
     "output_type": "execute_result"
    }
   ],
   "source": [
    "l1*3"
   ]
  },
  {
   "cell_type": "code",
   "execution_count": 37,
   "id": "fc91a32d-8cfb-4409-a59f-41f8cb48515a",
   "metadata": {},
   "outputs": [],
   "source": [
    "l = [1, 345, 45, 'sarfaraj', True, (5+7j), 345.456]"
   ]
  },
  {
   "cell_type": "code",
   "execution_count": 38,
   "id": "ebc5ae2a-89d7-4972-8373-1cc9752b9403",
   "metadata": {},
   "outputs": [
    {
     "data": {
      "text/plain": [
       "[1, 345, 45, 'sarfaraj', True, (5+7j), 345.456]"
      ]
     },
     "execution_count": 38,
     "metadata": {},
     "output_type": "execute_result"
    }
   ],
   "source": [
    "l"
   ]
  },
  {
   "cell_type": "code",
   "execution_count": 39,
   "id": "44fcf80c-6e3c-4d21-adcf-ef069f51b38e",
   "metadata": {},
   "outputs": [
    {
     "data": {
      "text/plain": [
       "7"
      ]
     },
     "execution_count": 39,
     "metadata": {},
     "output_type": "execute_result"
    }
   ],
   "source": [
    "len(l)"
   ]
  },
  {
   "cell_type": "code",
   "execution_count": 41,
   "id": "8d8f15ae-eaa1-4a64-beab-1b154f5f6940",
   "metadata": {},
   "outputs": [
    {
     "data": {
      "text/plain": [
       "[1, 345, 45, 'sarfaraj', True, (5+7j), 345.456]"
      ]
     },
     "execution_count": 41,
     "metadata": {},
     "output_type": "execute_result"
    }
   ],
   "source": [
    "l"
   ]
  },
  {
   "cell_type": "code",
   "execution_count": null,
   "id": "04e1d300-a916-40d4-aa95-103afaacba74",
   "metadata": {},
   "outputs": [],
   "source": []
  },
  {
   "cell_type": "code",
   "execution_count": 42,
   "id": "b7012f53-9a2f-4426-bebb-c05dab9301ea",
   "metadata": {},
   "outputs": [],
   "source": [
    "l.append(5)"
   ]
  },
  {
   "cell_type": "code",
   "execution_count": 43,
   "id": "c739402e-372b-4fc6-8c96-60f439394591",
   "metadata": {},
   "outputs": [
    {
     "data": {
      "text/plain": [
       "[1, 345, 45, 'sarfaraj', True, (5+7j), 345.456, 5]"
      ]
     },
     "execution_count": 43,
     "metadata": {},
     "output_type": "execute_result"
    }
   ],
   "source": [
    "l"
   ]
  },
  {
   "cell_type": "code",
   "execution_count": 45,
   "id": "3645985d-2031-4b55-ac6f-73fa6157f201",
   "metadata": {},
   "outputs": [],
   "source": [
    "l.append(s)"
   ]
  },
  {
   "cell_type": "code",
   "execution_count": 46,
   "id": "da3d4372-b2e8-42ab-8553-9557fc3c698a",
   "metadata": {},
   "outputs": [
    {
     "data": {
      "text/plain": [
       "'pwskills'"
      ]
     },
     "execution_count": 46,
     "metadata": {},
     "output_type": "execute_result"
    }
   ],
   "source": [
    "s"
   ]
  },
  {
   "cell_type": "code",
   "execution_count": 47,
   "id": "55d22d5d-e209-4a03-b013-9e092cd1c130",
   "metadata": {},
   "outputs": [
    {
     "data": {
      "text/plain": [
       "[1, 345, 45, 'sarfaraj', True, (5+7j), 345.456, 5, 'pwskills']"
      ]
     },
     "execution_count": 47,
     "metadata": {},
     "output_type": "execute_result"
    }
   ],
   "source": [
    "l"
   ]
  },
  {
   "cell_type": "code",
   "execution_count": 48,
   "id": "ed3a237f-cb5e-46d8-be71-f44d83569ef2",
   "metadata": {},
   "outputs": [
    {
     "data": {
      "text/plain": [
       "[3, 4, 5]"
      ]
     },
     "execution_count": 48,
     "metadata": {},
     "output_type": "execute_result"
    }
   ],
   "source": [
    "l1"
   ]
  },
  {
   "cell_type": "code",
   "execution_count": 49,
   "id": "d07743b9-e0b1-49a1-b5a1-d2234b7c5f29",
   "metadata": {},
   "outputs": [],
   "source": [
    "l.append(l1)"
   ]
  },
  {
   "cell_type": "code",
   "execution_count": 50,
   "id": "cc421724-3b96-4d95-8e29-b6adcdb3d949",
   "metadata": {},
   "outputs": [
    {
     "data": {
      "text/plain": [
       "[1, 345, 45, 'sarfaraj', True, (5+7j), 345.456, 5, 'pwskills', [3, 4, 5]]"
      ]
     },
     "execution_count": 50,
     "metadata": {},
     "output_type": "execute_result"
    }
   ],
   "source": [
    "l"
   ]
  },
  {
   "cell_type": "code",
   "execution_count": 51,
   "id": "eeaa7700-3bb6-4e93-a981-519e2fc3c58c",
   "metadata": {},
   "outputs": [
    {
     "data": {
      "text/plain": [
       "[3, 4, 5]"
      ]
     },
     "execution_count": 51,
     "metadata": {},
     "output_type": "execute_result"
    }
   ],
   "source": [
    "l[-1]"
   ]
  },
  {
   "cell_type": "code",
   "execution_count": 52,
   "id": "ff8fcd85-e496-4794-97f0-dfdc6ec5022b",
   "metadata": {},
   "outputs": [
    {
     "data": {
      "text/plain": [
       "4"
      ]
     },
     "execution_count": 52,
     "metadata": {},
     "output_type": "execute_result"
    }
   ],
   "source": [
    "l[-1][1]"
   ]
  },
  {
   "cell_type": "code",
   "execution_count": 53,
   "id": "8dbd7e84-8851-4681-8af6-05d747f6ec71",
   "metadata": {},
   "outputs": [
    {
     "data": {
      "text/plain": [
       "[1, 345, 45, 'sarfaraj', True, (5+7j), 345.456, 5, 'pwskills', [3, 4, 5]]"
      ]
     },
     "execution_count": 53,
     "metadata": {},
     "output_type": "execute_result"
    }
   ],
   "source": [
    "l"
   ]
  },
  {
   "cell_type": "code",
   "execution_count": 54,
   "id": "e589e633-3be0-4df7-8638-e2bef04167f1",
   "metadata": {},
   "outputs": [
    {
     "ename": "TypeError",
     "evalue": "'int' object is not iterable",
     "output_type": "error",
     "traceback": [
      "\u001b[0;31m---------------------------------------------------------------------------\u001b[0m",
      "\u001b[0;31mTypeError\u001b[0m                                 Traceback (most recent call last)",
      "Cell \u001b[0;32mIn[54], line 1\u001b[0m\n\u001b[0;32m----> 1\u001b[0m \u001b[43ml\u001b[49m\u001b[38;5;241;43m.\u001b[39;49m\u001b[43mextend\u001b[49m\u001b[43m(\u001b[49m\u001b[38;5;241;43m4\u001b[39;49m\u001b[43m)\u001b[49m\n",
      "\u001b[0;31mTypeError\u001b[0m: 'int' object is not iterable"
     ]
    }
   ],
   "source": [
    "l.extend(4)"
   ]
  },
  {
   "cell_type": "code",
   "execution_count": 55,
   "id": "c5eed3ea-56dd-46ca-ae30-782cbcb59a55",
   "metadata": {},
   "outputs": [],
   "source": [
    "l.extend(\"sarfaraj\")"
   ]
  },
  {
   "cell_type": "code",
   "execution_count": 56,
   "id": "90066f91-a23f-4238-97d3-7ad50ea23fae",
   "metadata": {},
   "outputs": [
    {
     "data": {
      "text/plain": [
       "[1,\n",
       " 345,\n",
       " 45,\n",
       " 'sarfaraj',\n",
       " True,\n",
       " (5+7j),\n",
       " 345.456,\n",
       " 5,\n",
       " 'pwskills',\n",
       " [3, 4, 5],\n",
       " 's',\n",
       " 'a',\n",
       " 'r',\n",
       " 'f',\n",
       " 'a',\n",
       " 'r',\n",
       " 'a',\n",
       " 'j']"
      ]
     },
     "execution_count": 56,
     "metadata": {},
     "output_type": "execute_result"
    }
   ],
   "source": [
    "l"
   ]
  },
  {
   "cell_type": "code",
   "execution_count": 59,
   "id": "53a02e83-d495-4b02-ac6c-d489d72b375f",
   "metadata": {},
   "outputs": [],
   "source": [
    "l.extend([3,4,5])"
   ]
  },
  {
   "cell_type": "code",
   "execution_count": 60,
   "id": "fa9ce740-c67a-4ecc-9863-ad078b3d026e",
   "metadata": {},
   "outputs": [
    {
     "data": {
      "text/plain": [
       "[1,\n",
       " 345,\n",
       " 45,\n",
       " 'sarfaraj',\n",
       " True,\n",
       " (5+7j),\n",
       " 345.456,\n",
       " 5,\n",
       " 'pwskills',\n",
       " [3, 4, 5],\n",
       " 's',\n",
       " 'a',\n",
       " 'r',\n",
       " 'f',\n",
       " 'a',\n",
       " 'r',\n",
       " 'a',\n",
       " 'j',\n",
       " 3,\n",
       " 4,\n",
       " 5]"
      ]
     },
     "execution_count": 60,
     "metadata": {},
     "output_type": "execute_result"
    }
   ],
   "source": [
    "l"
   ]
  },
  {
   "cell_type": "code",
   "execution_count": 61,
   "id": "419f3e44-5af5-4571-9fa5-8c7945ff74f2",
   "metadata": {},
   "outputs": [
    {
     "data": {
      "text/plain": [
       "[3, 4, 5]"
      ]
     },
     "execution_count": 61,
     "metadata": {},
     "output_type": "execute_result"
    }
   ],
   "source": [
    "l1"
   ]
  },
  {
   "cell_type": "code",
   "execution_count": 62,
   "id": "1b76b365-adea-4f5f-9eb2-ca776f3f6a18",
   "metadata": {},
   "outputs": [],
   "source": [
    "l1.insert(1,\"sarfaraj\")"
   ]
  },
  {
   "cell_type": "code",
   "execution_count": 63,
   "id": "849235b9-ac8b-4c6e-8027-0ccfbed44ba4",
   "metadata": {},
   "outputs": [
    {
     "data": {
      "text/plain": [
       "[3, 'sarfaraj', 4, 5]"
      ]
     },
     "execution_count": 63,
     "metadata": {},
     "output_type": "execute_result"
    }
   ],
   "source": [
    "l1"
   ]
  },
  {
   "cell_type": "code",
   "execution_count": 66,
   "id": "db40f1ad-5a75-47da-bd20-00cdd8117811",
   "metadata": {},
   "outputs": [],
   "source": [
    "l1.insert(2, [2,3,4])"
   ]
  },
  {
   "cell_type": "code",
   "execution_count": 67,
   "id": "9aa43cfb-a0cb-4ebb-9fb2-9402d9c6529d",
   "metadata": {},
   "outputs": [
    {
     "data": {
      "text/plain": [
       "[3, 'sarfaraj', [2, 3, 4], [2, 3, 4], 4, 5]"
      ]
     },
     "execution_count": 67,
     "metadata": {},
     "output_type": "execute_result"
    }
   ],
   "source": [
    "l1"
   ]
  },
  {
   "cell_type": "code",
   "execution_count": 70,
   "id": "0bec50cb-fd15-457e-830f-c7f3c1df9263",
   "metadata": {},
   "outputs": [],
   "source": [
    "l1.insert(0 , 45)"
   ]
  },
  {
   "cell_type": "code",
   "execution_count": 71,
   "id": "b61a21ca-a2f6-4db3-aade-669c55d66219",
   "metadata": {},
   "outputs": [
    {
     "data": {
      "text/plain": [
       "[45, 3, 'sarfaraj', [2, 3, 4], [2, 3, 4], 4, 45, 5]"
      ]
     },
     "execution_count": 71,
     "metadata": {},
     "output_type": "execute_result"
    }
   ],
   "source": [
    "l1"
   ]
  },
  {
   "cell_type": "code",
   "execution_count": 74,
   "id": "419e7a14-aa10-4d5a-aeb3-5e181fa12c09",
   "metadata": {},
   "outputs": [
    {
     "data": {
      "text/plain": [
       "45"
      ]
     },
     "execution_count": 74,
     "metadata": {},
     "output_type": "execute_result"
    }
   ],
   "source": [
    "l1.pop()"
   ]
  },
  {
   "cell_type": "code",
   "execution_count": 80,
   "id": "a07d7270-5464-413c-b551-98d65d439282",
   "metadata": {},
   "outputs": [
    {
     "data": {
      "text/plain": [
       "[45, 3, [2, 3, 4], 4]"
      ]
     },
     "execution_count": 80,
     "metadata": {},
     "output_type": "execute_result"
    }
   ],
   "source": [
    "l1"
   ]
  },
  {
   "cell_type": "code",
   "execution_count": 81,
   "id": "a5054427-707a-4c18-bef7-416b5505612c",
   "metadata": {},
   "outputs": [],
   "source": [
    "l1 = [45, 3, 'sarfaraj', [2, 3, 4], [2, 3, 4], 4]"
   ]
  },
  {
   "cell_type": "code",
   "execution_count": 82,
   "id": "649bc6ea-4547-4563-aeee-e29fce263914",
   "metadata": {},
   "outputs": [
    {
     "data": {
      "text/plain": [
       "[45, 3, 'sarfaraj', [2, 3, 4], [2, 3, 4], 4]"
      ]
     },
     "execution_count": 82,
     "metadata": {},
     "output_type": "execute_result"
    }
   ],
   "source": [
    "l1"
   ]
  },
  {
   "cell_type": "markdown",
   "id": "729f045a-c2d4-4f04-9641-b5b3d171a3e2",
   "metadata": {},
   "source": []
  },
  {
   "cell_type": "code",
   "execution_count": 84,
   "id": "0e1b43d0-7641-4f31-b81a-a5a0a26b7dad",
   "metadata": {},
   "outputs": [
    {
     "data": {
      "text/plain": [
       "[2, 3, 4]"
      ]
     },
     "execution_count": 84,
     "metadata": {},
     "output_type": "execute_result"
    }
   ],
   "source": [
    "l1.pop(3)"
   ]
  },
  {
   "cell_type": "code",
   "execution_count": 85,
   "id": "0a745c75-29a6-4da6-bb18-ea23e5ec82e5",
   "metadata": {},
   "outputs": [
    {
     "data": {
      "text/plain": [
       "[45, 3, 'sarfaraj', [2, 3, 4], 4]"
      ]
     },
     "execution_count": 85,
     "metadata": {},
     "output_type": "execute_result"
    }
   ],
   "source": [
    "l1"
   ]
  },
  {
   "cell_type": "code",
   "execution_count": 86,
   "id": "6df3eb0f-2173-48db-abe0-2381f62326f6",
   "metadata": {},
   "outputs": [],
   "source": [
    "l1.remove(3)"
   ]
  },
  {
   "cell_type": "code",
   "execution_count": 87,
   "id": "84707c22-15e8-4c74-b549-7425cbe30484",
   "metadata": {},
   "outputs": [
    {
     "data": {
      "text/plain": [
       "[45, 'sarfaraj', [2, 3, 4], 4]"
      ]
     },
     "execution_count": 87,
     "metadata": {},
     "output_type": "execute_result"
    }
   ],
   "source": [
    "l1"
   ]
  },
  {
   "cell_type": "code",
   "execution_count": 88,
   "id": "ea4f14ba-3633-4e51-946b-5b3d977bb50b",
   "metadata": {},
   "outputs": [
    {
     "ename": "ValueError",
     "evalue": "list.remove(x): x not in list",
     "output_type": "error",
     "traceback": [
      "\u001b[0;31m---------------------------------------------------------------------------\u001b[0m",
      "\u001b[0;31mValueError\u001b[0m                                Traceback (most recent call last)",
      "Cell \u001b[0;32mIn[88], line 1\u001b[0m\n\u001b[0;32m----> 1\u001b[0m \u001b[43ml1\u001b[49m\u001b[38;5;241;43m.\u001b[39;49m\u001b[43mremove\u001b[49m\u001b[43m(\u001b[49m\u001b[38;5;241;43m234\u001b[39;49m\u001b[43m)\u001b[49m\n",
      "\u001b[0;31mValueError\u001b[0m: list.remove(x): x not in list"
     ]
    }
   ],
   "source": [
    "l1.remove(234)"
   ]
  },
  {
   "cell_type": "code",
   "execution_count": 89,
   "id": "3dc221bc-0db6-48ca-b076-f05f9abebf86",
   "metadata": {},
   "outputs": [
    {
     "data": {
      "text/plain": [
       "[2, 3, 4]"
      ]
     },
     "execution_count": 89,
     "metadata": {},
     "output_type": "execute_result"
    }
   ],
   "source": [
    "l1[2]"
   ]
  },
  {
   "cell_type": "code",
   "execution_count": 90,
   "id": "2b731032-6093-4c9f-aae1-b3ea85132287",
   "metadata": {},
   "outputs": [],
   "source": [
    "l1[2].remove(3)"
   ]
  },
  {
   "cell_type": "code",
   "execution_count": 91,
   "id": "68e3289f-d45d-4286-b118-ed29592e30ac",
   "metadata": {},
   "outputs": [
    {
     "data": {
      "text/plain": [
       "[45, 'sarfaraj', [2, 4], 4]"
      ]
     },
     "execution_count": 91,
     "metadata": {},
     "output_type": "execute_result"
    }
   ],
   "source": [
    "l1"
   ]
  },
  {
   "cell_type": "code",
   "execution_count": 95,
   "id": "182f455e-eacb-46f3-bacf-1119936fb922",
   "metadata": {},
   "outputs": [],
   "source": [
    "l1.append(4)"
   ]
  },
  {
   "cell_type": "code",
   "execution_count": 96,
   "id": "efbb64ea-1fc0-4a17-8efb-d679cad088aa",
   "metadata": {},
   "outputs": [
    {
     "data": {
      "text/plain": [
       "[45, 'sarfaraj', [2, 4], 4, 4]"
      ]
     },
     "execution_count": 96,
     "metadata": {},
     "output_type": "execute_result"
    }
   ],
   "source": [
    "l1"
   ]
  },
  {
   "cell_type": "code",
   "execution_count": 97,
   "id": "8d65a6ff-fb92-4e5a-8ed5-d6a53fca0680",
   "metadata": {},
   "outputs": [],
   "source": [
    "l1.remove(4)"
   ]
  },
  {
   "cell_type": "code",
   "execution_count": 98,
   "id": "ade87113-afdd-4588-8234-cef22c1ce344",
   "metadata": {},
   "outputs": [
    {
     "data": {
      "text/plain": [
       "[45, 'sarfaraj', [2, 4], 4]"
      ]
     },
     "execution_count": 98,
     "metadata": {},
     "output_type": "execute_result"
    }
   ],
   "source": [
    "l1"
   ]
  },
  {
   "cell_type": "code",
   "execution_count": 104,
   "id": "771c5663-090e-466e-869f-49da8de338f2",
   "metadata": {},
   "outputs": [
    {
     "data": {
      "text/plain": [
       "[4, [2, 4], 'sarfaraj', 45]"
      ]
     },
     "execution_count": 104,
     "metadata": {},
     "output_type": "execute_result"
    }
   ],
   "source": [
    "l1[::-1]"
   ]
  },
  {
   "cell_type": "code",
   "execution_count": 101,
   "id": "181886de-4565-48db-800f-f0122e4fe43b",
   "metadata": {},
   "outputs": [],
   "source": [
    "l1.reverse()"
   ]
  },
  {
   "cell_type": "code",
   "execution_count": 102,
   "id": "48019f8f-38ab-4813-a41e-a6781d28fe13",
   "metadata": {},
   "outputs": [
    {
     "data": {
      "text/plain": [
       "[4, [2, 4], 'sarfaraj', 45]"
      ]
     },
     "execution_count": 102,
     "metadata": {},
     "output_type": "execute_result"
    }
   ],
   "source": [
    "l1"
   ]
  },
  {
   "cell_type": "code",
   "execution_count": 105,
   "id": "499716e6-cb17-496e-8be8-2e2505174468",
   "metadata": {},
   "outputs": [
    {
     "data": {
      "text/plain": [
       "[45, 'sarfaraj', [2, 4], 4]"
      ]
     },
     "execution_count": 105,
     "metadata": {},
     "output_type": "execute_result"
    }
   ],
   "source": [
    "l1"
   ]
  },
  {
   "cell_type": "code",
   "execution_count": 106,
   "id": "2e4d4c55-37eb-47c2-8456-f4726e7c8eea",
   "metadata": {},
   "outputs": [
    {
     "ename": "TypeError",
     "evalue": "'<' not supported between instances of 'str' and 'int'",
     "output_type": "error",
     "traceback": [
      "\u001b[0;31m---------------------------------------------------------------------------\u001b[0m",
      "\u001b[0;31mTypeError\u001b[0m                                 Traceback (most recent call last)",
      "Cell \u001b[0;32mIn[106], line 1\u001b[0m\n\u001b[0;32m----> 1\u001b[0m \u001b[43ml1\u001b[49m\u001b[38;5;241;43m.\u001b[39;49m\u001b[43msort\u001b[49m\u001b[43m(\u001b[49m\u001b[43m)\u001b[49m\n",
      "\u001b[0;31mTypeError\u001b[0m: '<' not supported between instances of 'str' and 'int'"
     ]
    }
   ],
   "source": [
    "l1.sort()"
   ]
  },
  {
   "cell_type": "code",
   "execution_count": 110,
   "id": "b4f594d4-3d6d-477d-93d3-fdd6685771a1",
   "metadata": {},
   "outputs": [],
   "source": [
    "l2 = [32,14,65,26,87,48,90]"
   ]
  },
  {
   "cell_type": "code",
   "execution_count": 111,
   "id": "f9088d67-61f8-4702-b88e-3217756f719a",
   "metadata": {},
   "outputs": [],
   "source": [
    "l2.sort()"
   ]
  },
  {
   "cell_type": "code",
   "execution_count": 112,
   "id": "a45c2109-f1e7-49a9-a335-ba85087f42eb",
   "metadata": {},
   "outputs": [
    {
     "data": {
      "text/plain": [
       "[14, 26, 32, 48, 65, 87, 90]"
      ]
     },
     "execution_count": 112,
     "metadata": {},
     "output_type": "execute_result"
    }
   ],
   "source": [
    "l2"
   ]
  },
  {
   "cell_type": "code",
   "execution_count": 121,
   "id": "f2e992d4-a518-4ba9-8f5f-c9bc111e361b",
   "metadata": {},
   "outputs": [],
   "source": [
    "l3 = [34,\"sarfaraj\",45,12, \"sheikh\"]"
   ]
  },
  {
   "cell_type": "code",
   "execution_count": 115,
   "id": "b0f55cd8-5f83-41c3-b3b6-091fc23b32fc",
   "metadata": {},
   "outputs": [],
   "source": [
    "l4 = [\"sarf\", \"sheikh\", \"data \"]"
   ]
  },
  {
   "cell_type": "code",
   "execution_count": 118,
   "id": "acc3de27-2a0c-4010-aa7b-9232f27994d0",
   "metadata": {},
   "outputs": [],
   "source": [
    "l4.sort(reverse=True)"
   ]
  },
  {
   "cell_type": "code",
   "execution_count": 119,
   "id": "dd118f5c-49ce-454e-a4a6-9b5bbe6c8429",
   "metadata": {},
   "outputs": [
    {
     "data": {
      "text/plain": [
       "['sheikh', 'sarf', 'data ']"
      ]
     },
     "execution_count": 119,
     "metadata": {},
     "output_type": "execute_result"
    }
   ],
   "source": [
    "l4"
   ]
  },
  {
   "cell_type": "code",
   "execution_count": 122,
   "id": "482aa048-ed30-4b82-9889-086fc1ebcc71",
   "metadata": {},
   "outputs": [
    {
     "data": {
      "text/plain": [
       "['sheikh', 'sarf', 'data ']"
      ]
     },
     "execution_count": 122,
     "metadata": {},
     "output_type": "execute_result"
    }
   ],
   "source": [
    "l4"
   ]
  },
  {
   "cell_type": "code",
   "execution_count": 123,
   "id": "3ef80fb7-d82e-498e-9d86-edc5e546f3eb",
   "metadata": {},
   "outputs": [
    {
     "data": {
      "text/plain": [
       "1"
      ]
     },
     "execution_count": 123,
     "metadata": {},
     "output_type": "execute_result"
    }
   ],
   "source": [
    "l4.index(\"sarf\")"
   ]
  },
  {
   "cell_type": "code",
   "execution_count": 124,
   "id": "2e5b78f3-a4c5-4c10-b4b0-eeb4dd7377a8",
   "metadata": {},
   "outputs": [
    {
     "data": {
      "text/plain": [
       "1"
      ]
     },
     "execution_count": 124,
     "metadata": {},
     "output_type": "execute_result"
    }
   ],
   "source": [
    "l4.count(\"sarf\")"
   ]
  },
  {
   "cell_type": "code",
   "execution_count": 125,
   "id": "b13d0099-3e74-49e1-87e5-ea7e76540afd",
   "metadata": {},
   "outputs": [],
   "source": [
    "s= \"sarf\""
   ]
  },
  {
   "cell_type": "code",
   "execution_count": 126,
   "id": "7e81a1cc-c521-4e58-a0a7-e1b0b0427dc4",
   "metadata": {},
   "outputs": [],
   "source": [
    "l5 = [3,4,5,6]"
   ]
  },
  {
   "cell_type": "code",
   "execution_count": 130,
   "id": "ecbd9b34-7ffb-4b43-a27d-79b60f6cf128",
   "metadata": {},
   "outputs": [
    {
     "ename": "TypeError",
     "evalue": "'str' object does not support item assignment",
     "output_type": "error",
     "traceback": [
      "\u001b[0;31m---------------------------------------------------------------------------\u001b[0m",
      "\u001b[0;31mTypeError\u001b[0m                                 Traceback (most recent call last)",
      "Cell \u001b[0;32mIn[130], line 1\u001b[0m\n\u001b[0;32m----> 1\u001b[0m \u001b[43ms\u001b[49m\u001b[43m[\u001b[49m\u001b[38;5;241;43m0\u001b[39;49m\u001b[43m]\u001b[49m \u001b[38;5;241m=\u001b[39m \u001b[38;5;124m'\u001b[39m\u001b[38;5;124ma\u001b[39m\u001b[38;5;124m'\u001b[39m\n",
      "\u001b[0;31mTypeError\u001b[0m: 'str' object does not support item assignment"
     ]
    }
   ],
   "source": [
    "s[0] = 'a'"
   ]
  },
  {
   "cell_type": "code",
   "execution_count": 132,
   "id": "4ff2b2f5-2da6-47bc-a80a-42d331980ca8",
   "metadata": {},
   "outputs": [],
   "source": [
    "l5[0]= 30"
   ]
  },
  {
   "cell_type": "code",
   "execution_count": 133,
   "id": "f8c591c8-e45d-4f48-8f2b-ce617077ab6f",
   "metadata": {},
   "outputs": [
    {
     "data": {
      "text/plain": [
       "[30, 4, 5, 6]"
      ]
     },
     "execution_count": 133,
     "metadata": {},
     "output_type": "execute_result"
    }
   ],
   "source": [
    "l5"
   ]
  },
  {
   "cell_type": "code",
   "execution_count": 134,
   "id": "2bd2f02e-f160-42f0-8b13-22796f24f5c1",
   "metadata": {},
   "outputs": [
    {
     "data": {
      "text/plain": [
       "'aarf'"
      ]
     },
     "execution_count": 134,
     "metadata": {},
     "output_type": "execute_result"
    }
   ],
   "source": [
    "s.replace('s','a')"
   ]
  },
  {
   "cell_type": "code",
   "execution_count": 135,
   "id": "a3d8181e-9fc6-4392-8c58-8f479dfe4b13",
   "metadata": {},
   "outputs": [
    {
     "data": {
      "text/plain": [
       "'sarf'"
      ]
     },
     "execution_count": 135,
     "metadata": {},
     "output_type": "execute_result"
    }
   ],
   "source": [
    "s"
   ]
  },
  {
   "cell_type": "code",
   "execution_count": 137,
   "id": "360bd6f1-0500-4b28-b62c-097a4c2a53b6",
   "metadata": {},
   "outputs": [],
   "source": [
    "t = (2,3,4,5,\"sarf\", 45.56, False, 45+457j, [3,4,5])"
   ]
  },
  {
   "cell_type": "code",
   "execution_count": 138,
   "id": "3cef7579-5666-47fa-aadb-3dc3bc6fd533",
   "metadata": {},
   "outputs": [
    {
     "data": {
      "text/plain": [
       "(2, 3, 4, 5, 'sarf', 45.56, False, (45+457j), [3, 4, 5])"
      ]
     },
     "execution_count": 138,
     "metadata": {},
     "output_type": "execute_result"
    }
   ],
   "source": [
    "t"
   ]
  },
  {
   "cell_type": "code",
   "execution_count": 139,
   "id": "6a098511-fe65-40c3-aafc-31127132c539",
   "metadata": {},
   "outputs": [
    {
     "data": {
      "text/plain": [
       "tuple"
      ]
     },
     "execution_count": 139,
     "metadata": {},
     "output_type": "execute_result"
    }
   ],
   "source": [
    "type(t)"
   ]
  },
  {
   "cell_type": "code",
   "execution_count": 140,
   "id": "f40f13bb-dc3e-40bb-be3a-7bf1f106044f",
   "metadata": {},
   "outputs": [
    {
     "data": {
      "text/plain": [
       "9"
      ]
     },
     "execution_count": 140,
     "metadata": {},
     "output_type": "execute_result"
    }
   ],
   "source": [
    "len(t)"
   ]
  },
  {
   "cell_type": "code",
   "execution_count": 141,
   "id": "6027ea7e-96a1-45b7-b3d2-5d666b31237c",
   "metadata": {},
   "outputs": [
    {
     "data": {
      "text/plain": [
       "2"
      ]
     },
     "execution_count": 141,
     "metadata": {},
     "output_type": "execute_result"
    }
   ],
   "source": [
    "t[0]"
   ]
  },
  {
   "cell_type": "code",
   "execution_count": 142,
   "id": "5d80e2e1-8ced-4278-83b2-3ed2242d6af3",
   "metadata": {},
   "outputs": [
    {
     "data": {
      "text/plain": [
       "[3, 4, 5]"
      ]
     },
     "execution_count": 142,
     "metadata": {},
     "output_type": "execute_result"
    }
   ],
   "source": [
    "t[-1]"
   ]
  },
  {
   "cell_type": "code",
   "execution_count": 143,
   "id": "4feaa6c0-e724-434b-90b0-6000270c8a67",
   "metadata": {},
   "outputs": [
    {
     "data": {
      "text/plain": [
       "([3, 4, 5], (45+457j), False, 45.56, 'sarf', 5, 4, 3, 2)"
      ]
     },
     "execution_count": 143,
     "metadata": {},
     "output_type": "execute_result"
    }
   ],
   "source": [
    "t[::-1]"
   ]
  },
  {
   "cell_type": "code",
   "execution_count": 144,
   "id": "d4926060-2455-44a8-a67f-681714b81fb0",
   "metadata": {},
   "outputs": [
    {
     "data": {
      "text/plain": [
       "['sheikh', 'sarf', 'data ']"
      ]
     },
     "execution_count": 144,
     "metadata": {},
     "output_type": "execute_result"
    }
   ],
   "source": [
    "l4"
   ]
  },
  {
   "cell_type": "code",
   "execution_count": 145,
   "id": "8434dbb1-ab92-4280-b26d-17a28fbe3894",
   "metadata": {},
   "outputs": [
    {
     "data": {
      "text/plain": [
       "'sheikh'"
      ]
     },
     "execution_count": 145,
     "metadata": {},
     "output_type": "execute_result"
    }
   ],
   "source": [
    "l4[0]"
   ]
  },
  {
   "cell_type": "code",
   "execution_count": 148,
   "id": "f29ea928-ba2e-4fed-b3f7-ea21b94f3683",
   "metadata": {},
   "outputs": [],
   "source": [
    "l4[0] = 23424"
   ]
  },
  {
   "cell_type": "code",
   "execution_count": 149,
   "id": "aacef595-489f-4241-97e4-912819ec8f78",
   "metadata": {},
   "outputs": [
    {
     "data": {
      "text/plain": [
       "[23424, 'sarf', 'data ']"
      ]
     },
     "execution_count": 149,
     "metadata": {},
     "output_type": "execute_result"
    }
   ],
   "source": [
    "l4"
   ]
  },
  {
   "cell_type": "code",
   "execution_count": 150,
   "id": "5c0867ae-987c-4e02-9223-761021e4072e",
   "metadata": {},
   "outputs": [
    {
     "data": {
      "text/plain": [
       "(2, 3, 4, 5, 'sarf', 45.56, False, (45+457j), [3, 4, 5])"
      ]
     },
     "execution_count": 150,
     "metadata": {},
     "output_type": "execute_result"
    }
   ],
   "source": [
    "t"
   ]
  },
  {
   "cell_type": "code",
   "execution_count": 152,
   "id": "e80f0e22-29be-4892-83db-e51228580dc6",
   "metadata": {},
   "outputs": [
    {
     "ename": "TypeError",
     "evalue": "'tuple' object does not support item assignment",
     "output_type": "error",
     "traceback": [
      "\u001b[0;31m---------------------------------------------------------------------------\u001b[0m",
      "\u001b[0;31mTypeError\u001b[0m                                 Traceback (most recent call last)",
      "Cell \u001b[0;32mIn[152], line 1\u001b[0m\n\u001b[0;32m----> 1\u001b[0m \u001b[43mt\u001b[49m\u001b[43m[\u001b[49m\u001b[38;5;241;43m0\u001b[39;49m\u001b[43m]\u001b[49m \u001b[38;5;241m=\u001b[39m \u001b[38;5;124m\"\u001b[39m\u001b[38;5;124msarf\u001b[39m\u001b[38;5;124m\"\u001b[39m\n",
      "\u001b[0;31mTypeError\u001b[0m: 'tuple' object does not support item assignment"
     ]
    }
   ],
   "source": [
    "t[0] = \"sarf\""
   ]
  },
  {
   "cell_type": "code",
   "execution_count": 153,
   "id": "027aa6e7-58cb-4b1c-9024-b00b1557f299",
   "metadata": {},
   "outputs": [
    {
     "data": {
      "text/plain": [
       "([3, 4, 5], (45+457j), False, 45.56, 'sarf', 5, 4, 3, 2)"
      ]
     },
     "execution_count": 153,
     "metadata": {},
     "output_type": "execute_result"
    }
   ],
   "source": [
    "t[::-1]"
   ]
  },
  {
   "cell_type": "code",
   "execution_count": 155,
   "id": "7aadf9d2-7e34-4b9d-a01e-bce0388350e7",
   "metadata": {},
   "outputs": [
    {
     "data": {
      "text/plain": [
       "1"
      ]
     },
     "execution_count": 155,
     "metadata": {},
     "output_type": "execute_result"
    }
   ],
   "source": [
    "t.count(5)"
   ]
  },
  {
   "cell_type": "code",
   "execution_count": 156,
   "id": "e71bde13-dd4f-4ae8-b277-b05ab753c555",
   "metadata": {},
   "outputs": [
    {
     "data": {
      "text/plain": [
       "6"
      ]
     },
     "execution_count": 156,
     "metadata": {},
     "output_type": "execute_result"
    }
   ],
   "source": [
    "t.index(False)"
   ]
  },
  {
   "cell_type": "code",
   "execution_count": 157,
   "id": "833c561e-543b-4898-a0cf-e6f8d91370ec",
   "metadata": {},
   "outputs": [
    {
     "data": {
      "text/plain": [
       "(2, 3, 4, 5, 'sarf', 45.56, False, (45+457j), [3, 4, 5])"
      ]
     },
     "execution_count": 157,
     "metadata": {},
     "output_type": "execute_result"
    }
   ],
   "source": [
    "t"
   ]
  },
  {
   "cell_type": "code",
   "execution_count": 158,
   "id": "daf5c349-8097-48aa-9b5a-3e5bd0d20e85",
   "metadata": {},
   "outputs": [],
   "source": [
    "s1 = {}"
   ]
  },
  {
   "cell_type": "code",
   "execution_count": 159,
   "id": "94d70896-3fbd-4644-b7c3-35ed3e068ee1",
   "metadata": {},
   "outputs": [
    {
     "data": {
      "text/plain": [
       "dict"
      ]
     },
     "execution_count": 159,
     "metadata": {},
     "output_type": "execute_result"
    }
   ],
   "source": [
    "type(s1)"
   ]
  },
  {
   "cell_type": "code",
   "execution_count": 160,
   "id": "c1c151f3-7ba6-42cb-b8d5-8c8a61f7aee4",
   "metadata": {},
   "outputs": [],
   "source": [
    "s2 = {2,3,4,5,6}"
   ]
  },
  {
   "cell_type": "code",
   "execution_count": 161,
   "id": "a2606ed0-5102-4c3b-8694-d7746ee0dcf5",
   "metadata": {},
   "outputs": [
    {
     "data": {
      "text/plain": [
       "set"
      ]
     },
     "execution_count": 161,
     "metadata": {},
     "output_type": "execute_result"
    }
   ],
   "source": [
    "type(s2)"
   ]
  },
  {
   "cell_type": "code",
   "execution_count": 163,
   "id": "71a0846c-9320-46b2-a5cd-8620d80d8438",
   "metadata": {},
   "outputs": [],
   "source": [
    "s3 = {324.456,\"sarf\", 45+45j, 34.465,(3,4,5)}"
   ]
  },
  {
   "cell_type": "code",
   "execution_count": 164,
   "id": "e3e80653-e98e-4614-81ed-defab5dbef53",
   "metadata": {},
   "outputs": [
    {
     "data": {
      "text/plain": [
       "{(3, 4, 5), (45+45j), 324.456, 34.465, 'sarf'}"
      ]
     },
     "execution_count": 164,
     "metadata": {},
     "output_type": "execute_result"
    }
   ],
   "source": [
    "s3"
   ]
  },
  {
   "cell_type": "code",
   "execution_count": 169,
   "id": "703e228c-a453-4657-b95a-a1bc8aa61c9d",
   "metadata": {},
   "outputs": [],
   "source": [
    "s4 = {2,3,4,5,6,2,2,3,4,5,2,3,1,2,3,4,5,6,1,2,2,3,\"Sarf\", \"sarf\"}"
   ]
  },
  {
   "cell_type": "code",
   "execution_count": 170,
   "id": "e740b07b-cd43-4129-8297-ccc7084192a7",
   "metadata": {},
   "outputs": [
    {
     "data": {
      "text/plain": [
       "{1, 2, 3, 4, 5, 6, 'Sarf', 'sarf'}"
      ]
     },
     "execution_count": 170,
     "metadata": {},
     "output_type": "execute_result"
    }
   ],
   "source": [
    "s4"
   ]
  },
  {
   "cell_type": "code",
   "execution_count": 171,
   "id": "2987b438-12f3-4278-8e9c-1db868ed9ca3",
   "metadata": {},
   "outputs": [],
   "source": [
    "l6 = [2,3,4,5,6,2,2,3,4,5,2,3,1,2,3,4,5,6,1,2,2,3,\"Sarf\", \"sarf\"]"
   ]
  },
  {
   "cell_type": "code",
   "execution_count": 178,
   "id": "b190061f-0c97-47b7-93dc-cff576523666",
   "metadata": {},
   "outputs": [],
   "source": [
    "l6 = list (set(l6))"
   ]
  },
  {
   "cell_type": "code",
   "execution_count": 179,
   "id": "9a19bf39-f62c-44a7-b1c9-23b6821e9b85",
   "metadata": {},
   "outputs": [
    {
     "data": {
      "text/plain": [
       "[1, 2, 3, 4, 5, 6, 'sarf', 'Sarf']"
      ]
     },
     "execution_count": 179,
     "metadata": {},
     "output_type": "execute_result"
    }
   ],
   "source": [
    "l6"
   ]
  },
  {
   "cell_type": "code",
   "execution_count": 180,
   "id": "a9c25c42-e634-48d8-8010-d9f687d32f70",
   "metadata": {},
   "outputs": [],
   "source": [
    "s5 = {324,34,12,567,789,\"abc\",456,324,345}"
   ]
  },
  {
   "cell_type": "code",
   "execution_count": 181,
   "id": "f46d3bef-881e-4b5b-a293-3959481f1ba4",
   "metadata": {},
   "outputs": [
    {
     "data": {
      "text/plain": [
       "{12, 324, 34, 345, 456, 567, 789, 'abc'}"
      ]
     },
     "execution_count": 181,
     "metadata": {},
     "output_type": "execute_result"
    }
   ],
   "source": [
    "s5"
   ]
  },
  {
   "cell_type": "code",
   "execution_count": 182,
   "id": "b94f6b63-a8cc-4145-8ba2-17fceb43f358",
   "metadata": {},
   "outputs": [
    {
     "ename": "TypeError",
     "evalue": "'set' object is not subscriptable",
     "output_type": "error",
     "traceback": [
      "\u001b[0;31m---------------------------------------------------------------------------\u001b[0m",
      "\u001b[0;31mTypeError\u001b[0m                                 Traceback (most recent call last)",
      "Cell \u001b[0;32mIn[182], line 1\u001b[0m\n\u001b[0;32m----> 1\u001b[0m \u001b[43ms5\u001b[49m\u001b[43m[\u001b[49m\u001b[38;5;241;43m0\u001b[39;49m\u001b[43m]\u001b[49m\n",
      "\u001b[0;31mTypeError\u001b[0m: 'set' object is not subscriptable"
     ]
    }
   ],
   "source": [
    "s5[0]"
   ]
  },
  {
   "cell_type": "code",
   "execution_count": 183,
   "id": "f16cd5c2-9d75-4a05-b538-f45da8403143",
   "metadata": {},
   "outputs": [
    {
     "ename": "TypeError",
     "evalue": "'set' object is not subscriptable",
     "output_type": "error",
     "traceback": [
      "\u001b[0;31m---------------------------------------------------------------------------\u001b[0m",
      "\u001b[0;31mTypeError\u001b[0m                                 Traceback (most recent call last)",
      "Cell \u001b[0;32mIn[183], line 1\u001b[0m\n\u001b[0;32m----> 1\u001b[0m \u001b[43ms5\u001b[49m\u001b[43m[\u001b[49m\u001b[43m:\u001b[49m\u001b[43m:\u001b[49m\u001b[38;5;241;43m-\u001b[39;49m\u001b[38;5;241;43m1\u001b[39;49m\u001b[43m]\u001b[49m\n",
      "\u001b[0;31mTypeError\u001b[0m: 'set' object is not subscriptable"
     ]
    }
   ],
   "source": [
    "s5[::-1]"
   ]
  },
  {
   "cell_type": "code",
   "execution_count": 184,
   "id": "4fdc0bcd-6a5f-49ce-b272-f05d502b31ec",
   "metadata": {},
   "outputs": [
    {
     "data": {
      "text/plain": [
       "{12, 324, 34, 345, 456, 567, 789, 'abc'}"
      ]
     },
     "execution_count": 184,
     "metadata": {},
     "output_type": "execute_result"
    }
   ],
   "source": [
    "s5"
   ]
  },
  {
   "cell_type": "code",
   "execution_count": 185,
   "id": "94cd9a43-2bbb-4b05-b6ea-c50fdd782d93",
   "metadata": {},
   "outputs": [],
   "source": [
    "s5.add(4)"
   ]
  },
  {
   "cell_type": "code",
   "execution_count": 186,
   "id": "d0416be1-2473-403e-a61e-13b0258d6ff7",
   "metadata": {},
   "outputs": [
    {
     "data": {
      "text/plain": [
       "{12, 324, 34, 345, 4, 456, 567, 789, 'abc'}"
      ]
     },
     "execution_count": 186,
     "metadata": {},
     "output_type": "execute_result"
    }
   ],
   "source": [
    "s5"
   ]
  },
  {
   "cell_type": "code",
   "execution_count": 188,
   "id": "e310badb-3973-49a5-b84e-0d5ae93296b9",
   "metadata": {},
   "outputs": [],
   "source": [
    "s5.remove(34)"
   ]
  },
  {
   "cell_type": "code",
   "execution_count": 189,
   "id": "ac15dfb8-68d6-4694-80b2-d25c5ee46318",
   "metadata": {},
   "outputs": [
    {
     "data": {
      "text/plain": [
       "{12, 324, 345, 4, 456, 567, 789, 'abc'}"
      ]
     },
     "execution_count": 189,
     "metadata": {},
     "output_type": "execute_result"
    }
   ],
   "source": [
    "s5"
   ]
  },
  {
   "cell_type": "code",
   "execution_count": null,
   "id": "69a43c8a-d17e-4df1-bcf4-d326704c4a23",
   "metadata": {},
   "outputs": [],
   "source": []
  }
 ],
 "metadata": {
  "kernelspec": {
   "display_name": "Python 3 (ipykernel)",
   "language": "python",
   "name": "python3"
  },
  "language_info": {
   "codemirror_mode": {
    "name": "ipython",
    "version": 3
   },
   "file_extension": ".py",
   "mimetype": "text/x-python",
   "name": "python",
   "nbconvert_exporter": "python",
   "pygments_lexer": "ipython3",
   "version": "3.10.8"
  }
 },
 "nbformat": 4,
 "nbformat_minor": 5
}
