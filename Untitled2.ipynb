{
 "cells": [
  {
   "cell_type": "code",
   "execution_count": 11,
   "id": "e295210d-d157-44cd-9411-43a77249ac0b",
   "metadata": {},
   "outputs": [],
   "source": [
    "d = {}"
   ]
  },
  {
   "cell_type": "code",
   "execution_count": 12,
   "id": "f79120ae-3255-4ad1-bf74-8ea2febffd16",
   "metadata": {},
   "outputs": [
    {
     "data": {
      "text/plain": [
       "dict"
      ]
     },
     "execution_count": 12,
     "metadata": {},
     "output_type": "execute_result"
    }
   ],
   "source": [
    "type(d)"
   ]
  },
  {
   "cell_type": "code",
   "execution_count": 13,
   "id": "24c5d1ed-09a9-41ec-a587-643f451e3a0a",
   "metadata": {},
   "outputs": [],
   "source": [
    "d1 = {'key' :\"sarf\"}"
   ]
  },
  {
   "cell_type": "code",
   "execution_count": 14,
   "id": "8a6acdcb-5b2e-44d3-8267-42688d0a3ec6",
   "metadata": {},
   "outputs": [
    {
     "data": {
      "text/plain": [
       "{'key': 'sarf'}"
      ]
     },
     "execution_count": 14,
     "metadata": {},
     "output_type": "execute_result"
    }
   ],
   "source": [
    "d1"
   ]
  },
  {
   "cell_type": "code",
   "execution_count": 19,
   "id": "18a6d5d4-0832-4278-a807-b51c14cc15ee",
   "metadata": {},
   "outputs": [],
   "source": [
    "d2 = {'name' : \"sarfaraj\" , \"email\" : \"smd3054@.com\" , \"number\" : 1234}"
   ]
  },
  {
   "cell_type": "code",
   "execution_count": 20,
   "id": "b1fe1606-269e-4bcd-8b50-dd15f0acb5ce",
   "metadata": {},
   "outputs": [
    {
     "data": {
      "text/plain": [
       "{'name': 'sarfaraj', 'email': 'smd3054@.com', 'number': 1234}"
      ]
     },
     "execution_count": 20,
     "metadata": {},
     "output_type": "execute_result"
    }
   ],
   "source": [
    "d2"
   ]
  },
  {
   "cell_type": "code",
   "execution_count": 24,
   "id": "ee3fc5b5-2c7e-4f99-9104-2d0d591b7cdf",
   "metadata": {},
   "outputs": [],
   "source": [
    "d3 = {234 : \"sarf\" , '_wer' : \"sheikh\",True :1234}"
   ]
  },
  {
   "cell_type": "code",
   "execution_count": 25,
   "id": "4f073909-1c12-4269-bd37-9b2a1a344beb",
   "metadata": {},
   "outputs": [
    {
     "data": {
      "text/plain": [
       "{234: 'sarf', '_wer': 'sheikh', True: 1234}"
      ]
     },
     "execution_count": 25,
     "metadata": {},
     "output_type": "execute_result"
    }
   ],
   "source": [
    "d3"
   ]
  },
  {
   "cell_type": "code",
   "execution_count": 26,
   "id": "b83b1fb3-8974-413b-9a27-6f0636167fce",
   "metadata": {},
   "outputs": [
    {
     "data": {
      "text/plain": [
       "'sarf'"
      ]
     },
     "execution_count": 26,
     "metadata": {},
     "output_type": "execute_result"
    }
   ],
   "source": [
    "d3[234]"
   ]
  },
  {
   "cell_type": "code",
   "execution_count": 27,
   "id": "e7c8151f-93f4-40e3-ad2e-19a9362c8168",
   "metadata": {},
   "outputs": [
    {
     "data": {
      "text/plain": [
       "1234"
      ]
     },
     "execution_count": 27,
     "metadata": {},
     "output_type": "execute_result"
    }
   ],
   "source": [
    "d3[True]"
   ]
  },
  {
   "cell_type": "code",
   "execution_count": 28,
   "id": "2159f788-7594-4814-8d03-5c44ffb35527",
   "metadata": {},
   "outputs": [
    {
     "data": {
      "text/plain": [
       "1234"
      ]
     },
     "execution_count": 28,
     "metadata": {},
     "output_type": "execute_result"
    }
   ],
   "source": [
    "d3[1]"
   ]
  },
  {
   "cell_type": "code",
   "execution_count": 30,
   "id": "2bf9fcd2-9186-450a-bead-7f045b0f2243",
   "metadata": {},
   "outputs": [],
   "source": [
    "d4 = {'name' : \"sarf\" , 'mail_id' : \"smd45.com\", \"name\":\"sarfaraj\"}"
   ]
  },
  {
   "cell_type": "code",
   "execution_count": 32,
   "id": "cb2da3b8-daff-46f2-9f13-01d66abcc9e9",
   "metadata": {},
   "outputs": [
    {
     "data": {
      "text/plain": [
       "'sarfaraj'"
      ]
     },
     "execution_count": 32,
     "metadata": {},
     "output_type": "execute_result"
    }
   ],
   "source": [
    "d4['name']"
   ]
  },
  {
   "cell_type": "code",
   "execution_count": 33,
   "id": "62094b1e-4d87-4c68-ac94-d922c75b0592",
   "metadata": {},
   "outputs": [],
   "source": [
    "d5 = {'company' : \"pwskills\", \"course\" : [\"web dev\", \"data science\"]}"
   ]
  },
  {
   "cell_type": "code",
   "execution_count": 34,
   "id": "a5ea75e0-1b67-40c4-bd33-462f82bf1463",
   "metadata": {},
   "outputs": [
    {
     "data": {
      "text/plain": [
       "{'company': 'pwskills', 'course': ['web dev', 'data science']}"
      ]
     },
     "execution_count": 34,
     "metadata": {},
     "output_type": "execute_result"
    }
   ],
   "source": [
    "d5"
   ]
  },
  {
   "cell_type": "code",
   "execution_count": 36,
   "id": "466aeb4b-5476-4502-bfb6-7be98f8f1a95",
   "metadata": {},
   "outputs": [
    {
     "data": {
      "text/plain": [
       "['web dev', 'data science']"
      ]
     },
     "execution_count": 36,
     "metadata": {},
     "output_type": "execute_result"
    }
   ],
   "source": [
    "d5[\"course\"]"
   ]
  },
  {
   "cell_type": "code",
   "execution_count": 37,
   "id": "73b27ee8-7f5e-4d45-b228-8d4f7a87b0d2",
   "metadata": {},
   "outputs": [
    {
     "data": {
      "text/plain": [
       "'data science'"
      ]
     },
     "execution_count": 37,
     "metadata": {},
     "output_type": "execute_result"
    }
   ],
   "source": [
    "d5[\"course\"][1]"
   ]
  },
  {
   "cell_type": "code",
   "execution_count": 51,
   "id": "9a3d33ca-7370-4543-a385-c50e5a2bbb21",
   "metadata": {},
   "outputs": [],
   "source": [
    "d6 = {'number' : [3,34,56,5,] , \"assignment\" : (1,2,3,4,5), \"launch date\" : {28,12,14}}"
   ]
  },
  {
   "cell_type": "code",
   "execution_count": 52,
   "id": "794e1d19-125f-45cc-ac48-57098a942c1c",
   "metadata": {},
   "outputs": [
    {
     "data": {
      "text/plain": [
       "{'number': [3, 34, 56, 5],\n",
       " 'assignment': (1, 2, 3, 4, 5),\n",
       " 'launch date': {12, 14, 28}}"
      ]
     },
     "execution_count": 52,
     "metadata": {},
     "output_type": "execute_result"
    }
   ],
   "source": [
    "d6"
   ]
  },
  {
   "cell_type": "code",
   "execution_count": 53,
   "id": "563b9ae1-e893-442c-b2ce-1b8de8ada81e",
   "metadata": {},
   "outputs": [
    {
     "data": {
      "text/plain": [
       "{'number': [3, 34, 56, 5],\n",
       " 'assignment': (1, 2, 3, 4, 5),\n",
       " 'launch date': {12, 14, 28}}"
      ]
     },
     "execution_count": 53,
     "metadata": {},
     "output_type": "execute_result"
    }
   ],
   "source": [
    "d6"
   ]
  },
  {
   "cell_type": "code",
   "execution_count": 60,
   "id": "f3a0a918-c81f-4ba0-adec-849705e40e02",
   "metadata": {},
   "outputs": [],
   "source": [
    "d6['mentor'] = [\"sudhanshu\",\"anurag\" , \"krish\", \"hayder\"]"
   ]
  },
  {
   "cell_type": "code",
   "execution_count": 61,
   "id": "2ac6153a-e84f-48d1-bc21-834cd7228a46",
   "metadata": {},
   "outputs": [
    {
     "data": {
      "text/plain": [
       "{'number': [3, 34, 56, 5],\n",
       " 'assignment': (1, 2, 3, 4, 5),\n",
       " 'launch date': {12, 14, 28},\n",
       " 'mentor': ['sudhanshu', 'anurag', 'krish', 'hayder']}"
      ]
     },
     "execution_count": 61,
     "metadata": {},
     "output_type": "execute_result"
    }
   ],
   "source": [
    "d6"
   ]
  },
  {
   "cell_type": "code",
   "execution_count": 62,
   "id": "d34e4bf6-ee56-4601-8c32-a3d5a1490be3",
   "metadata": {},
   "outputs": [
    {
     "data": {
      "text/plain": [
       "{12, 14, 28}"
      ]
     },
     "execution_count": 62,
     "metadata": {},
     "output_type": "execute_result"
    }
   ],
   "source": [
    "d6[\"launch date\"]"
   ]
  },
  {
   "cell_type": "code",
   "execution_count": 63,
   "id": "f2a4f2f9-8446-4c55-8609-b30165457310",
   "metadata": {},
   "outputs": [
    {
     "data": {
      "text/plain": [
       "{'number': [3, 34, 56, 5],\n",
       " 'assignment': (1, 2, 3, 4, 5),\n",
       " 'launch date': {12, 14, 28},\n",
       " 'mentor': ['sudhanshu', 'anurag', 'krish', 'hayder']}"
      ]
     },
     "execution_count": 63,
     "metadata": {},
     "output_type": "execute_result"
    }
   ],
   "source": [
    "d6"
   ]
  },
  {
   "cell_type": "code",
   "execution_count": 64,
   "id": "8f028cf9-06be-43b5-99a0-e7dbcfd79881",
   "metadata": {},
   "outputs": [],
   "source": [
    "del d6['number']"
   ]
  },
  {
   "cell_type": "code",
   "execution_count": 65,
   "id": "466a8158-48a9-4a71-95b1-f35bbd544ccb",
   "metadata": {},
   "outputs": [
    {
     "data": {
      "text/plain": [
       "{'assignment': (1, 2, 3, 4, 5),\n",
       " 'launch date': {12, 14, 28},\n",
       " 'mentor': ['sudhanshu', 'anurag', 'krish', 'hayder']}"
      ]
     },
     "execution_count": 65,
     "metadata": {},
     "output_type": "execute_result"
    }
   ],
   "source": [
    "d6"
   ]
  },
  {
   "cell_type": "code",
   "execution_count": 68,
   "id": "9be3c411-3bd3-4689-a6b7-925e013fc803",
   "metadata": {},
   "outputs": [
    {
     "data": {
      "text/plain": [
       "['assignment', 'launch date', 'mentor']"
      ]
     },
     "execution_count": 68,
     "metadata": {},
     "output_type": "execute_result"
    }
   ],
   "source": [
    "list(d6.keys())"
   ]
  },
  {
   "cell_type": "code",
   "execution_count": 70,
   "id": "a3725165-a7fc-4e98-a73e-602a52599b29",
   "metadata": {},
   "outputs": [
    {
     "data": {
      "text/plain": [
       "[(1, 2, 3, 4, 5), {12, 14, 28}, ['sudhanshu', 'anurag', 'krish', 'hayder']]"
      ]
     },
     "execution_count": 70,
     "metadata": {},
     "output_type": "execute_result"
    }
   ],
   "source": [
    "list(d6.values())"
   ]
  },
  {
   "cell_type": "code",
   "execution_count": 74,
   "id": "24544ba5-6499-4611-bfb6-d92ae9064980",
   "metadata": {},
   "outputs": [
    {
     "data": {
      "text/plain": [
       "[('assignment', (1, 2, 3, 4, 5)),\n",
       " ('launch date', {12, 14, 28}),\n",
       " ('mentor', ['sudhanshu', 'anurag', 'krish', 'hayder'])]"
      ]
     },
     "execution_count": 74,
     "metadata": {},
     "output_type": "execute_result"
    }
   ],
   "source": [
    "list(d6.items())"
   ]
  },
  {
   "cell_type": "code",
   "execution_count": 76,
   "id": "ac3dfc8c-eddc-420e-addb-8b3361d86dfa",
   "metadata": {},
   "outputs": [
    {
     "data": {
      "text/plain": [
       "(1, 2, 3, 4, 5)"
      ]
     },
     "execution_count": 76,
     "metadata": {},
     "output_type": "execute_result"
    }
   ],
   "source": [
    "d6.pop('assignment')"
   ]
  },
  {
   "cell_type": "code",
   "execution_count": 77,
   "id": "c6a4198b-dd05-41f8-a137-6a6d0d5d9b53",
   "metadata": {},
   "outputs": [
    {
     "data": {
      "text/plain": [
       "{'launch date': {12, 14, 28},\n",
       " 'mentor': ['sudhanshu', 'anurag', 'krish', 'hayder']}"
      ]
     },
     "execution_count": 77,
     "metadata": {},
     "output_type": "execute_result"
    }
   ],
   "source": [
    "d6"
   ]
  },
  {
   "cell_type": "code",
   "execution_count": 78,
   "id": "e8213340-c28f-479c-9ba2-42fbd311ee6e",
   "metadata": {},
   "outputs": [
    {
     "ename": "TypeError",
     "evalue": "pop expected at least 1 argument, got 0",
     "output_type": "error",
     "traceback": [
      "\u001b[0;31m---------------------------------------------------------------------------\u001b[0m",
      "\u001b[0;31mTypeError\u001b[0m                                 Traceback (most recent call last)",
      "Cell \u001b[0;32mIn[78], line 1\u001b[0m\n\u001b[0;32m----> 1\u001b[0m \u001b[43md6\u001b[49m\u001b[38;5;241;43m.\u001b[39;49m\u001b[43mpop\u001b[49m\u001b[43m(\u001b[49m\u001b[43m)\u001b[49m\n",
      "\u001b[0;31mTypeError\u001b[0m: pop expected at least 1 argument, got 0"
     ]
    }
   ],
   "source": [
    "d6.pop()"
   ]
  },
  {
   "cell_type": "code",
   "execution_count": 85,
   "id": "a1034ddb-7fd9-4a4a-8fa7-07ffd2962a1a",
   "metadata": {},
   "outputs": [
    {
     "name": "stdin",
     "output_type": "stream",
     "text": [
      "enter your marks 23\n"
     ]
    },
    {
     "ename": "TypeError",
     "evalue": "'>=' not supported between instances of 'str' and 'int'",
     "output_type": "error",
     "traceback": [
      "\u001b[0;31m---------------------------------------------------------------------------\u001b[0m",
      "\u001b[0;31mTypeError\u001b[0m                                 Traceback (most recent call last)",
      "Cell \u001b[0;32mIn[85], line 2\u001b[0m\n\u001b[1;32m      1\u001b[0m marks \u001b[38;5;241m=\u001b[39m \u001b[38;5;28minput\u001b[39m(\u001b[38;5;124m\"\u001b[39m\u001b[38;5;124menter your marks\u001b[39m\u001b[38;5;124m\"\u001b[39m)\n\u001b[0;32m----> 2\u001b[0m \u001b[38;5;28;01mif\u001b[39;00m \u001b[43mmarks\u001b[49m\u001b[43m \u001b[49m\u001b[38;5;241;43m>\u001b[39;49m\u001b[38;5;241;43m=\u001b[39;49m\u001b[43m \u001b[49m\u001b[38;5;241;43m80\u001b[39;49m:\n\u001b[1;32m      3\u001b[0m     \u001b[38;5;28mprint\u001b[39m(\u001b[38;5;124m\"\u001b[39m\u001b[38;5;124myou will be a part of A0 batch\u001b[39m\u001b[38;5;124m\"\u001b[39m)\n\u001b[1;32m      4\u001b[0m \u001b[38;5;28;01melif\u001b[39;00m marks \u001b[38;5;241m>\u001b[39m\u001b[38;5;241m=\u001b[39m \u001b[38;5;241m60\u001b[39m \u001b[38;5;129;01mand\u001b[39;00m marks\u001b[38;5;241m<\u001b[39m \u001b[38;5;241m80\u001b[39m:\n",
      "\u001b[0;31mTypeError\u001b[0m: '>=' not supported between instances of 'str' and 'int'"
     ]
    }
   ],
   "source": [
    "marks = input (\"enter your marks\")\n",
    "if marks >= 80:\n",
    "    print(\"you will be a part of A0 batch\")\n",
    "elif marks >= 60 and marks< 80:\n",
    "    print(\"you will be a part of A1 batch\")\n",
    "elif marks >= 40 and marks< 60 :\n",
    "    print(\"you will be a part of A2 batch\")\n",
    "else :\n",
    "    print(\"you will be a part of A3 batch\")\n",
    "\n",
    "    "
   ]
  },
  {
   "cell_type": "code",
   "execution_count": null,
   "id": "2297c57d-4743-47e4-8a5f-5ce6480293bc",
   "metadata": {},
   "outputs": [],
   "source": [
    "marks = int (input (\"enter your marks\"))\n",
    "if marks >= 80:\n",
    "    print(\"you will be a part of A0 batch\")\n",
    "elif marks >= 60 and marks< 80:\n",
    "    print(\"you will be a part of A1 batch\")\n",
    "elif marks >= 40 and marks< 60 :\n",
    "    print(\"you will be a part of A2 batch\")\n",
    "else :\n",
    "    print(\"you will be a part of A3 batch\")\n",
    "\n",
    "    "
   ]
  },
  {
   "cell_type": "code",
   "execution_count": 89,
   "id": "29d603c6-94cd-4dd4-a22e-c5f845d54ec1",
   "metadata": {},
   "outputs": [
    {
     "name": "stdin",
     "output_type": "stream",
     "text": [
      "enter your marks 99\n"
     ]
    },
    {
     "name": "stdout",
     "output_type": "stream",
     "text": [
      "you will be a part of A0 batch\n"
     ]
    }
   ],
   "source": [
    "marks =int( input (\"enter your marks\"))\n",
    "if marks >= 80:\n",
    "    print(\"you will be a part of A0 batch\")\n",
    "elif marks >= 60 and marks< 80:\n",
    "    print(\"you will be a part of A1 batch\")\n",
    "elif marks >= 40 and marks< 60 :\n",
    "    print(\"you will be a part of A2 batch\")\n",
    "else :\n",
    "    print(\"you will be a part of A3 batch\")\n",
    "    "
   ]
  },
  {
   "cell_type": "code",
   "execution_count": 90,
   "id": "2095e303-03a4-4e59-a82f-613f0e2fb8e6",
   "metadata": {},
   "outputs": [
    {
     "name": "stdin",
     "output_type": "stream",
     "text": [
      "enter price 500\n"
     ]
    },
    {
     "name": "stdout",
     "output_type": "stream",
     "text": [
      "i will purchase\n"
     ]
    }
   ],
   "source": [
    "price = int(input(\"enter price\"))\n",
    "if price > 1000:\n",
    "    print(\"i will not purchase\")\n",
    "else : \n",
    "    print(\"i will purchase\")"
   ]
  },
  {
   "cell_type": "code",
   "execution_count": 98,
   "id": "3d31873d-b2f5-4ac3-93bd-5932b5b7c9e4",
   "metadata": {},
   "outputs": [
    {
     "name": "stdin",
     "output_type": "stream",
     "text": [
      "enter price 800\n"
     ]
    },
    {
     "name": "stdout",
     "output_type": "stream",
     "text": [
      "i will purchase\n"
     ]
    }
   ],
   "source": [
    "price = int(input(\"enter price\"))\n",
    "if price > 1000:\n",
    "    print(\"i will not purchase\") \n",
    "    if price > 5000:\n",
    "        print (\"this is too much\")\n",
    "    elif price < 2000 :\n",
    "        print (\"its okay\")\n",
    "elif price <1000:\n",
    "    print (\"i will purchase\")\n",
    "else :\n",
    "    print (\"not intrested\")"
   ]
  },
  {
   "cell_type": "code",
   "execution_count": 100,
   "id": "9a7d9413-9e1c-4e07-8abc-95c6fd9856ea",
   "metadata": {},
   "outputs": [],
   "source": [
    "l = [1,2,3,3,4,5,6,7,8]"
   ]
  },
  {
   "cell_type": "code",
   "execution_count": 102,
   "id": "c1fe460f-2a5c-4484-ba9b-cfc3bfbb9fd1",
   "metadata": {},
   "outputs": [
    {
     "data": {
      "text/plain": [
       "2"
      ]
     },
     "execution_count": 102,
     "metadata": {},
     "output_type": "execute_result"
    }
   ],
   "source": [
    "l[0]+1"
   ]
  },
  {
   "cell_type": "code",
   "execution_count": 103,
   "id": "4924acaf-d0b6-49cd-addf-b6cf3f41726c",
   "metadata": {},
   "outputs": [],
   "source": [
    "l1 =[]"
   ]
  },
  {
   "cell_type": "code",
   "execution_count": 104,
   "id": "53a526e4-3453-4358-8de7-7e0edcaf1503",
   "metadata": {},
   "outputs": [],
   "source": [
    "l1.append(l[0] +1)"
   ]
  },
  {
   "cell_type": "code",
   "execution_count": 105,
   "id": "3808e923-ac64-481f-a858-842e3056b75f",
   "metadata": {},
   "outputs": [
    {
     "data": {
      "text/plain": [
       "[2]"
      ]
     },
     "execution_count": 105,
     "metadata": {},
     "output_type": "execute_result"
    }
   ],
   "source": [
    "l1"
   ]
  },
  {
   "cell_type": "code",
   "execution_count": 106,
   "id": "3a25b151-32b8-4f18-bef2-dd4f53de9737",
   "metadata": {},
   "outputs": [],
   "source": [
    "l = [1,2,3,3,4,5,6,7,8]"
   ]
  },
  {
   "cell_type": "code",
   "execution_count": 111,
   "id": "369832f5-7760-4c0d-93b7-563ff8fb27ef",
   "metadata": {},
   "outputs": [
    {
     "name": "stdout",
     "output_type": "stream",
     "text": [
      "2\n",
      "3\n",
      "4\n",
      "4\n",
      "5\n",
      "6\n",
      "7\n",
      "8\n",
      "9\n"
     ]
    },
    {
     "data": {
      "text/plain": [
       "[2, 3, 4, 4, 5, 6, 7, 8, 9]"
      ]
     },
     "execution_count": 111,
     "metadata": {},
     "output_type": "execute_result"
    }
   ],
   "source": [
    "l1 = []\n",
    "for i in l :\n",
    "    print(i+1)\n",
    "    l1.append(i+1)\n",
    "l1    "
   ]
  },
  {
   "cell_type": "code",
   "execution_count": 112,
   "id": "55327540-79b8-4aea-b10a-2379b176e578",
   "metadata": {},
   "outputs": [
    {
     "data": {
      "text/plain": [
       "[1, 2, 3, 3, 4, 5, 6, 7, 8]"
      ]
     },
     "execution_count": 112,
     "metadata": {},
     "output_type": "execute_result"
    }
   ],
   "source": [
    "l"
   ]
  },
  {
   "cell_type": "code",
   "execution_count": 115,
   "id": "560c67f0-147e-4b8c-a2ce-6777fa2c87ef",
   "metadata": {},
   "outputs": [],
   "source": [
    "l = ['sarf' , 'sheikh' , 'pwskills' , 'course']"
   ]
  },
  {
   "cell_type": "code",
   "execution_count": 117,
   "id": "ecce96d3-9699-4ff7-9fd6-b074a22e7a5c",
   "metadata": {},
   "outputs": [
    {
     "name": "stdout",
     "output_type": "stream",
     "text": [
      "sarf\n",
      "sheikh\n",
      "pwskills\n",
      "course\n"
     ]
    }
   ],
   "source": [
    "l1 =[]\n",
    "for i in l :\n",
    "    print(i)\n",
    "    l1.append(i.upper())"
   ]
  },
  {
   "cell_type": "code",
   "execution_count": 118,
   "id": "aed8ba40-ce76-4598-914a-58c30122deac",
   "metadata": {},
   "outputs": [
    {
     "data": {
      "text/plain": [
       "['SARF', 'SHEIKH', 'PWSKILLS', 'COURSE']"
      ]
     },
     "execution_count": 118,
     "metadata": {},
     "output_type": "execute_result"
    }
   ],
   "source": [
    "l1"
   ]
  },
  {
   "cell_type": "code",
   "execution_count": 119,
   "id": "1b714a5c-3b79-4274-83aa-b1b886e6d22d",
   "metadata": {},
   "outputs": [],
   "source": [
    "l = [1,2,3,4,4,\"sarf\",\"sheikh\" , 324,34.567,\"abc\"]"
   ]
  },
  {
   "cell_type": "code",
   "execution_count": 121,
   "id": "3759c2df-30f2-4c9f-b2c5-142b354746a2",
   "metadata": {},
   "outputs": [],
   "source": [
    "l1_num =[]\n",
    "l2_str =[]\n",
    "for i in l :\n",
    "    if type(i) == int or type(i) == float :\n",
    "        l1_num.append(i)\n",
    "    else :\n",
    "        l2_str.append(i)\n",
    "      \n",
    "        \n",
    "        \n",
    "    \n",
    "    "
   ]
  },
  {
   "cell_type": "code",
   "execution_count": 122,
   "id": "0cdbe42c-e675-4e93-ae46-4e2a3aaf2305",
   "metadata": {},
   "outputs": [
    {
     "data": {
      "text/plain": [
       "[1, 2, 3, 4, 4, 324, 34.567]"
      ]
     },
     "execution_count": 122,
     "metadata": {},
     "output_type": "execute_result"
    }
   ],
   "source": [
    "l1_num"
   ]
  },
  {
   "cell_type": "code",
   "execution_count": 123,
   "id": "124106c4-2d46-475b-a48f-75a173db3683",
   "metadata": {},
   "outputs": [
    {
     "data": {
      "text/plain": [
       "['sarf', 'sheikh', 'abc']"
      ]
     },
     "execution_count": 123,
     "metadata": {},
     "output_type": "execute_result"
    }
   ],
   "source": [
    "l2_str"
   ]
  },
  {
   "cell_type": "code",
   "execution_count": null,
   "id": "3a02bf67-69dc-4d7b-8df3-0c10fbe52695",
   "metadata": {},
   "outputs": [],
   "source": [
    " "
   ]
  }
 ],
 "metadata": {
  "kernelspec": {
   "display_name": "Python 3 (ipykernel)",
   "language": "python",
   "name": "python3"
  },
  "language_info": {
   "codemirror_mode": {
    "name": "ipython",
    "version": 3
   },
   "file_extension": ".py",
   "mimetype": "text/x-python",
   "name": "python",
   "nbconvert_exporter": "python",
   "pygments_lexer": "ipython3",
   "version": "3.10.8"
  }
 },
 "nbformat": 4,
 "nbformat_minor": 5
}
