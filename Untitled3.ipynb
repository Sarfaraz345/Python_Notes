{
 "cells": [
  {
   "cell_type": "code",
   "execution_count": 1,
   "id": "73146085-a9a1-4621-9462-291e2289623e",
   "metadata": {},
   "outputs": [
    {
     "ename": "ZeroDivisionError",
     "evalue": "division by zero",
     "output_type": "error",
     "traceback": [
      "\u001b[0;31m---------------------------------------------------------------------------\u001b[0m",
      "\u001b[0;31mZeroDivisionError\u001b[0m                         Traceback (most recent call last)",
      "Cell \u001b[0;32mIn[1], line 1\u001b[0m\n\u001b[0;32m----> 1\u001b[0m \u001b[38;5;241;43m1\u001b[39;49m\u001b[38;5;241;43m/\u001b[39;49m\u001b[43m \u001b[49m\u001b[38;5;28;43;01mFalse\u001b[39;49;00m\n",
      "\u001b[0;31mZeroDivisionError\u001b[0m: division by zero"
     ]
    }
   ],
   "source": [
    "1/ False"
   ]
  },
  {
   "cell_type": "code",
   "execution_count": 3,
   "id": "81845c3d-4f8a-4f8e-b933-76cec2a65e8b",
   "metadata": {},
   "outputs": [],
   "source": [
    "num1 = 23\n",
    "num2 = 44 \n",
    "num3 = 2+3j\n",
    "num1= num2.imag"
   ]
  },
  {
   "cell_type": "code",
   "execution_count": 5,
   "id": "57edc604-9fae-4805-a1fc-1ee9c737c65b",
   "metadata": {},
   "outputs": [
    {
     "data": {
      "text/plain": [
       "44"
      ]
     },
     "execution_count": 5,
     "metadata": {},
     "output_type": "execute_result"
    }
   ],
   "source": [
    "num2-num1"
   ]
  },
  {
   "cell_type": "code",
   "execution_count": 6,
   "id": "93ac23f7-54fd-4479-bec5-c156e8e9359d",
   "metadata": {},
   "outputs": [],
   "source": [
    "s = 'pwskills'"
   ]
  },
  {
   "cell_type": "code",
   "execution_count": 9,
   "id": "a4c9adbb-1e6f-479d-b5a2-73865ec1eb64",
   "metadata": {},
   "outputs": [
    {
     "ename": "SyntaxError",
     "evalue": "invalid syntax (1847923571.py, line 1)",
     "output_type": "error",
     "traceback": [
      "\u001b[0;36m  Cell \u001b[0;32mIn[9], line 1\u001b[0;36m\u001b[0m\n\u001b[0;31m    int s + 1\u001b[0m\n\u001b[0m        ^\u001b[0m\n\u001b[0;31mSyntaxError\u001b[0m\u001b[0;31m:\u001b[0m invalid syntax\n"
     ]
    }
   ],
   "source": [
    "int "
   ]
  },
  {
   "cell_type": "code",
   "execution_count": 11,
   "id": "3cd3a710-2a2d-43f8-b538-4d696d0c56f8",
   "metadata": {},
   "outputs": [
    {
     "data": {
      "text/plain": [
       "'pwskills1'"
      ]
     },
     "execution_count": 11,
     "metadata": {},
     "output_type": "execute_result"
    }
   ],
   "source": [
    "'pwskills' + str(1)"
   ]
  },
  {
   "cell_type": "code",
   "execution_count": 14,
   "id": "b1b50a45-4620-4dcc-a1aa-d9b0bfca7108",
   "metadata": {},
   "outputs": [
    {
     "ename": "NameError",
     "evalue": "name 'Pw' is not defined",
     "output_type": "error",
     "traceback": [
      "\u001b[0;31m---------------------------------------------------------------------------\u001b[0m",
      "\u001b[0;31mNameError\u001b[0m                                 Traceback (most recent call last)",
      "Cell \u001b[0;32mIn[14], line 1\u001b[0m\n\u001b[0;32m----> 1\u001b[0m \u001b[43mPw\u001b[49m\u001b[38;5;241m-\u001b[39mskills\n",
      "\u001b[0;31mNameError\u001b[0m: name 'Pw' is not defined"
     ]
    }
   ],
   "source": [
    "Pw-skills"
   ]
  },
  {
   "cell_type": "code",
   "execution_count": 15,
   "id": "3111386e-0f8f-4708-87bc-7b44737cbe98",
   "metadata": {},
   "outputs": [],
   "source": [
    "name = 'pwskills'"
   ]
  },
  {
   "cell_type": "code",
   "execution_count": 16,
   "id": "fbe3fc06-5e4a-4c85-a184-cef29c78ec82",
   "metadata": {},
   "outputs": [
    {
     "ename": "TypeError",
     "evalue": "'str' object does not support item assignment",
     "output_type": "error",
     "traceback": [
      "\u001b[0;31m---------------------------------------------------------------------------\u001b[0m",
      "\u001b[0;31mTypeError\u001b[0m                                 Traceback (most recent call last)",
      "Cell \u001b[0;32mIn[16], line 1\u001b[0m\n\u001b[0;32m----> 1\u001b[0m \u001b[43mname\u001b[49m\u001b[43m[\u001b[49m\u001b[38;5;241;43m0\u001b[39;49m\u001b[43m]\u001b[49m \u001b[38;5;241m=\u001b[39m \u001b[38;5;124m'\u001b[39m\u001b[38;5;124mp\u001b[39m\u001b[38;5;124m'\u001b[39m\n",
      "\u001b[0;31mTypeError\u001b[0m: 'str' object does not support item assignment"
     ]
    }
   ],
   "source": [
    "name[0] = 'p'"
   ]
  },
  {
   "cell_type": "code",
   "execution_count": 17,
   "id": "a6552ab1-563e-42bf-ac4c-944f239fd23d",
   "metadata": {},
   "outputs": [
    {
     "data": {
      "text/plain": [
       "True"
      ]
     },
     "execution_count": 17,
     "metadata": {},
     "output_type": "execute_result"
    }
   ],
   "source": [
    "'pwskills'.upper().lower().isalnum()"
   ]
  },
  {
   "cell_type": "code",
   "execution_count": 18,
   "id": "e4888262-7d84-4245-a198-1ccc726a2a97",
   "metadata": {},
   "outputs": [
    {
     "ename": "SyntaxError",
     "evalue": "invalid syntax (1933637684.py, line 1)",
     "output_type": "error",
     "traceback": [
      "\u001b[0;36m  Cell \u001b[0;32mIn[18], line 1\u001b[0;36m\u001b[0m\n\u001b[0;31m    .\u001b[0m\n\u001b[0m    ^\u001b[0m\n\u001b[0;31mSyntaxError\u001b[0m\u001b[0;31m:\u001b[0m invalid syntax\n"
     ]
    }
   ],
   "source": []
  },
  {
   "cell_type": "code",
   "execution_count": 19,
   "id": "d2845f84-4ad0-475c-9329-795ea746e246",
   "metadata": {},
   "outputs": [
    {
     "data": {
      "text/plain": [
       "'hello'"
      ]
     },
     "execution_count": 19,
     "metadata": {},
     "output_type": "execute_result"
    }
   ],
   "source": [
    "'''hello'''"
   ]
  },
  {
   "cell_type": "code",
   "execution_count": 20,
   "id": "a43c6370-5f12-4240-941b-6266c2a14119",
   "metadata": {},
   "outputs": [
    {
     "data": {
      "text/plain": [
       "'hello'"
      ]
     },
     "execution_count": 20,
     "metadata": {},
     "output_type": "execute_result"
    }
   ],
   "source": [
    "\"\"\"hello\"\"\""
   ]
  },
  {
   "cell_type": "code",
   "execution_count": 21,
   "id": "7238d887-9dc9-4e7b-992b-e3ca1f978c30",
   "metadata": {},
   "outputs": [
    {
     "ename": "ZeroDivisionError",
     "evalue": "division by zero",
     "output_type": "error",
     "traceback": [
      "\u001b[0;31m---------------------------------------------------------------------------\u001b[0m",
      "\u001b[0;31mZeroDivisionError\u001b[0m                         Traceback (most recent call last)",
      "Cell \u001b[0;32mIn[21], line 1\u001b[0m\n\u001b[0;32m----> 1\u001b[0m \u001b[38;5;28;43;01mTrue\u001b[39;49;00m\u001b[38;5;241;43m/\u001b[39;49m\u001b[43m \u001b[49m\u001b[38;5;28;43;01mFalse\u001b[39;49;00m\n",
      "\u001b[0;31mZeroDivisionError\u001b[0m: division by zero"
     ]
    }
   ],
   "source": [
    "True/ False"
   ]
  },
  {
   "cell_type": "code",
   "execution_count": 22,
   "id": "9b0738a5-bcb7-4c0a-95bc-04d4b61d682d",
   "metadata": {},
   "outputs": [],
   "source": [
    "s = \"pwskills\""
   ]
  },
  {
   "cell_type": "code",
   "execution_count": 24,
   "id": "55279cb6-066b-48bf-838b-ea014427b608",
   "metadata": {},
   "outputs": [
    {
     "data": {
      "text/plain": [
       "8"
      ]
     },
     "execution_count": 24,
     "metadata": {},
     "output_type": "execute_result"
    }
   ],
   "source": [
    "type(s) and len(s)"
   ]
  },
  {
   "cell_type": "code",
   "execution_count": 26,
   "id": "985a217c-faed-4007-ac8b-7dd831452565",
   "metadata": {},
   "outputs": [
    {
     "data": {
      "text/plain": [
       "'pwskills1'"
      ]
     },
     "execution_count": 26,
     "metadata": {},
     "output_type": "execute_result"
    }
   ],
   "source": [
    "'pwskills' + str(1)"
   ]
  },
  {
   "cell_type": "code",
   "execution_count": 27,
   "id": "31402376-f416-4cc9-b350-dd7459b7e718",
   "metadata": {},
   "outputs": [
    {
     "ename": "SyntaxError",
     "evalue": "invalid decimal literal (3536693197.py, line 1)",
     "output_type": "error",
     "traceback": [
      "\u001b[0;36m  Cell \u001b[0;32mIn[27], line 1\u001b[0;36m\u001b[0m\n\u001b[0;31m    100_num\u001b[0m\n\u001b[0m       ^\u001b[0m\n\u001b[0;31mSyntaxError\u001b[0m\u001b[0;31m:\u001b[0m invalid decimal literal\n"
     ]
    }
   ],
   "source": [
    "100_num"
   ]
  },
  {
   "cell_type": "code",
   "execution_count": 31,
   "id": "e6ff32c8-f8e3-4803-8b15-001df152b41c",
   "metadata": {},
   "outputs": [
    {
     "ename": "NameError",
     "evalue": "name 'My' is not defined",
     "output_type": "error",
     "traceback": [
      "\u001b[0;31m---------------------------------------------------------------------------\u001b[0m",
      "\u001b[0;31mNameError\u001b[0m                                 Traceback (most recent call last)",
      "Cell \u001b[0;32mIn[31], line 1\u001b[0m\n\u001b[0;32m----> 1\u001b[0m \u001b[43mMy\u001b[49m\u001b[38;5;241m-\u001b[39mname\n",
      "\u001b[0;31mNameError\u001b[0m: name 'My' is not defined"
     ]
    }
   ],
   "source": [
    "My-name"
   ]
  },
  {
   "cell_type": "code",
   "execution_count": 32,
   "id": "3348bfa6-067f-491e-b0ac-521facab4c8a",
   "metadata": {},
   "outputs": [
    {
     "data": {
      "text/plain": [
       "False"
      ]
     },
     "execution_count": 32,
     "metadata": {},
     "output_type": "execute_result"
    }
   ],
   "source": [
    "'pwskills'.upper().lower().isupper()"
   ]
  },
  {
   "cell_type": "code",
   "execution_count": 34,
   "id": "468d49d0-7410-40d5-8bdc-43abe0c5c9a5",
   "metadata": {},
   "outputs": [],
   "source": [
    "d = 2345"
   ]
  },
  {
   "cell_type": "code",
   "execution_count": 35,
   "id": "0d41f5c7-363e-4198-88de-78cf93c3f714",
   "metadata": {},
   "outputs": [
    {
     "name": "stdout",
     "output_type": "stream",
     "text": [
      "['0', '10', '20', '30', '40', '50']\n"
     ]
    }
   ],
   "source": [
    "list_out=[]\n",
    "for i in range(0,51,10):\n",
    "    list_out.append(str(i))\n",
    "print(list_out)    "
   ]
  },
  {
   "cell_type": "code",
   "execution_count": 36,
   "id": "05b9fd44-a24e-4e2d-8f54-dbda0a4f3fd8",
   "metadata": {},
   "outputs": [],
   "source": [
    "t= (45,)"
   ]
  },
  {
   "cell_type": "code",
   "execution_count": 37,
   "id": "12dd797b-82bd-4e79-8cc3-f3589614bc0a",
   "metadata": {},
   "outputs": [
    {
     "data": {
      "text/plain": [
       "tuple"
      ]
     },
     "execution_count": 37,
     "metadata": {},
     "output_type": "execute_result"
    }
   ],
   "source": [
    "type(t)"
   ]
  },
  {
   "cell_type": "code",
   "execution_count": 38,
   "id": "4c5228d7-26eb-49b1-a927-f8838a06be11",
   "metadata": {},
   "outputs": [
    {
     "name": "stdout",
     "output_type": "stream",
     "text": [
      "{1, 4, 9, 16, 25}\n"
     ]
    }
   ],
   "source": [
    "numbers = (1,2,3,4,5,5,4,3,2,1)\n",
    "list =[]\n",
    "for number in numbers :\n",
    "    list.append(number**2)\n",
    "print(set(list))    "
   ]
  },
  {
   "cell_type": "code",
   "execution_count": null,
   "id": "60537bb2-e757-4cad-a2e9-b6c541e2e505",
   "metadata": {},
   "outputs": [],
   "source": [
    " city = input(\"enter your city\")\n",
    "if city == \"Delhi\" :\n",
    "    print(\"Monument of your city is Red Fort\")\n",
    "if city == \"Agra\" :\n",
    "    print(\"Monument of your city is Tajmahal\")\n",
    "if city == \"Jaipur\":\n",
    "    print(\"Monument of your city is Jal Mahal\")\n",
    "else :\n",
    "    print (\"incorrect city name\")\n"
   ]
  },
  {
   "cell_type": "code",
   "execution_count": 23,
   "id": "3e3a7cdd-0957-44a2-94b6-db02163408b8",
   "metadata": {},
   "outputs": [
    {
     "data": {
      "text/plain": [
       "3.3333333333333335"
      ]
     },
     "execution_count": 23,
     "metadata": {},
     "output_type": "execute_result"
    }
   ],
   "source": [
    "s=10\n",
    "s/3"
   ]
  },
  {
   "cell_type": "code",
   "execution_count": null,
   "id": "edae6ccd-79d9-4686-9c8e-335e3e92dd31",
   "metadata": {},
   "outputs": [],
   "source": [
    "n=int(input(\"enter the number))\n",
    "l=[]\n",
    "for i in range(11,n):\n",
    "            if i%3==0:\n",
    "            i.append(i)\n",
    "len(l)"
   ]
  },
  {
   "cell_type": "code",
   "execution_count": null,
   "id": "19d48686-249d-428d-bc08-e59ba145cbfb",
   "metadata": {},
   "outputs": [],
   "source": []
  },
  {
   "cell_type": "code",
   "execution_count": null,
   "id": "0d8ed47c-f99e-42bd-8b30-4e3e639fb52e",
   "metadata": {},
   "outputs": [],
   "source": []
  }
 ],
 "metadata": {
  "kernelspec": {
   "display_name": "Python 3 (ipykernel)",
   "language": "python",
   "name": "python3"
  },
  "language_info": {
   "codemirror_mode": {
    "name": "ipython",
    "version": 3
   },
   "file_extension": ".py",
   "mimetype": "text/x-python",
   "name": "python",
   "nbconvert_exporter": "python",
   "pygments_lexer": "ipython3",
   "version": "3.10.8"
  }
 },
 "nbformat": 4,
 "nbformat_minor": 5
}
