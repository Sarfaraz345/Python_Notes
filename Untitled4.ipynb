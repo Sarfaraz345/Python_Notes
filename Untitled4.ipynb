{
 "cells": [
  {
   "cell_type": "code",
   "execution_count": 2,
   "id": "a2eb552f-016f-4c42-9658-8d078375b205",
   "metadata": {},
   "outputs": [],
   "source": [
    "l = [1,2,3,4,5]"
   ]
  },
  {
   "cell_type": "code",
   "execution_count": 4,
   "id": "d32d44b6-7181-4c8c-858f-0b6f9757c8e8",
   "metadata": {},
   "outputs": [
    {
     "name": "stdout",
     "output_type": "stream",
     "text": [
      "1 <class 'int'>\n",
      "2 <class 'int'>\n",
      "3 <class 'int'>\n",
      "4 <class 'int'>\n",
      "5 <class 'int'>\n"
     ]
    }
   ],
   "source": [
    "for i in l :\n",
    "    print(i, type(i))"
   ]
  },
  {
   "cell_type": "code",
   "execution_count": 5,
   "id": "cff988b8-e3a0-488d-a559-0e5c7bdfd33b",
   "metadata": {},
   "outputs": [],
   "source": [
    "l1 = [\"sarf\", \"sheikh\" , \"krish\" , \"nayak\"]"
   ]
  },
  {
   "cell_type": "code",
   "execution_count": 7,
   "id": "3e848be3-12e3-47ce-acdb-d63c4bf42e9f",
   "metadata": {},
   "outputs": [
    {
     "name": "stdout",
     "output_type": "stream",
     "text": [
      "sarf\n",
      "sheikh\n",
      "krish\n",
      "nayak\n"
     ]
    }
   ],
   "source": [
    "for i in l1 :\n",
    "    print(i)"
   ]
  },
  {
   "cell_type": "code",
   "execution_count": 9,
   "id": "29b4c3b5-ecf0-45d0-89df-c00726e56f83",
   "metadata": {},
   "outputs": [
    {
     "data": {
      "text/plain": [
       "['sarf', 'sheikh', 'krish', 'nayak']"
      ]
     },
     "execution_count": 9,
     "metadata": {},
     "output_type": "execute_result"
    }
   ],
   "source": [
    "l1"
   ]
  },
  {
   "cell_type": "raw",
   "id": "08ee3199-b625-4f49-a80a-b2732358e835",
   "metadata": {
    "tags": []
   },
   "source": [
    "\n"
   ]
  },
  {
   "cell_type": "code",
   "execution_count": 11,
   "id": "597669bc-7c3e-42e3-88f6-f7bc2cea45c2",
   "metadata": {},
   "outputs": [
    {
     "name": "stdout",
     "output_type": "stream",
     "text": [
      "sarf\n",
      "sheikh\n",
      "krish\n",
      "nayak\n",
      "if for loop is able to complete itself then only else will complete itself\n"
     ]
    }
   ],
   "source": [
    "for i in l1:\n",
    "    print(i)\n",
    "else :\n",
    "    print(\"if for loop is able to complete itself then only else will complete itself\")"
   ]
  },
  {
   "cell_type": "code",
   "execution_count": 12,
   "id": "05f2fdfb-af12-4736-95e6-f51c057fce67",
   "metadata": {},
   "outputs": [
    {
     "data": {
      "text/plain": [
       "['sarf', 'sheikh', 'krish', 'nayak']"
      ]
     },
     "execution_count": 12,
     "metadata": {},
     "output_type": "execute_result"
    }
   ],
   "source": [
    "l1"
   ]
  },
  {
   "cell_type": "code",
   "execution_count": 13,
   "id": "8da9dc58-6f0f-418b-a58e-898cb35a72b5",
   "metadata": {},
   "outputs": [
    {
     "name": "stdout",
     "output_type": "stream",
     "text": [
      "sarf\n"
     ]
    }
   ],
   "source": [
    "for i in l1:\n",
    "    if i == \"sheikh\":\n",
    "        break\n",
    "    print(i)"
   ]
  },
  {
   "cell_type": "code",
   "execution_count": 14,
   "id": "7dd340c8-c827-418f-bdbc-0b98569a930c",
   "metadata": {},
   "outputs": [
    {
     "data": {
      "text/plain": [
       "['sarf', 'sheikh', 'krish', 'nayak']"
      ]
     },
     "execution_count": 14,
     "metadata": {},
     "output_type": "execute_result"
    }
   ],
   "source": [
    "l1\n"
   ]
  },
  {
   "cell_type": "code",
   "execution_count": 15,
   "id": "1293e3e2-2ff5-43fa-b520-182b443be8f1",
   "metadata": {},
   "outputs": [
    {
     "name": "stdout",
     "output_type": "stream",
     "text": [
      "sarf\n"
     ]
    }
   ],
   "source": [
    "for i in l1:\n",
    "    if i == \"sheikh\":\n",
    "        break\n",
    "    print(i)  \n",
    "else :\n",
    "    print(\"execute this if loop is able to complete itself\")"
   ]
  },
  {
   "cell_type": "code",
   "execution_count": 16,
   "id": "e14998a5-e79d-4023-a33f-3334c4c2f5af",
   "metadata": {},
   "outputs": [
    {
     "data": {
      "text/plain": [
       "['sarf', 'sheikh', 'krish', 'nayak']"
      ]
     },
     "execution_count": 16,
     "metadata": {},
     "output_type": "execute_result"
    }
   ],
   "source": [
    "l1"
   ]
  },
  {
   "cell_type": "code",
   "execution_count": 17,
   "id": "e2f574da-c260-4bf0-8d2d-7678f064728a",
   "metadata": {},
   "outputs": [
    {
     "name": "stdout",
     "output_type": "stream",
     "text": [
      "sarf\n",
      "krish\n",
      "nayak\n"
     ]
    }
   ],
   "source": [
    "for i in l1 :\n",
    "    if i == \"sheikh\":\n",
    "        continue \n",
    "    print(i)"
   ]
  },
  {
   "cell_type": "code",
   "execution_count": 18,
   "id": "d256f3e4-cf79-4fd7-947b-2419e7068d04",
   "metadata": {},
   "outputs": [
    {
     "name": "stdout",
     "output_type": "stream",
     "text": [
      "sarf\n",
      "krish\n",
      "nayak\n",
      "execute this if loop is able to complete itself\n"
     ]
    }
   ],
   "source": [
    "for i in l1 :\n",
    "    if i == \"sheikh\":\n",
    "        continue \n",
    "    print(i)\n",
    "else : \n",
    "    print(\"execute this if loop is able to complete itself\")"
   ]
  },
  {
   "cell_type": "code",
   "execution_count": 19,
   "id": "1b5a9fff-4cec-4e98-bca6-7581d91ed75f",
   "metadata": {},
   "outputs": [
    {
     "data": {
      "text/plain": [
       "range(0, 5)"
      ]
     },
     "execution_count": 19,
     "metadata": {},
     "output_type": "execute_result"
    }
   ],
   "source": [
    "range(5)"
   ]
  },
  {
   "cell_type": "code",
   "execution_count": 20,
   "id": "4fb3822a-6e9f-46e6-b7c4-574994482fd8",
   "metadata": {},
   "outputs": [
    {
     "data": {
      "text/plain": [
       "[0, 1, 2, 3, 4]"
      ]
     },
     "execution_count": 20,
     "metadata": {},
     "output_type": "execute_result"
    }
   ],
   "source": [
    "list(range(5))"
   ]
  },
  {
   "cell_type": "code",
   "execution_count": 21,
   "id": "df180de3-7483-4a67-8de0-78380cc0c0c8",
   "metadata": {},
   "outputs": [
    {
     "data": {
      "text/plain": [
       "[0, 1, 2, 3, 4]"
      ]
     },
     "execution_count": 21,
     "metadata": {},
     "output_type": "execute_result"
    }
   ],
   "source": [
    "list(range(0,5,1))"
   ]
  },
  {
   "cell_type": "code",
   "execution_count": 22,
   "id": "91ef5325-b28f-42b1-b4bd-1e441d51f6e9",
   "metadata": {},
   "outputs": [
    {
     "data": {
      "text/plain": [
       "[0, 2, 4, 6, 8, 10, 12, 14, 16, 18]"
      ]
     },
     "execution_count": 22,
     "metadata": {},
     "output_type": "execute_result"
    }
   ],
   "source": [
    "list(range(0,20, 2))"
   ]
  },
  {
   "cell_type": "code",
   "execution_count": 23,
   "id": "c1727056-2cb8-453a-a677-906cfc1c047f",
   "metadata": {},
   "outputs": [
    {
     "data": {
      "text/plain": [
       "[-10, -9, -8, -7, -6, -5, -4, -3, -2, -1]"
      ]
     },
     "execution_count": 23,
     "metadata": {},
     "output_type": "execute_result"
    }
   ],
   "source": [
    "list(range(-10,0))"
   ]
  },
  {
   "cell_type": "code",
   "execution_count": 24,
   "id": "4c50fb21-9028-4d8b-82cd-7947d5727ec5",
   "metadata": {},
   "outputs": [
    {
     "data": {
      "text/plain": [
       "['sarf', 'sheikh', 'krish', 'nayak']"
      ]
     },
     "execution_count": 24,
     "metadata": {},
     "output_type": "execute_result"
    }
   ],
   "source": [
    "l1"
   ]
  },
  {
   "cell_type": "code",
   "execution_count": 27,
   "id": "607b921c-d770-4235-8f27-f93130ff137e",
   "metadata": {},
   "outputs": [
    {
     "name": "stdout",
     "output_type": "stream",
     "text": [
      "sarf\n",
      "sheikh\n",
      "krish\n",
      "nayak\n"
     ]
    }
   ],
   "source": [
    "for i in range(len(l1)):\n",
    "    print(l1[i])"
   ]
  },
  {
   "cell_type": "code",
   "execution_count": 28,
   "id": "ba43a6ab-cb58-4694-9350-bc64f78244dc",
   "metadata": {},
   "outputs": [
    {
     "name": "stdout",
     "output_type": "stream",
     "text": [
      "nayak\n",
      "krish\n",
      "sheikh\n",
      "sarf\n"
     ]
    }
   ],
   "source": [
    "for i in range(len(l1)-1,-1,-1):\n",
    "    print(l1[i])"
   ]
  },
  {
   "cell_type": "code",
   "execution_count": 29,
   "id": "a71767fb-2328-4861-bfec-cad97136e42f",
   "metadata": {},
   "outputs": [],
   "source": [
    "l2= [23,34,54,23,23,23,343,234,9,9,8]"
   ]
  },
  {
   "cell_type": "code",
   "execution_count": 31,
   "id": "22df6549-ce38-4ab5-9307-7731cf123181",
   "metadata": {},
   "outputs": [
    {
     "data": {
      "text/plain": [
       "[0, 2, 4, 6, 8, 10]"
      ]
     },
     "execution_count": 31,
     "metadata": {},
     "output_type": "execute_result"
    }
   ],
   "source": [
    "list(range(0 , len(l2) , 2))"
   ]
  },
  {
   "cell_type": "code",
   "execution_count": 32,
   "id": "95c57686-8ab5-4ea7-b7fd-b3df0d06cf46",
   "metadata": {},
   "outputs": [
    {
     "name": "stdout",
     "output_type": "stream",
     "text": [
      "23\n",
      "54\n",
      "23\n",
      "343\n",
      "9\n",
      "8\n"
     ]
    }
   ],
   "source": [
    "for i in range (0 , len(l2),2):\n",
    "    print(l2[i])"
   ]
  },
  {
   "cell_type": "code",
   "execution_count": 33,
   "id": "ede22d2c-aaa6-4916-a3a4-c004356e6889",
   "metadata": {},
   "outputs": [],
   "source": [
    "l = [1,2,3,4,5,6,7,98]"
   ]
  },
  {
   "cell_type": "code",
   "execution_count": 34,
   "id": "55d305c4-fc21-47b6-830b-fb5854e54550",
   "metadata": {},
   "outputs": [
    {
     "data": {
      "text/plain": [
       "126"
      ]
     },
     "execution_count": 34,
     "metadata": {},
     "output_type": "execute_result"
    }
   ],
   "source": [
    "sum(l)"
   ]
  },
  {
   "cell_type": "code",
   "execution_count": 35,
   "id": "939898dd-b12c-4ef1-a9c3-07f55d303b36",
   "metadata": {},
   "outputs": [
    {
     "data": {
      "text/plain": [
       "126"
      ]
     },
     "execution_count": 35,
     "metadata": {},
     "output_type": "execute_result"
    }
   ],
   "source": [
    "result = 0\n",
    "for i in l :\n",
    "    result = result+ i\n",
    "result"
   ]
  },
  {
   "cell_type": "code",
   "execution_count": 36,
   "id": "079fd24d-e74f-4088-8352-2e91eae00a83",
   "metadata": {},
   "outputs": [],
   "source": [
    "t = (1,2,3,4,5)"
   ]
  },
  {
   "cell_type": "code",
   "execution_count": 37,
   "id": "39304a2a-75fe-48f9-9558-589f85a693d1",
   "metadata": {},
   "outputs": [
    {
     "name": "stdout",
     "output_type": "stream",
     "text": [
      "1\n",
      "2\n",
      "3\n",
      "4\n",
      "5\n"
     ]
    }
   ],
   "source": [
    "for i in t :\n",
    "    print(i)"
   ]
  },
  {
   "cell_type": "code",
   "execution_count": 38,
   "id": "429fa80e-3df2-412e-a34d-4b981b9f7fb9",
   "metadata": {},
   "outputs": [
    {
     "data": {
      "text/plain": [
       "15"
      ]
     },
     "execution_count": 38,
     "metadata": {},
     "output_type": "execute_result"
    }
   ],
   "source": [
    "result = 0\n",
    "for i in t :\n",
    "    result = result+ i\n",
    "result"
   ]
  },
  {
   "cell_type": "code",
   "execution_count": 39,
   "id": "becd2af3-ed81-4802-803c-5b04f1500a76",
   "metadata": {},
   "outputs": [],
   "source": [
    "s = {1,2,3,4,5,\"sarf\", \"pwskills\"}"
   ]
  },
  {
   "cell_type": "code",
   "execution_count": 41,
   "id": "ba7d5422-7aa9-462b-9a5d-c59fe4c44281",
   "metadata": {},
   "outputs": [
    {
     "name": "stdout",
     "output_type": "stream",
     "text": [
      "1\n",
      "2\n",
      "3\n",
      "4\n",
      "5\n",
      "sarf\n",
      "pwskills\n"
     ]
    }
   ],
   "source": [
    "for i in s:\n",
    "    print(i)"
   ]
  },
  {
   "cell_type": "code",
   "execution_count": 43,
   "id": "9767b020-7ea5-4c28-b199-b4b96799681e",
   "metadata": {},
   "outputs": [],
   "source": [
    "s1 = \"pwskills\""
   ]
  },
  {
   "cell_type": "code",
   "execution_count": 44,
   "id": "6e1cb7e9-cdd3-4186-9257-2c6d2c556ae8",
   "metadata": {},
   "outputs": [
    {
     "name": "stdout",
     "output_type": "stream",
     "text": [
      "p\n",
      "w\n",
      "s\n",
      "k\n",
      "i\n",
      "l\n",
      "l\n",
      "s\n"
     ]
    }
   ],
   "source": [
    "for i in s1:\n",
    "    print(i)"
   ]
  },
  {
   "cell_type": "code",
   "execution_count": 46,
   "id": "e1c169a7-c699-4599-aee2-52ee37a51bcc",
   "metadata": {},
   "outputs": [],
   "source": [
    "d = {\"name\" : \"sarf\", \"class\" : \"data science\",\n",
    "     \"topic\" : [\"python\",\"machine learning\",\"nlp\"]}"
   ]
  },
  {
   "cell_type": "code",
   "execution_count": 47,
   "id": "442bc3b2-de0d-413c-892c-0d30da0c8322",
   "metadata": {},
   "outputs": [
    {
     "data": {
      "text/plain": [
       "{'name': 'sarf',\n",
       " 'class': 'data science',\n",
       " 'topic': ['python', 'machine learning', 'nlp']}"
      ]
     },
     "execution_count": 47,
     "metadata": {},
     "output_type": "execute_result"
    }
   ],
   "source": [
    "d"
   ]
  },
  {
   "cell_type": "code",
   "execution_count": 48,
   "id": "18de9130-843a-4d08-9b3b-00fdc7179ebd",
   "metadata": {},
   "outputs": [
    {
     "data": {
      "text/plain": [
       "'sarf'"
      ]
     },
     "execution_count": 48,
     "metadata": {},
     "output_type": "execute_result"
    }
   ],
   "source": [
    "d[\"name\"]"
   ]
  },
  {
   "cell_type": "code",
   "execution_count": 49,
   "id": "cf8aacc3-df01-4987-b5f7-e774b0e7103e",
   "metadata": {},
   "outputs": [
    {
     "data": {
      "text/plain": [
       "dict_keys(['name', 'class', 'topic'])"
      ]
     },
     "execution_count": 49,
     "metadata": {},
     "output_type": "execute_result"
    }
   ],
   "source": [
    "d.keys()"
   ]
  },
  {
   "cell_type": "code",
   "execution_count": 50,
   "id": "35f73ee0-1845-47fe-9467-636d2877afda",
   "metadata": {},
   "outputs": [
    {
     "name": "stdout",
     "output_type": "stream",
     "text": [
      "sarf\n",
      "data science\n",
      "['python', 'machine learning', 'nlp']\n"
     ]
    }
   ],
   "source": [
    "for i in d.keys():\n",
    "    print(d[i])"
   ]
  },
  {
   "cell_type": "code",
   "execution_count": 51,
   "id": "98e63097-b812-4d00-b55c-d872e9b179c1",
   "metadata": {},
   "outputs": [
    {
     "data": {
      "text/plain": [
       "dict_values(['sarf', 'data science', ['python', 'machine learning', 'nlp']])"
      ]
     },
     "execution_count": 51,
     "metadata": {},
     "output_type": "execute_result"
    }
   ],
   "source": [
    "d.values()"
   ]
  },
  {
   "cell_type": "code",
   "execution_count": 52,
   "id": "d6410703-7565-43f2-855f-19b32a089039",
   "metadata": {},
   "outputs": [
    {
     "name": "stdout",
     "output_type": "stream",
     "text": [
      "sarf\n",
      "data science\n",
      "['python', 'machine learning', 'nlp']\n"
     ]
    }
   ],
   "source": [
    "for i in d.values():\n",
    "    print(i)"
   ]
  },
  {
   "cell_type": "code",
   "execution_count": 53,
   "id": "006c2376-13be-4293-a0c1-5ec20ee662e4",
   "metadata": {},
   "outputs": [
    {
     "data": {
      "text/plain": [
       "dict_items([('name', 'sarf'), ('class', 'data science'), ('topic', ['python', 'machine learning', 'nlp'])])"
      ]
     },
     "execution_count": 53,
     "metadata": {},
     "output_type": "execute_result"
    }
   ],
   "source": [
    "d.items()"
   ]
  },
  {
   "cell_type": "code",
   "execution_count": 54,
   "id": "159dae07-c30f-445f-a602-b5477c354350",
   "metadata": {},
   "outputs": [
    {
     "name": "stdout",
     "output_type": "stream",
     "text": [
      "('name', 'sarf')\n",
      "('class', 'data science')\n",
      "('topic', ['python', 'machine learning', 'nlp'])\n"
     ]
    }
   ],
   "source": [
    "for i in d.items():\n",
    "    print(i)"
   ]
  },
  {
   "cell_type": "code",
   "execution_count": null,
   "id": "da9f9cf2-7930-48fb-b4d3-71fd30b73fbf",
   "metadata": {},
   "outputs": [],
   "source": []
  }
 ],
 "metadata": {
  "kernelspec": {
   "display_name": "Python 3 (ipykernel)",
   "language": "python",
   "name": "python3"
  },
  "language_info": {
   "codemirror_mode": {
    "name": "ipython",
    "version": 3
   },
   "file_extension": ".py",
   "mimetype": "text/x-python",
   "name": "python",
   "nbconvert_exporter": "python",
   "pygments_lexer": "ipython3",
   "version": "3.10.8"
  }
 },
 "nbformat": 4,
 "nbformat_minor": 5
}
