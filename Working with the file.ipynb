{
 "cells": [
  {
   "cell_type": "code",
   "execution_count": 2,
   "id": "9a201e80-c98a-4165-b120-7624d4d4e487",
   "metadata": {},
   "outputs": [],
   "source": [
    "f = open(\"test.txt\" , 'w')"
   ]
  },
  {
   "cell_type": "code",
   "execution_count": 3,
   "id": "9fb65f74-cd78-403d-95c5-d14af76ba8f0",
   "metadata": {},
   "outputs": [
    {
     "data": {
      "text/plain": [
       "'/home/jovyan/work'"
      ]
     },
     "execution_count": 3,
     "metadata": {},
     "output_type": "execute_result"
    }
   ],
   "source": [
    "pwd"
   ]
  },
  {
   "cell_type": "code",
   "execution_count": 4,
   "id": "7a3011bf-b4fa-41ef-8448-d8df9bd9c2d0",
   "metadata": {},
   "outputs": [
    {
     "name": "stdout",
     "output_type": "stream",
     "text": [
      "'05 feb assignment.ipynb'    'lambda function.ipynb'\n",
      "'08 Feb_AssQ..ipynb'         'Map,reduce function.ipynb'\n",
      "'09 Feb_AssQ.ipynb'          'oops part1.ipynb'\n",
      "'10 Feb_AssQ.ipynb'           Polymorphism.ipynb\n",
      "'12 Feb AssQ.ipynb'          'Property Decorators - getter setter.ipynb'\n",
      "'29th Jan Assignment.ipynb'  'python basics.ipynb'\n",
      "'2nd feb assignment.ipynb'   'Quiz practice.ipynb'\n",
      "'30th jan Assignment.ipynb'   sample-code.ipynb\n",
      "'3 Feb Assignment.ipynb'     'Special (magic dunder) method.ipynb'\n",
      "'4th feb Assignment.ipynb'   'Static method.ipynb'\n",
      "'6 Feb Assignment.ipynb'      test.txt\n",
      "'7th feb assignment.ipynb'    Untitled1.ipynb\n",
      "'Class method.ipynb'          Untitled2.ipynb\n",
      " comprehension.ipynb          Untitled3.ipynb\n",
      " Decorators.ipynb             Untitled4.ipynb\n",
      " Encapsulation.ipynb          Untitled7.ipynb\n",
      "'for loop.ipynb'             \u001b[0m\u001b[01;34m'Untitled Folder'\u001b[0m/\n",
      "'function part1.ipynb'       \u001b[01;34m'Untitled Folder 1'\u001b[0m/\n",
      "'Generator functions.ipynb'  'while loop.ipynb'\n",
      " Inheritance.ipynb           'Working with the file.ipynb'\n"
     ]
    }
   ],
   "source": [
    "ls"
   ]
  },
  {
   "cell_type": "code",
   "execution_count": 5,
   "id": "36b817de-eef2-48e4-999c-7efcc23c222b",
   "metadata": {},
   "outputs": [
    {
     "data": {
      "text/plain": [
       "30"
      ]
     },
     "execution_count": 5,
     "metadata": {},
     "output_type": "execute_result"
    }
   ],
   "source": [
    "f.write(\"this is my first file to write\")"
   ]
  },
  {
   "cell_type": "code",
   "execution_count": 6,
   "id": "1e2816bf-a683-4e86-8377-7e64fda446b3",
   "metadata": {},
   "outputs": [],
   "source": [
    "f.close()"
   ]
  },
  {
   "cell_type": "code",
   "execution_count": 7,
   "id": "ad994b33-b79f-4d2e-816b-324809d843a4",
   "metadata": {},
   "outputs": [],
   "source": [
    "f = open(\"test.txt\" , 'w')"
   ]
  },
  {
   "cell_type": "code",
   "execution_count": 8,
   "id": "0947214f-637c-455e-88a8-f84ced5798e1",
   "metadata": {},
   "outputs": [
    {
     "data": {
      "text/plain": [
       "15"
      ]
     },
     "execution_count": 8,
     "metadata": {},
     "output_type": "execute_result"
    }
   ],
   "source": [
    "f.write(\"this is my file\")"
   ]
  },
  {
   "cell_type": "code",
   "execution_count": 9,
   "id": "c6baaccf-fe63-40c8-8ae0-626f2430cef1",
   "metadata": {},
   "outputs": [],
   "source": [
    "f.close()"
   ]
  },
  {
   "cell_type": "code",
   "execution_count": 11,
   "id": "b487477a-bb42-43ab-9ac8-789575c45783",
   "metadata": {},
   "outputs": [],
   "source": [
    "f = open(\"test.txt\" , 'a')"
   ]
  },
  {
   "cell_type": "code",
   "execution_count": 15,
   "id": "8bfcae40-1343-4a47-bb2c-b806771cd203",
   "metadata": {},
   "outputs": [
    {
     "ename": "ValueError",
     "evalue": "I/O operation on closed file.",
     "output_type": "error",
     "traceback": [
      "\u001b[0;31m---------------------------------------------------------------------------\u001b[0m",
      "\u001b[0;31mValueError\u001b[0m                                Traceback (most recent call last)",
      "Cell \u001b[0;32mIn[15], line 1\u001b[0m\n\u001b[0;32m----> 1\u001b[0m \u001b[43mf\u001b[49m\u001b[38;5;241;43m.\u001b[39;49m\u001b[43mwrite\u001b[49m\u001b[43m(\u001b[49m\u001b[38;5;124;43m\"\u001b[39;49m\u001b[38;5;124;43mData Science Masters course is highly curated and uniquely designed according to the latest industry standards. This program instills students the skills essential to knowledge discovery efforts to identify standard, novel, and truly differentiated solutions and decision-making, including skills in managing, querying, analyzing, visualizing, and extracting meaning from extremely large data sets. This trending program provides students with the statistical, mathematical and computational skills needed to meet the large-scale data science challenges of today\u001b[39;49m\u001b[38;5;124;43m'\u001b[39;49m\u001b[38;5;124;43ms professional world. You will learn all the stack required to work in data science industry including cloud infrastructure and real-time industry projects. This course will be taught in Hindi language.\u001b[39;49m\u001b[38;5;124;43m\"\u001b[39;49m\u001b[43m)\u001b[49m\n",
      "\u001b[0;31mValueError\u001b[0m: I/O operation on closed file."
     ]
    }
   ],
   "source": [
    "f.write(\"Data Science Masters course is highly curated and uniquely designed according to the latest industry standards. This program instills students the skills essential to knowledge discovery efforts to identify standard, novel, and truly differentiated solutions and decision-making, including skills in managing, querying, analyzing, visualizing, and extracting meaning from extremely large data sets. This trending program provides students with the statistical, mathematical and computational skills needed to meet the large-scale data science challenges of today's professional world. You will learn all the stack required to work in data science industry including cloud infrastructure and real-time industry projects. This course will be taught in Hindi language.\")"
   ]
  },
  {
   "cell_type": "code",
   "execution_count": 13,
   "id": "325e307e-f2ac-4e80-a480-415adc68b2d0",
   "metadata": {},
   "outputs": [],
   "source": [
    "f.close()"
   ]
  },
  {
   "cell_type": "code",
   "execution_count": 23,
   "id": "f09d8ee7-0fbd-4e17-88cd-e4ad78a1dbdc",
   "metadata": {},
   "outputs": [],
   "source": [
    "data =open(\"test.txt\" , 'r')"
   ]
  },
  {
   "cell_type": "code",
   "execution_count": 24,
   "id": "f5720d75-7314-4697-8a25-8b523df3fa1a",
   "metadata": {},
   "outputs": [
    {
     "data": {
      "text/plain": [
       "\"this is my fileData Science Masters course is highly curated and uniquely designed according to the latest industry standards. This program instills students the skills essential to knowledge discovery efforts to identify standard, novel, and truly differentiated solutions and decision-making, including skills in managing, querying, analyzing, visualizing, and extracting meaning from extremely large data sets. This trending program provides students with the statistical, mathematical and computational skills needed to meet the large-scale data science challenges of today's professional world. You will learn all the stack required to work in data science industry including cloud infrastructure and real-time industry projects. This course will be taught in Hindi language.\""
      ]
     },
     "execution_count": 24,
     "metadata": {},
     "output_type": "execute_result"
    }
   ],
   "source": [
    "data.read()"
   ]
  },
  {
   "cell_type": "code",
   "execution_count": 27,
   "id": "68887cee-6d8d-4e7a-af90-0d12f0d78f6f",
   "metadata": {},
   "outputs": [
    {
     "data": {
      "text/plain": [
       "\"this is my fileData Science Masters course is highly curated and uniquely designed according to the latest industry standards. This program instills students the skills essential to knowledge discovery efforts to identify standard, novel, and truly differentiated solutions and decision-making, including skills in managing, querying, analyzing, visualizing, and extracting meaning from extremely large data sets. This trending program provides students with the statistical, mathematical and computational skills needed to meet the large-scale data science challenges of today's professional world. You will learn all the stack required to work in data science industry including cloud infrastructure and real-time industry projects. This course will be taught in Hindi language.\""
      ]
     },
     "execution_count": 27,
     "metadata": {},
     "output_type": "execute_result"
    }
   ],
   "source": [
    "data.readline()"
   ]
  },
  {
   "cell_type": "code",
   "execution_count": 26,
   "id": "94728084-2854-4d9a-8699-f23f6fb72368",
   "metadata": {},
   "outputs": [
    {
     "data": {
      "text/plain": [
       "0"
      ]
     },
     "execution_count": 26,
     "metadata": {},
     "output_type": "execute_result"
    }
   ],
   "source": [
    "data.seek(0)"
   ]
  },
  {
   "cell_type": "code",
   "execution_count": 28,
   "id": "71305da3-69fb-4b94-b825-27edab48853c",
   "metadata": {},
   "outputs": [
    {
     "data": {
      "text/plain": [
       "''"
      ]
     },
     "execution_count": 28,
     "metadata": {},
     "output_type": "execute_result"
    }
   ],
   "source": [
    "data.readline()"
   ]
  },
  {
   "cell_type": "code",
   "execution_count": 29,
   "id": "e49d5b64-ebfa-4625-94a0-14072e08c660",
   "metadata": {},
   "outputs": [
    {
     "data": {
      "text/plain": [
       "10"
      ]
     },
     "execution_count": 29,
     "metadata": {},
     "output_type": "execute_result"
    }
   ],
   "source": [
    "data.seek(10)"
   ]
  },
  {
   "cell_type": "code",
   "execution_count": 30,
   "id": "3f985f7a-d015-4e75-938f-75cd62cef5e3",
   "metadata": {},
   "outputs": [
    {
     "data": {
      "text/plain": [
       "\" fileData Science Masters course is highly curated and uniquely designed according to the latest industry standards. This program instills students the skills essential to knowledge discovery efforts to identify standard, novel, and truly differentiated solutions and decision-making, including skills in managing, querying, analyzing, visualizing, and extracting meaning from extremely large data sets. This trending program provides students with the statistical, mathematical and computational skills needed to meet the large-scale data science challenges of today's professional world. You will learn all the stack required to work in data science industry including cloud infrastructure and real-time industry projects. This course will be taught in Hindi language.\""
      ]
     },
     "execution_count": 30,
     "metadata": {},
     "output_type": "execute_result"
    }
   ],
   "source": [
    "data.readline()"
   ]
  },
  {
   "cell_type": "code",
   "execution_count": 31,
   "id": "b91377b5-8baf-49cd-8617-bcbac75f1f8a",
   "metadata": {},
   "outputs": [],
   "source": [
    "data1 = open (\"test.txt\" , 'r' )"
   ]
  },
  {
   "cell_type": "code",
   "execution_count": 33,
   "id": "563906c1-6932-492e-8228-c741b56a8ce5",
   "metadata": {},
   "outputs": [
    {
     "name": "stdout",
     "output_type": "stream",
     "text": [
      "this is my fileData Science Masters course is highly curated and uniquely designed according to the latest industry standards. This program instills students the skills essential to knowledge discovery efforts to identify standard, novel, and truly differentiated solutions and decision-making, including skills in managing, querying, analyzing, visualizing, and extracting meaning from extremely large data sets. This trending program provides students with the statistical, mathematical and computational skills needed to meet the large-scale data science challenges of today's professional world. You will learn all the stack required to work in data science industry including cloud infrastructure and real-time industry projects. This course will be taught in Hindi language.\n"
     ]
    }
   ],
   "source": [
    "for i in data1 :\n",
    "    print (i)"
   ]
  },
  {
   "cell_type": "code",
   "execution_count": 34,
   "id": "f2b79fc4-94e2-4d75-adc9-94b456a17836",
   "metadata": {},
   "outputs": [],
   "source": [
    "import os "
   ]
  },
  {
   "cell_type": "code",
   "execution_count": 35,
   "id": "cab1e42b-a2be-49ee-b238-08eda2bd2598",
   "metadata": {},
   "outputs": [
    {
     "data": {
      "text/plain": [
       "780"
      ]
     },
     "execution_count": 35,
     "metadata": {},
     "output_type": "execute_result"
    }
   ],
   "source": [
    "os.path.getsize(\"test.txt\")"
   ]
  },
  {
   "cell_type": "code",
   "execution_count": 36,
   "id": "bd44e0b6-c0c6-4ab9-89dd-cf6b5525b62a",
   "metadata": {},
   "outputs": [],
   "source": [
    "os.remove(\"test.txt\")"
   ]
  },
  {
   "cell_type": "code",
   "execution_count": 37,
   "id": "2723d86b-4e0a-444f-8a4a-fafc24fd77a2",
   "metadata": {},
   "outputs": [],
   "source": [
    "f = open(\"test1.txt\" , 'w')"
   ]
  },
  {
   "cell_type": "code",
   "execution_count": 38,
   "id": "2bdb34ca-19ac-4679-9e9f-1765038e1384",
   "metadata": {},
   "outputs": [
    {
     "data": {
      "text/plain": [
       "780"
      ]
     },
     "execution_count": 38,
     "metadata": {},
     "output_type": "execute_result"
    }
   ],
   "source": [
    "f.write(\"this is my fileData Science Masters course is highly curated and uniquely designed according to the latest industry standards. This program instills students the skills essential to knowledge discovery efforts to identify standard, novel, and truly differentiated solutions and decision-making, including skills in managing, querying, analyzing, visualizing, and extracting meaning from extremely large data sets. This trending program provides students with the statistical, mathematical and computational skills needed to meet the large-scale data science challenges of today's professional world. You will learn all the stack required to work in data science industry including cloud infrastructure and real-time industry projects. This course will be taught in Hindi language.\")"
   ]
  },
  {
   "cell_type": "code",
   "execution_count": 39,
   "id": "7eb51b86-613e-4a89-be05-f40bc4e2844e",
   "metadata": {},
   "outputs": [],
   "source": [
    "f.close()"
   ]
  },
  {
   "cell_type": "code",
   "execution_count": 41,
   "id": "e34c18ea-430e-4128-8420-9d4b91cc9712",
   "metadata": {},
   "outputs": [],
   "source": [
    "os.rename(\"test1.txt\" , \"new.txt\")"
   ]
  },
  {
   "cell_type": "code",
   "execution_count": 42,
   "id": "cadaca77-4d40-4147-978d-be74664123dd",
   "metadata": {},
   "outputs": [],
   "source": [
    "import shutil"
   ]
  },
  {
   "cell_type": "code",
   "execution_count": 43,
   "id": "345955da-8b04-430d-8a6a-a0e3f47ec1c3",
   "metadata": {},
   "outputs": [
    {
     "data": {
      "text/plain": [
       "'copy_new.txt'"
      ]
     },
     "execution_count": 43,
     "metadata": {},
     "output_type": "execute_result"
    }
   ],
   "source": [
    "shutil.copy(\"new.txt\" , \"copy_new.txt\")"
   ]
  },
  {
   "cell_type": "code",
   "execution_count": 45,
   "id": "8d5665be-f3cf-47ba-98d0-18ef92abe619",
   "metadata": {},
   "outputs": [
    {
     "name": "stdout",
     "output_type": "stream",
     "text": [
      "this is my fileData Science Masters course is highly curated and uniquely designed according to the latest industry standards. This program instills students the skills essential to knowledge discovery efforts to identify standard, novel, and truly differentiated solutions and decision-making, including skills in managing, querying, analyzing, visualizing, and extracting meaning from extremely large data sets. This trending program provides students with the statistical, mathematical and computational skills needed to meet the large-scale data science challenges of today's professional world. You will learn all the stack required to work in data science industry including cloud infrastructure and real-time industry projects. This course will be taught in Hindi language.\n"
     ]
    }
   ],
   "source": [
    "with open (\"new.txt\" , 'r') as f :\n",
    "    print(f.read())"
   ]
  },
  {
   "cell_type": "code",
   "execution_count": 54,
   "id": "8ffb1133-bc20-427f-8527-7261200970db",
   "metadata": {},
   "outputs": [],
   "source": [
    "data= {\n",
    "    \"name\" : \"sarfraj\",\n",
    "    \"mail_id\" : \"smd30573@gmail.com\",\n",
    "    \"phone_num\" : 7320807031,\n",
    "    \"subject\" : [\"data science\", \"big data\" , \"data analytics\"]\n",
    "}"
   ]
  },
  {
   "cell_type": "code",
   "execution_count": 55,
   "id": "311fa297-da0a-4000-bd01-b399f2b70848",
   "metadata": {},
   "outputs": [],
   "source": [
    "import json"
   ]
  },
  {
   "cell_type": "code",
   "execution_count": 56,
   "id": "4c6efca6-ccc4-47b9-8efe-6a522028b61b",
   "metadata": {},
   "outputs": [],
   "source": [
    "with open (\"data.json\" , 'w') as f :\n",
    "    json.dump(data , f)"
   ]
  },
  {
   "cell_type": "code",
   "execution_count": 57,
   "id": "83498aec-cee4-4eb7-b7d7-836f299f5724",
   "metadata": {},
   "outputs": [],
   "source": [
    "with open (\"data.json\" , 'r') as f: \n",
    "    data1 = json.load(f)"
   ]
  },
  {
   "cell_type": "code",
   "execution_count": 58,
   "id": "a95171a6-b7a1-42cc-a7b2-ca9ae9f517e1",
   "metadata": {},
   "outputs": [
    {
     "data": {
      "text/plain": [
       "{'name': 'sarfraj',\n",
       " 'mail_id': 'smd30573@gmail.com',\n",
       " 'phone_num': 7320807031,\n",
       " 'subject': ['data science', 'big data', 'data analytics']}"
      ]
     },
     "execution_count": 58,
     "metadata": {},
     "output_type": "execute_result"
    }
   ],
   "source": [
    "data1"
   ]
  },
  {
   "cell_type": "code",
   "execution_count": 61,
   "id": "f1b66f48-e8a2-4347-a711-49c41308efe1",
   "metadata": {},
   "outputs": [
    {
     "data": {
      "text/plain": [
       "'big data'"
      ]
     },
     "execution_count": 61,
     "metadata": {},
     "output_type": "execute_result"
    }
   ],
   "source": [
    "data1['subject'][1]"
   ]
  },
  {
   "cell_type": "code",
   "execution_count": 62,
   "id": "c6fcc127-4d21-46b3-b05c-7738cd112058",
   "metadata": {},
   "outputs": [],
   "source": [
    "import csv "
   ]
  },
  {
   "cell_type": "code",
   "execution_count": 63,
   "id": "0018a73d-606b-4aa9-8d18-17adc9ebd022",
   "metadata": {},
   "outputs": [],
   "source": [
    "data = [[\"name\" , \"email_id\" , \"phone_num\"],\n",
    "        [\"sarfraj\" , \"smd30573@gmail.com\" , 7320807031],\n",
    "        [\"krish\" , \"krish12@gmail.com\" , 123456789]\n",
    "        \n",
    "\n",
    "]"
   ]
  },
  {
   "cell_type": "code",
   "execution_count": 66,
   "id": "233b1c56-b813-4a60-80b2-c47950f1efb5",
   "metadata": {},
   "outputs": [],
   "source": [
    "with open (\"data.csv\" , \"w\") as f :\n",
    "    writer = csv.writer(f)\n",
    "    \n",
    "    for i in data :\n",
    "        writer.writerow(i)"
   ]
  },
  {
   "cell_type": "code",
   "execution_count": 67,
   "id": "3fe8a7fa-999e-4676-9360-3c1f3a94b22b",
   "metadata": {},
   "outputs": [
    {
     "name": "stdout",
     "output_type": "stream",
     "text": [
      "['name', 'email_id', 'phone_num']\n",
      "['sarfraj', 'smd30573@gmail.com', '7320807031']\n",
      "['krish', 'krish12@gmail.com', '123456789']\n"
     ]
    }
   ],
   "source": [
    "with open (\"data.csv\" , \"r\") as f :\n",
    "    read_data= csv.reader(f)\n",
    "    \n",
    "    for i in read_data:\n",
    "        print(i)"
   ]
  },
  {
   "cell_type": "code",
   "execution_count": 70,
   "id": "0f069abb-fcd9-4201-9830-4b69cf9ab4f9",
   "metadata": {},
   "outputs": [],
   "source": [
    "with open (\"test4.bin\" , \"wb\") as f :\n",
    "    f.write(b\"\\x01\\x02\\x03\\x345235\")"
   ]
  },
  {
   "cell_type": "code",
   "execution_count": 72,
   "id": "d865c119-90e8-45fb-ad7e-d07691a81a42",
   "metadata": {},
   "outputs": [
    {
     "name": "stdout",
     "output_type": "stream",
     "text": [
      "b'\\x01\\x02\\x0345235'\n"
     ]
    }
   ],
   "source": [
    "with open (\"test4.bin\" , \"rb\") as f:\n",
    "    print(f.read())"
   ]
  },
  {
   "cell_type": "code",
   "execution_count": 73,
   "id": "cc993b87-cbcf-4f88-810d-058447dd988d",
   "metadata": {},
   "outputs": [],
   "source": [
    "import io"
   ]
  },
  {
   "cell_type": "code",
   "execution_count": 80,
   "id": "58374762-a509-4754-a1a8-9a21f5013d55",
   "metadata": {},
   "outputs": [],
   "source": [
    "with open(\"test1.txt\" , \"wb\") as f :\n",
    "    file = io.BufferedWriter(f)\n",
    "    \n",
    "    file.write(b\"Data Science Masters course is highly curated and uniquely designed according to the latest industry standards. This program instills students the skills essential to knowledge discovery efforts to identify standard, novel, and truly differentiated solutions and decision-making, including skills in managing, querying, analyzing, visualizing, and extracting meaning from extremely large data sets. This trending program provides students with the statistical, mathematical and computational skills needed to meet the large-scale data science challenges of today's professional world. You will learn all the stack required to work in data science industry including cloud infrastructure and real-time industry projects. This course will be taught in Hindi language\\n.\")\n",
    "    file.write(b\"this is my second line\")\n",
    "    file.flush()"
   ]
  },
  {
   "cell_type": "code",
   "execution_count": 84,
   "id": "841dccd8-28d9-416c-82d6-ae8e745c9e8b",
   "metadata": {},
   "outputs": [
    {
     "name": "stdout",
     "output_type": "stream",
     "text": [
      "b\"Data Science Masters course is highly curated and uniquely designed according to the latest industry standards. This program instills students the skills essential to knowledge discovery efforts to identify standard, novel, and truly differentiated solutions and decision-making, including skills in managing, querying, analyzing, visualizing, and extracting meaning from extremely large data sets. This trending program provides students with the statistical, mathematical and computational skills needed to meet the large-scale data science challenges of today's professional world. You will learn all the stack required to work in data science industry including cloud infrastructure and real-time industry projects. This course will be taught in Hindi language\\n.this is my second line\"\n"
     ]
    }
   ],
   "source": [
    "with open (\"test1.txt\" , \"rb\") as f :\n",
    "    file = io.BufferedReader(f)\n",
    "    print(file.read(1000))"
   ]
  },
  {
   "cell_type": "code",
   "execution_count": null,
   "id": "cd08aa64-6858-4003-80d5-22f9048846f7",
   "metadata": {},
   "outputs": [],
   "source": []
  }
 ],
 "metadata": {
  "kernelspec": {
   "display_name": "Python 3 (ipykernel)",
   "language": "python",
   "name": "python3"
  },
  "language_info": {
   "codemirror_mode": {
    "name": "ipython",
    "version": 3
   },
   "file_extension": ".py",
   "mimetype": "text/x-python",
   "name": "python",
   "nbconvert_exporter": "python",
   "pygments_lexer": "ipython3",
   "version": "3.10.8"
  }
 },
 "nbformat": 4,
 "nbformat_minor": 5
}
