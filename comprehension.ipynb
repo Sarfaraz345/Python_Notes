{
 "cells": [
  {
   "cell_type": "code",
   "execution_count": 1,
   "id": "dc062bae-88c0-4fea-9cf5-c4ec2fed8053",
   "metadata": {},
   "outputs": [],
   "source": [
    "l = [1,2,3,4,45,5]\n",
    "l1 =[]\n",
    "for i in l :\n",
    "    l1.append(i**2)"
   ]
  },
  {
   "cell_type": "code",
   "execution_count": 2,
   "id": "aec68e18-59b2-4612-9a80-167bb1de4de0",
   "metadata": {},
   "outputs": [
    {
     "data": {
      "text/plain": [
       "[1, 4, 9, 16, 2025, 25]"
      ]
     },
     "execution_count": 2,
     "metadata": {},
     "output_type": "execute_result"
    }
   ],
   "source": [
    "l1\n"
   ]
  },
  {
   "cell_type": "code",
   "execution_count": 3,
   "id": "f5bf40a5-9c4e-400a-b5bf-4a270e91a5b8",
   "metadata": {},
   "outputs": [
    {
     "data": {
      "text/plain": [
       "[1, 2, 3, 4, 45, 5]"
      ]
     },
     "execution_count": 3,
     "metadata": {},
     "output_type": "execute_result"
    }
   ],
   "source": [
    "l"
   ]
  },
  {
   "cell_type": "code",
   "execution_count": 4,
   "id": "5ba078c0-4b6f-4e7c-8c88-7f892bb9ba66",
   "metadata": {},
   "outputs": [
    {
     "data": {
      "text/plain": [
       "[1, 4, 9, 16, 2025, 25]"
      ]
     },
     "execution_count": 4,
     "metadata": {},
     "output_type": "execute_result"
    }
   ],
   "source": [
    "[i**2 for i in l]"
   ]
  },
  {
   "cell_type": "code",
   "execution_count": 5,
   "id": "fa821dfb-33e9-40c2-9ee9-2289fd3f825b",
   "metadata": {},
   "outputs": [
    {
     "data": {
      "text/plain": [
       "[2, 4]"
      ]
     },
     "execution_count": 5,
     "metadata": {},
     "output_type": "execute_result"
    }
   ],
   "source": [
    "[i for i in l if i % 2 ==0]"
   ]
  },
  {
   "cell_type": "code",
   "execution_count": 6,
   "id": "06452f09-fe6a-4c16-be4d-063fe6888645",
   "metadata": {},
   "outputs": [],
   "source": [
    "l1 = [\"sarf\", \"pwskills\",\"sheikh\",\"data science masters\"]"
   ]
  },
  {
   "cell_type": "code",
   "execution_count": 8,
   "id": "6839c3e4-de45-4355-95c6-13e3dea82e8d",
   "metadata": {},
   "outputs": [
    {
     "data": {
      "text/plain": [
       "['SARF', 'PWSKILLS', 'SHEIKH', 'DATA SCIENCE MASTERS']"
      ]
     },
     "execution_count": 8,
     "metadata": {},
     "output_type": "execute_result"
    }
   ],
   "source": [
    "[i.upper() for i in l1]"
   ]
  },
  {
   "cell_type": "code",
   "execution_count": 9,
   "id": "650b4c19-63f3-4280-9a7d-f20eef02a4d6",
   "metadata": {},
   "outputs": [
    {
     "data": {
      "text/plain": [
       "[1, 2, 3, 4, 45, 5]"
      ]
     },
     "execution_count": 9,
     "metadata": {},
     "output_type": "execute_result"
    }
   ],
   "source": [
    "l"
   ]
  },
  {
   "cell_type": "code",
   "execution_count": 11,
   "id": "60845ad5-85ff-471e-9ca6-62f761666267",
   "metadata": {},
   "outputs": [
    {
     "data": {
      "text/plain": [
       "[1, 4, 9, 16, 2025, 25]"
      ]
     },
     "execution_count": 11,
     "metadata": {},
     "output_type": "execute_result"
    }
   ],
   "source": [
    "list(i**2 for i in l)"
   ]
  },
  {
   "cell_type": "code",
   "execution_count": 12,
   "id": "fd27d16b-6e3f-46ba-ad84-ccfbf6358d1b",
   "metadata": {},
   "outputs": [],
   "source": [
    "d = {\"key1\":1,\"key2\":2 ,\"key3\":3 , \"key4\":4}"
   ]
  },
  {
   "cell_type": "code",
   "execution_count": 17,
   "id": "fcb53068-ca76-4e1f-86a3-14951c203737",
   "metadata": {},
   "outputs": [
    {
     "data": {
      "text/plain": [
       "{'key1': 1, 'key2': 4, 'key3': 9, 'key4': 16}"
      ]
     },
     "execution_count": 17,
     "metadata": {},
     "output_type": "execute_result"
    }
   ],
   "source": [
    "{k:v**2 for k , v in d.items()}"
   ]
  },
  {
   "cell_type": "code",
   "execution_count": 16,
   "id": "e659924e-70da-49df-93bf-f13bb0a373db",
   "metadata": {},
   "outputs": [
    {
     "data": {
      "text/plain": [
       "dict_items([('key1', 1), ('key2', 2), ('key3', 3), ('key4', 4)])"
      ]
     },
     "execution_count": 16,
     "metadata": {},
     "output_type": "execute_result"
    }
   ],
   "source": [
    "d.items()"
   ]
  },
  {
   "cell_type": "code",
   "execution_count": 19,
   "id": "9246d7ed-11d8-45dd-8a48-7c3de5584970",
   "metadata": {},
   "outputs": [
    {
     "data": {
      "text/plain": [
       "{'key1': 1, 'key2': 2, 'key3': 3, 'key4': 4}"
      ]
     },
     "execution_count": 19,
     "metadata": {},
     "output_type": "execute_result"
    }
   ],
   "source": [
    "d"
   ]
  },
  {
   "cell_type": "code",
   "execution_count": 20,
   "id": "3f8a434c-0591-4d98-a45c-fd45870fa6cb",
   "metadata": {},
   "outputs": [
    {
     "data": {
      "text/plain": [
       "{'key2': 2, 'key3': 3, 'key4': 4}"
      ]
     },
     "execution_count": 20,
     "metadata": {},
     "output_type": "execute_result"
    }
   ],
   "source": [
    "{k : v for k , v in d.items() if v >1}"
   ]
  },
  {
   "cell_type": "code",
   "execution_count": null,
   "id": "7afd76c9-172a-4445-8b18-4b0c62cb50ad",
   "metadata": {},
   "outputs": [],
   "source": []
  }
 ],
 "metadata": {
  "kernelspec": {
   "display_name": "Python 3 (ipykernel)",
   "language": "python",
   "name": "python3"
  },
  "language_info": {
   "codemirror_mode": {
    "name": "ipython",
    "version": 3
   },
   "file_extension": ".py",
   "mimetype": "text/x-python",
   "name": "python",
   "nbconvert_exporter": "python",
   "pygments_lexer": "ipython3",
   "version": "3.10.8"
  }
 },
 "nbformat": 4,
 "nbformat_minor": 5
}
