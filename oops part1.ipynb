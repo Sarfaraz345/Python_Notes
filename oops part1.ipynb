{
 "cells": [
  {
   "cell_type": "code",
   "execution_count": 1,
   "id": "42a0b674-f092-4961-a7bc-fe3406b09162",
   "metadata": {
    "jupyter": {
     "source_hidden": true
    },
    "tags": []
   },
   "outputs": [
    {
     "name": "stdout",
     "output_type": "stream",
     "text": [
      "oops stand for object oriented programming system\n"
     ]
    }
   ],
   "source": [
    "print('oops stand for object oriented programming system')"
   ]
  },
  {
   "cell_type": "code",
   "execution_count": 5,
   "id": "0346f991-c34e-4fef-9b45-75a02d73a4f1",
   "metadata": {},
   "outputs": [],
   "source": [
    "a = 1"
   ]
  },
  {
   "cell_type": "code",
   "execution_count": 6,
   "id": "7c406ce3-dce2-4f0f-acd5-fc3d90af9dc8",
   "metadata": {},
   "outputs": [
    {
     "name": "stdout",
     "output_type": "stream",
     "text": [
      "<class 'int'>\n"
     ]
    }
   ],
   "source": [
    "print(type(a))"
   ]
  },
  {
   "cell_type": "code",
   "execution_count": 7,
   "id": "93692b53-a75d-4a14-b942-faf29c48b0c1",
   "metadata": {},
   "outputs": [
    {
     "name": "stdout",
     "output_type": "stream",
     "text": [
      "<class 'str'>\n"
     ]
    }
   ],
   "source": [
    "print(type(\"pwskills\"))"
   ]
  },
  {
   "cell_type": "code",
   "execution_count": 9,
   "id": "81ac23f3-9577-4131-b98a-204d8a848ef1",
   "metadata": {},
   "outputs": [],
   "source": [
    "class test :\n",
    "    pass"
   ]
  },
  {
   "cell_type": "code",
   "execution_count": 10,
   "id": "2b1084c9-0a7c-4930-949e-1a9cc65f48a4",
   "metadata": {},
   "outputs": [],
   "source": [
    "a = test()"
   ]
  },
  {
   "cell_type": "code",
   "execution_count": 11,
   "id": "a21ce52a-96ca-42ff-bc60-ba36df1bdac1",
   "metadata": {},
   "outputs": [
    {
     "data": {
      "text/plain": [
       "__main__.test"
      ]
     },
     "execution_count": 11,
     "metadata": {},
     "output_type": "execute_result"
    }
   ],
   "source": [
    "type(a)"
   ]
  },
  {
   "cell_type": "code",
   "execution_count": 12,
   "id": "8e3c952f-4655-44f4-9e33-e86b13c3ee32",
   "metadata": {},
   "outputs": [
    {
     "name": "stdout",
     "output_type": "stream",
     "text": [
      "<class '__main__.test'>\n"
     ]
    }
   ],
   "source": [
    "print(type(a))"
   ]
  },
  {
   "cell_type": "code",
   "execution_count": 18,
   "id": "0df1d5dd-0491-42e0-bba5-a92920820334",
   "metadata": {},
   "outputs": [],
   "source": [
    "class pwskills :\n",
    "    \n",
    "    def welcome_msg(self):\n",
    "        print(\"welcome to pwskills\")      "
   ]
  },
  {
   "cell_type": "code",
   "execution_count": 19,
   "id": "a698854d-0e72-4395-9bd8-081658a59705",
   "metadata": {},
   "outputs": [],
   "source": [
    "sarfaraj = pwskills()"
   ]
  },
  {
   "cell_type": "code",
   "execution_count": 20,
   "id": "d0e2f1b7-3b51-4534-9aaf-eb4e1c65ac0d",
   "metadata": {},
   "outputs": [
    {
     "name": "stdout",
     "output_type": "stream",
     "text": [
      "<class '__main__.pwskills'>\n"
     ]
    }
   ],
   "source": [
    "print(type(sarfaraj))"
   ]
  },
  {
   "cell_type": "code",
   "execution_count": 21,
   "id": "a92d5873-caa2-4394-a9b5-f4acb043cd16",
   "metadata": {},
   "outputs": [
    {
     "name": "stdout",
     "output_type": "stream",
     "text": [
      "welcome to pwskills\n"
     ]
    }
   ],
   "source": [
    "sarfaraj.welcome_msg()"
   ]
  },
  {
   "cell_type": "code",
   "execution_count": 25,
   "id": "e43bca13-53a5-4b11-92d4-7b5aba834ccd",
   "metadata": {},
   "outputs": [],
   "source": [
    "gaurav = pwskills()"
   ]
  },
  {
   "cell_type": "code",
   "execution_count": 26,
   "id": "c85c66a5-55e0-45e5-8160-3698dea769cc",
   "metadata": {},
   "outputs": [
    {
     "name": "stdout",
     "output_type": "stream",
     "text": [
      "welcome to pwskills\n"
     ]
    }
   ],
   "source": [
    "gaurav.welcome_msg()"
   ]
  },
  {
   "cell_type": "code",
   "execution_count": 38,
   "id": "48d89714-b7e6-495d-95a6-8a593f64da35",
   "metadata": {},
   "outputs": [],
   "source": [
    "class pwskills1 :\n",
    "    \n",
    "    def __init__(self ,phone_number , email_id , student_id ):\n",
    "        self.phone_number = phone_number\n",
    "        self.email_id = email_id\n",
    "        self.student_id = student_id\n",
    "        \n",
    "    def return_student_details(self) :\n",
    "        return self.student_id , self.phone_number , self.email_id"
   ]
  },
  {
   "cell_type": "code",
   "execution_count": 39,
   "id": "db931814-fba2-4797-88c5-f326712fd43d",
   "metadata": {},
   "outputs": [
    {
     "ename": "TypeError",
     "evalue": "pwskills1.__init__() missing 3 required positional arguments: 'phone_number', 'email_id', and 'student_id'",
     "output_type": "error",
     "traceback": [
      "\u001b[0;31m---------------------------------------------------------------------------\u001b[0m",
      "\u001b[0;31mTypeError\u001b[0m                                 Traceback (most recent call last)",
      "Cell \u001b[0;32mIn[39], line 1\u001b[0m\n\u001b[0;32m----> 1\u001b[0m rohan \u001b[38;5;241m=\u001b[39m \u001b[43mpwskills1\u001b[49m\u001b[43m(\u001b[49m\u001b[43m)\u001b[49m\n",
      "\u001b[0;31mTypeError\u001b[0m: pwskills1.__init__() missing 3 required positional arguments: 'phone_number', 'email_id', and 'student_id'"
     ]
    }
   ],
   "source": [
    "rohan = pwskills1()"
   ]
  },
  {
   "cell_type": "code",
   "execution_count": 43,
   "id": "7de6fe07-5121-46b9-98f9-36352e7583f9",
   "metadata": {},
   "outputs": [],
   "source": [
    "rohan = pwskills1(123456789, \"rohan@gmail.com\", 101)"
   ]
  },
  {
   "cell_type": "code",
   "execution_count": 54,
   "id": "fc4ef394-7e84-4e22-9569-c7c9586dbc28",
   "metadata": {},
   "outputs": [
    {
     "data": {
      "text/plain": [
       "123456789"
      ]
     },
     "execution_count": 54,
     "metadata": {},
     "output_type": "execute_result"
    }
   ],
   "source": [
    "rohan.phone_number"
   ]
  },
  {
   "cell_type": "code",
   "execution_count": 55,
   "id": "5c00a969-032a-4300-b3dd-bea869b9fb54",
   "metadata": {},
   "outputs": [
    {
     "data": {
      "text/plain": [
       "'rohan@gmail.com'"
      ]
     },
     "execution_count": 55,
     "metadata": {},
     "output_type": "execute_result"
    }
   ],
   "source": [
    "rohan.email_id"
   ]
  },
  {
   "cell_type": "code",
   "execution_count": 44,
   "id": "0bbcb896-32ac-4825-9c0b-ec1f5a309859",
   "metadata": {},
   "outputs": [
    {
     "data": {
      "text/plain": [
       "(101, 123456789, 'rohan@gmail.com')"
      ]
     },
     "execution_count": 44,
     "metadata": {},
     "output_type": "execute_result"
    }
   ],
   "source": [
    "rohan.return_student_details()"
   ]
  },
  {
   "cell_type": "code",
   "execution_count": 48,
   "id": "46c20033-bbf1-4921-ba6b-ebf0a4fa4cad",
   "metadata": {},
   "outputs": [],
   "source": [
    "gaurav = pwskills1(987654321, \"gaurav@gmail.com\", 102)"
   ]
  },
  {
   "cell_type": "raw",
   "id": "3641b8b1-6827-4f09-9f5a-f51a6ce0e199",
   "metadata": {
    "jupyter": {
     "source_hidden": true
    },
    "tags": []
   },
   "source": []
  },
  {
   "cell_type": "code",
   "execution_count": 49,
   "id": "ddbd7ba1-7fee-4227-8cbc-c3709b48a6d6",
   "metadata": {},
   "outputs": [
    {
     "data": {
      "text/plain": [
       "(102, 987654321, 'gaurav@gmail.com')"
      ]
     },
     "execution_count": 49,
     "metadata": {},
     "output_type": "execute_result"
    }
   ],
   "source": [
    "gaurav.return_student_details()"
   ]
  },
  {
   "cell_type": "code",
   "execution_count": 69,
   "id": "49bbf471-279e-4131-819f-069a075b5e78",
   "metadata": {},
   "outputs": [],
   "source": [
    "class pwskills2 :\n",
    "    \n",
    "    def __init__(self ,phone_number , email_id , student_id ):\n",
    "        self.phone_number1 = phone_number\n",
    "        self.email_id1 = email_id\n",
    "        self.student_id1 = student_id\n",
    "        \n",
    "    def return_student_details(self) :\n",
    "        return self.student_id1 , self.phone_number1 , self.email_id1"
   ]
  },
  {
   "cell_type": "code",
   "execution_count": 70,
   "id": "5c510813-a447-43c9-afcc-92acd946b3e9",
   "metadata": {},
   "outputs": [],
   "source": [
    "sarfaraj = pwskills2(7320807031 , \"smd305734@gmail.com\" , 103)"
   ]
  },
  {
   "cell_type": "code",
   "execution_count": 76,
   "id": "b4908455-a9b2-47f7-9b64-00c8f74573f3",
   "metadata": {},
   "outputs": [
    {
     "data": {
      "text/plain": [
       "7320807031"
      ]
     },
     "execution_count": 76,
     "metadata": {},
     "output_type": "execute_result"
    }
   ],
   "source": [
    "sarfaraj.phone_number1"
   ]
  },
  {
   "cell_type": "code",
   "execution_count": 77,
   "id": "c7fcc9d8-cdde-4702-ac1a-447f0400e619",
   "metadata": {},
   "outputs": [
    {
     "data": {
      "text/plain": [
       "'smd305734@gmail.com'"
      ]
     },
     "execution_count": 77,
     "metadata": {},
     "output_type": "execute_result"
    }
   ],
   "source": [
    "sarfaraj.email_id1"
   ]
  },
  {
   "cell_type": "code",
   "execution_count": 78,
   "id": "50171a8c-1428-48bf-bc74-f7dcf60f115f",
   "metadata": {},
   "outputs": [
    {
     "data": {
      "text/plain": [
       "(103, 7320807031, 'smd305734@gmail.com')"
      ]
     },
     "execution_count": 78,
     "metadata": {},
     "output_type": "execute_result"
    }
   ],
   "source": [
    "sarfaraj.return_student_details()"
   ]
  },
  {
   "cell_type": "code",
   "execution_count": 81,
   "id": "fd334beb-9b7b-426e-9490-c11a7e178682",
   "metadata": {},
   "outputs": [],
   "source": [
    "class pwskills2 :\n",
    "    \n",
    "    def __init__(sarfaraj ,phone_number , email_id , student_id ):\n",
    "        sarfaraj.phone_number1 = phone_number\n",
    "        sarfaraj.email_id1 = email_id\n",
    "        sarfaraj.student_id1 = student_id\n",
    "        \n",
    "    def return_student_details(sarfaraj) :\n",
    "        return sarfaraj.student_id1 , sarfaraj.phone_number1 , sarfaraj.email_id1"
   ]
  },
  {
   "cell_type": "code",
   "execution_count": 82,
   "id": "10c1afa1-0988-45c2-aa90-60b433ba40da",
   "metadata": {},
   "outputs": [],
   "source": [
    "rohan = pwskills2(123456,\"rohan@gmail.com\" , 342)"
   ]
  },
  {
   "cell_type": "code",
   "execution_count": 84,
   "id": "ce9c815f-7662-45f8-80c4-93f78d8f3af1",
   "metadata": {},
   "outputs": [
    {
     "data": {
      "text/plain": [
       "123456"
      ]
     },
     "execution_count": 84,
     "metadata": {},
     "output_type": "execute_result"
    }
   ],
   "source": [
    "rohan.phone_number1"
   ]
  },
  {
   "cell_type": "code",
   "execution_count": null,
   "id": "90d1ecfd-eb98-455c-bca1-c25554af37e3",
   "metadata": {},
   "outputs": [],
   "source": []
  }
 ],
 "metadata": {
  "kernelspec": {
   "display_name": "Python 3 (ipykernel)",
   "language": "python",
   "name": "python3"
  },
  "language_info": {
   "codemirror_mode": {
    "name": "ipython",
    "version": 3
   },
   "file_extension": ".py",
   "mimetype": "text/x-python",
   "name": "python",
   "nbconvert_exporter": "python",
   "pygments_lexer": "ipython3",
   "version": "3.10.8"
  }
 },
 "nbformat": 4,
 "nbformat_minor": 5
}
