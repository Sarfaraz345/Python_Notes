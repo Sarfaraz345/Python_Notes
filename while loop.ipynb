{
 "cells": [
  {
   "cell_type": "code",
   "execution_count": 2,
   "id": "4844ad4d-8f38-4e35-8150-5390ce751607",
   "metadata": {},
   "outputs": [
    {
     "name": "stdout",
     "output_type": "stream",
     "text": [
      "1\n",
      "2\n",
      "3\n",
      "4\n",
      "5\n",
      "6\n",
      "7\n",
      "8\n",
      "9\n",
      "10\n"
     ]
    }
   ],
   "source": [
    "a = 1\n",
    "while a<=10 :\n",
    "    print(a)\n",
    "    a = a+1"
   ]
  },
  {
   "cell_type": "markdown",
   "id": "3eb6debb-af09-472d-bfe8-955587096d06",
   "metadata": {},
   "source": [
    "#sum up the number till some point"
   ]
  },
  {
   "cell_type": "code",
   "execution_count": 7,
   "id": "f98cce3e-04a5-4038-80d2-b21646299ea5",
   "metadata": {},
   "outputs": [
    {
     "name": "stdin",
     "output_type": "stream",
     "text": [
      "enter your limit 5\n"
     ]
    },
    {
     "data": {
      "text/plain": [
       "15"
      ]
     },
     "execution_count": 7,
     "metadata": {},
     "output_type": "execute_result"
    }
   ],
   "source": [
    "n = int(input(\"enter your limit\"))\n",
    "starting_point = 0\n",
    "counter = 1\n",
    "\n",
    "while counter <= n:\n",
    "    starting_point = starting_point + counter\n",
    "    counter = counter +1\n",
    "starting_point    "
   ]
  },
  {
   "cell_type": "code",
   "execution_count": 9,
   "id": "af1bb482-3ea4-4560-a9be-8cf846d4eb4e",
   "metadata": {},
   "outputs": [
    {
     "name": "stdin",
     "output_type": "stream",
     "text": [
      "enter your number 3\n"
     ]
    },
    {
     "data": {
      "text/plain": [
       "6"
      ]
     },
     "execution_count": 9,
     "metadata": {},
     "output_type": "execute_result"
    }
   ],
   "source": [
    "number = int(input(\"enter your number\"))\n",
    "factorial = 1\n",
    "while number > 0 :\n",
    "    factorial = factorial *number\n",
    "    number = number -1 \n",
    "factorial\n",
    "    "
   ]
  },
  {
   "cell_type": "code",
   "execution_count": 10,
   "id": "08318956-e296-4d2f-8245-133f6451d633",
   "metadata": {},
   "outputs": [],
   "source": [
    "#Finonacci series "
   ]
  },
  {
   "cell_type": "code",
   "execution_count": 13,
   "id": "78cf50ce-1d85-443f-9d67-a12cff028df6",
   "metadata": {},
   "outputs": [
    {
     "name": "stdin",
     "output_type": "stream",
     "text": [
      "enter the number of element  10\n"
     ]
    },
    {
     "name": "stdout",
     "output_type": "stream",
     "text": [
      "0\n",
      "1\n",
      "1\n",
      "2\n",
      "3\n",
      "5\n",
      "8\n",
      "13\n",
      "21\n",
      "34\n"
     ]
    }
   ],
   "source": [
    "number = int(input(\"enter the number of element \"))\n",
    "a, b = 0, 1\n",
    "counter = 0\n",
    "while counter < number :\n",
    "    print(a)\n",
    "    c = a + b\n",
    "    a = b\n",
    "    b = c \n",
    "    counter= counter +1"
   ]
  },
  {
   "cell_type": "code",
   "execution_count": 15,
   "id": "d2f4a42b-e0a8-444d-af95-ab91bac3661b",
   "metadata": {},
   "outputs": [
    {
     "name": "stdout",
     "output_type": "stream",
     "text": [
      "0\n",
      "1\n",
      "1\n",
      "2\n",
      "3\n",
      "5\n",
      "8\n",
      "13\n",
      "21\n",
      "34\n"
     ]
    }
   ],
   "source": [
    "a, b = 0, 1\n",
    "\n",
    "for i in range (10) :\n",
    "    print(a)\n",
    "    c = a + b\n",
    "    a = b\n",
    "    b = c    "
   ]
  },
  {
   "cell_type": "code",
   "execution_count": 16,
   "id": "91c6b3d1-f615-49b6-b81a-02e2deede910",
   "metadata": {},
   "outputs": [],
   "source": [
    "s = \"sarf\""
   ]
  },
  {
   "cell_type": "code",
   "execution_count": 17,
   "id": "b8294022-f195-48cb-b224-ad08917f3077",
   "metadata": {},
   "outputs": [
    {
     "data": {
      "text/plain": [
       "'fras'"
      ]
     },
     "execution_count": 17,
     "metadata": {},
     "output_type": "execute_result"
    }
   ],
   "source": [
    "s[::-1]"
   ]
  },
  {
   "cell_type": "code",
   "execution_count": 18,
   "id": "65f8e373-6a0f-41de-be0c-fe490de0d5cc",
   "metadata": {},
   "outputs": [
    {
     "name": "stdin",
     "output_type": "stream",
     "text": [
      "enter your string for reversal sarf\n"
     ]
    }
   ],
   "source": [
    "word = input (\"enter your string for reversal\")"
   ]
  },
  {
   "cell_type": "code",
   "execution_count": 21,
   "id": "569b282d-eb22-4050-a4d3-69b417e0ab38",
   "metadata": {},
   "outputs": [
    {
     "name": "stdout",
     "output_type": "stream",
     "text": [
      "fras\n"
     ]
    }
   ],
   "source": [
    "reverse = \"\"\n",
    "length = len(word)\n",
    "while length > 0 :\n",
    "    reverse = reverse + word[length - 1]\n",
    "    length = length - 1\n",
    "print(reverse)\n",
    "    "
   ]
  },
  {
   "cell_type": "code",
   "execution_count": 22,
   "id": "d5fac32b-230a-47f0-98a5-918ff8188321",
   "metadata": {},
   "outputs": [],
   "source": [
    "#print table of numbers "
   ]
  },
  {
   "cell_type": "code",
   "execution_count": 25,
   "id": "a6bbb7a7-8e96-41e9-a196-640318a60a1b",
   "metadata": {},
   "outputs": [
    {
     "name": "stdin",
     "output_type": "stream",
     "text": [
      "enter your number 2\n"
     ]
    },
    {
     "name": "stdout",
     "output_type": "stream",
     "text": [
      "2 * 1 = 2\n",
      "2 * 2 = 4\n",
      "2 * 3 = 6\n",
      "2 * 4 = 8\n",
      "2 * 5 = 10\n",
      "2 * 6 = 12\n",
      "2 * 7 = 14\n",
      "2 * 8 = 16\n",
      "2 * 9 = 18\n",
      "2 * 10 = 20\n",
      "2 * 11 = 22\n",
      "2 * 12 = 24\n",
      "2 * 13 = 26\n",
      "2 * 14 = 28\n",
      "2 * 15 = 30\n",
      "2 * 16 = 32\n",
      "2 * 17 = 34\n",
      "2 * 18 = 36\n",
      "2 * 19 = 38\n",
      "2 * 20 = 40\n"
     ]
    }
   ],
   "source": [
    "n = int(input(\"enter your number\"))\n",
    "i = 1\n",
    "\n",
    "while i <= 20 :\n",
    "    result = n * i\n",
    "    print(n , \"*\", i , \"=\", result)\n",
    "    i = i +1"
   ]
  },
  {
   "cell_type": "code",
   "execution_count": 30,
   "id": "a0c6a426-3fcc-41e5-a988-929f1148a482",
   "metadata": {},
   "outputs": [
    {
     "name": "stdout",
     "output_type": "stream",
     "text": [
      "1\n",
      "2\n",
      "3\n"
     ]
    }
   ],
   "source": [
    "n = 5\n",
    "i = 1\n",
    "while i < n :\n",
    "    print(i)\n",
    "    if i == 3 :\n",
    "        break\n",
    "    i = i + 1\n",
    "else :\n",
    "    print (\"this will be executed once your while complete it successfully\")"
   ]
  },
  {
   "cell_type": "code",
   "execution_count": null,
   "id": "fea17f6d-2fc5-40fd-bba1-b343618ef654",
   "metadata": {},
   "outputs": [],
   "source": []
  }
 ],
 "metadata": {
  "kernelspec": {
   "display_name": "Python 3 (ipykernel)",
   "language": "python",
   "name": "python3"
  },
  "language_info": {
   "codemirror_mode": {
    "name": "ipython",
    "version": 3
   },
   "file_extension": ".py",
   "mimetype": "text/x-python",
   "name": "python",
   "nbconvert_exporter": "python",
   "pygments_lexer": "ipython3",
   "version": "3.10.8"
  }
 },
 "nbformat": 4,
 "nbformat_minor": 5
}
